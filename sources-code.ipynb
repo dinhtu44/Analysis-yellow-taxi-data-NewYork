{
  "nbformat": 4,
  "nbformat_minor": 0,
  "metadata": {
    "colab": {
      "name": "DS105_TAXI_yellow_2020",
      "provenance": [],
      "collapsed_sections": []
    },
    "kernelspec": {
      "display_name": "Python 3",
      "name": "python3"
    },
    "accelerator": "GPU"
  },
  "cells": [
    {
      "cell_type": "markdown",
      "metadata": {
        "id": "S3ByW_pnGMY8"
      },
      "source": [
        "**BÀI TOÁN DỰ ĐOÁN NHU CẦU ĐI XE TAXI MÀU VÀNG CỦA KHÁCH THEO TỪNG KHU VỰC TRONG THÀNH PHỐ NEW YORK**"
      ]
    },
    {
      "cell_type": "markdown",
      "metadata": {
        "id": "nArxrLsHa85L"
      },
      "source": [
        "#DATASET AND IMPORT LIBRARIES\r\n",
        "\r\n",
        "Tên data: 2020 Yellow Taxi Trip Data (January - June)\r\n",
        "\r\n",
        "Kích thước: 16.8M row, 18 Columns\r\n",
        "\r\n",
        "Nguồn: https://data.cityofnewyork.us/Transportation/2020-Yellow-Taxi-Trip-Data-January-June-/kxp8-n2sj\r\n"
      ]
    },
    {
      "cell_type": "code",
      "metadata": {
        "id": "UX3aCviY5HKo",
        "colab": {
          "base_uri": "https://localhost:8080/"
        },
        "outputId": "9ad94fb2-10bc-434c-8f3c-9ee8cf42e97b"
      },
      "source": [
        "from google.colab import drive\n",
        "drive.mount('/content/drive')"
      ],
      "execution_count": 3,
      "outputs": [
        {
          "output_type": "stream",
          "text": [
            "Mounted at /content/drive\n"
          ],
          "name": "stdout"
        }
      ]
    },
    {
      "cell_type": "code",
      "metadata": {
        "colab": {
          "base_uri": "https://localhost:8080/"
        },
        "id": "NKQeNKqQ7oX5",
        "outputId": "742c2370-c362-4b43-efd5-ec85b8f0e500"
      },
      "source": [
        "!pip install \"dask[complete]\"\n",
        "!pip install pyshp"
      ],
      "execution_count": 4,
      "outputs": [
        {
          "output_type": "stream",
          "text": [
            "Requirement already satisfied: dask[complete] in /usr/local/lib/python3.6/dist-packages (2.12.0)\n",
            "Collecting partd>=0.3.10; extra == \"complete\"\n",
            "  Downloading https://files.pythonhosted.org/packages/44/e1/68dbe731c9c067655bff1eca5b7d40c20ca4b23fd5ec9f3d17e201a6f36b/partd-1.1.0-py3-none-any.whl\n",
            "Requirement already satisfied: numpy>=1.13.0; extra == \"complete\" in /usr/local/lib/python3.6/dist-packages (from dask[complete]) (1.19.4)\n",
            "Collecting distributed>=2.0; extra == \"complete\"\n",
            "\u001b[?25l  Downloading https://files.pythonhosted.org/packages/b5/12/3c25bb53c9b508e6332b62c33a8806ec7a33c926d8e32e7e53df0b512b84/distributed-2020.12.0-py3-none-any.whl (669kB)\n",
            "\u001b[K     |████████████████████████████████| 675kB 10.7MB/s \n",
            "\u001b[?25hCollecting fsspec>=0.6.0; extra == \"complete\"\n",
            "\u001b[?25l  Downloading https://files.pythonhosted.org/packages/ec/80/72ac0982cc833945fada4b76c52f0f65435ba4d53bc9317d1c70b5f7e7d5/fsspec-0.8.5-py3-none-any.whl (98kB)\n",
            "\u001b[K     |████████████████████████████████| 102kB 14.1MB/s \n",
            "\u001b[?25hRequirement already satisfied: toolz>=0.7.3; extra == \"complete\" in /usr/local/lib/python3.6/dist-packages (from dask[complete]) (0.11.1)\n",
            "Requirement already satisfied: pandas>=0.23.0; extra == \"complete\" in /usr/local/lib/python3.6/dist-packages (from dask[complete]) (1.1.5)\n",
            "Requirement already satisfied: cloudpickle>=0.2.1; extra == \"complete\" in /usr/local/lib/python3.6/dist-packages (from dask[complete]) (1.3.0)\n",
            "Requirement already satisfied: PyYaml; extra == \"complete\" in /usr/local/lib/python3.6/dist-packages (from dask[complete]) (3.13)\n",
            "Requirement already satisfied: bokeh>=1.0.0; extra == \"complete\" in /usr/local/lib/python3.6/dist-packages (from dask[complete]) (2.1.1)\n",
            "Collecting locket\n",
            "  Downloading https://files.pythonhosted.org/packages/d0/22/3c0f97614e0be8386542facb3a7dcfc2584f7b83608c02333bced641281c/locket-0.2.0.tar.gz\n",
            "Requirement already satisfied: sortedcontainers!=2.0.0,!=2.0.1 in /usr/local/lib/python3.6/dist-packages (from distributed>=2.0; extra == \"complete\"->dask[complete]) (2.3.0)\n",
            "Requirement already satisfied: tornado>=5; python_version < \"3.8\" in /usr/local/lib/python3.6/dist-packages (from distributed>=2.0; extra == \"complete\"->dask[complete]) (5.1.1)\n",
            "Requirement already satisfied: zict>=0.1.3 in /usr/local/lib/python3.6/dist-packages (from distributed>=2.0; extra == \"complete\"->dask[complete]) (2.0.0)\n",
            "Collecting contextvars; python_version < \"3.7\"\n",
            "  Downloading https://files.pythonhosted.org/packages/83/96/55b82d9f13763be9d672622e1b8106c85acb83edd7cc2fa5bc67cd9877e9/contextvars-2.4.tar.gz\n",
            "Requirement already satisfied: psutil>=5.0 in /usr/local/lib/python3.6/dist-packages (from distributed>=2.0; extra == \"complete\"->dask[complete]) (5.4.8)\n",
            "Requirement already satisfied: click>=6.6 in /usr/local/lib/python3.6/dist-packages (from distributed>=2.0; extra == \"complete\"->dask[complete]) (7.1.2)\n",
            "Requirement already satisfied: msgpack>=0.6.0 in /usr/local/lib/python3.6/dist-packages (from distributed>=2.0; extra == \"complete\"->dask[complete]) (1.0.1)\n",
            "Requirement already satisfied: tblib>=1.6.0 in /usr/local/lib/python3.6/dist-packages (from distributed>=2.0; extra == \"complete\"->dask[complete]) (1.7.0)\n",
            "Requirement already satisfied: setuptools in /usr/local/lib/python3.6/dist-packages (from distributed>=2.0; extra == \"complete\"->dask[complete]) (51.0.0)\n",
            "Requirement already satisfied: pytz>=2017.2 in /usr/local/lib/python3.6/dist-packages (from pandas>=0.23.0; extra == \"complete\"->dask[complete]) (2018.9)\n",
            "Requirement already satisfied: python-dateutil>=2.7.3 in /usr/local/lib/python3.6/dist-packages (from pandas>=0.23.0; extra == \"complete\"->dask[complete]) (2.8.1)\n",
            "Requirement already satisfied: Jinja2>=2.7 in /usr/local/lib/python3.6/dist-packages (from bokeh>=1.0.0; extra == \"complete\"->dask[complete]) (2.11.2)\n",
            "Requirement already satisfied: pillow>=4.0 in /usr/local/lib/python3.6/dist-packages (from bokeh>=1.0.0; extra == \"complete\"->dask[complete]) (7.0.0)\n",
            "Requirement already satisfied: packaging>=16.8 in /usr/local/lib/python3.6/dist-packages (from bokeh>=1.0.0; extra == \"complete\"->dask[complete]) (20.8)\n",
            "Requirement already satisfied: typing-extensions>=3.7.4 in /usr/local/lib/python3.6/dist-packages (from bokeh>=1.0.0; extra == \"complete\"->dask[complete]) (3.7.4.3)\n",
            "Requirement already satisfied: heapdict in /usr/local/lib/python3.6/dist-packages (from zict>=0.1.3->distributed>=2.0; extra == \"complete\"->dask[complete]) (1.0.1)\n",
            "Collecting immutables>=0.9\n",
            "\u001b[?25l  Downloading https://files.pythonhosted.org/packages/99/e0/ea6fd4697120327d26773b5a84853f897a68e33d3f9376b00a8ff96e4f63/immutables-0.14-cp36-cp36m-manylinux1_x86_64.whl (98kB)\n",
            "\u001b[K     |████████████████████████████████| 102kB 12.7MB/s \n",
            "\u001b[?25hRequirement already satisfied: six>=1.5 in /usr/local/lib/python3.6/dist-packages (from python-dateutil>=2.7.3->pandas>=0.23.0; extra == \"complete\"->dask[complete]) (1.15.0)\n",
            "Requirement already satisfied: MarkupSafe>=0.23 in /usr/local/lib/python3.6/dist-packages (from Jinja2>=2.7->bokeh>=1.0.0; extra == \"complete\"->dask[complete]) (1.1.1)\n",
            "Requirement already satisfied: pyparsing>=2.0.2 in /usr/local/lib/python3.6/dist-packages (from packaging>=16.8->bokeh>=1.0.0; extra == \"complete\"->dask[complete]) (2.4.7)\n",
            "Building wheels for collected packages: locket, contextvars\n",
            "  Building wheel for locket (setup.py) ... \u001b[?25l\u001b[?25hdone\n",
            "  Created wheel for locket: filename=locket-0.2.0-cp36-none-any.whl size=4042 sha256=4021eaa9f44e1b9fac035eea423f221dcdbd84064d507bfcdb687bbe55b0b5c7\n",
            "  Stored in directory: /root/.cache/pip/wheels/26/1e/e8/4fa236ec931b1a0cdd61578e20d4934d7bf188858723b84698\n",
            "  Building wheel for contextvars (setup.py) ... \u001b[?25l\u001b[?25hdone\n",
            "  Created wheel for contextvars: filename=contextvars-2.4-cp36-none-any.whl size=7667 sha256=210a758a21d4beb61ea82319f37fab0b73e7773c1e8af4ad8783b4dfd784cfd8\n",
            "  Stored in directory: /root/.cache/pip/wheels/a5/7d/68/1ebae2668bda2228686e3c1cf16f2c2384cea6e9334ad5f6de\n",
            "Successfully built locket contextvars\n",
            "\u001b[31mERROR: distributed 2020.12.0 has requirement cloudpickle>=1.5.0, but you'll have cloudpickle 1.3.0 which is incompatible.\u001b[0m\n",
            "\u001b[31mERROR: distributed 2020.12.0 has requirement dask>=2020.12.0, but you'll have dask 2.12.0 which is incompatible.\u001b[0m\n",
            "Installing collected packages: locket, partd, immutables, contextvars, distributed, fsspec\n",
            "  Found existing installation: distributed 1.25.3\n",
            "    Uninstalling distributed-1.25.3:\n",
            "      Successfully uninstalled distributed-1.25.3\n",
            "Successfully installed contextvars-2.4 distributed-2020.12.0 fsspec-0.8.5 immutables-0.14 locket-0.2.0 partd-1.1.0\n",
            "Collecting pyshp\n",
            "\u001b[?25l  Downloading https://files.pythonhosted.org/packages/ca/1f/e9cc2c3fce32e2926581f8b6905831165235464c858ba550b6e9b8ef78c3/pyshp-2.1.2.tar.gz (217kB)\n",
            "\u001b[K     |████████████████████████████████| 225kB 8.5MB/s \n",
            "\u001b[?25hBuilding wheels for collected packages: pyshp\n",
            "  Building wheel for pyshp (setup.py) ... \u001b[?25l\u001b[?25hdone\n",
            "  Created wheel for pyshp: filename=pyshp-2.1.2-cp36-none-any.whl size=36217 sha256=f3a2909ae00c380cad06decda9d0eb346c47d5e44d01c05aece2cb45e8561f1f\n",
            "  Stored in directory: /root/.cache/pip/wheels/96/6c/53/4112475adf3b831da97f083163d0f38ee6daac9c1b13f7afea\n",
            "Successfully built pyshp\n",
            "Installing collected packages: pyshp\n",
            "Successfully installed pyshp-2.1.2\n"
          ],
          "name": "stdout"
        }
      ]
    },
    {
      "cell_type": "code",
      "metadata": {
        "colab": {
          "base_uri": "https://localhost:8080/"
        },
        "id": "7OFjgL4kC7Qz",
        "outputId": "0ffe2117-7f52-4876-9f6a-fed233dc97df"
      },
      "source": [
        "#!pip install --upgrade pip\r\n",
        "#!pip install --upgrade pandas\r\n",
        "!pip install --upgrade scipy\r\n",
        "!pip install --upgrade tensorflow\r\n",
        "#!pip install tensorflow-gpu==1.15\r\n",
        "!pip install --upgrade keras==2.3.0"
      ],
      "execution_count": 5,
      "outputs": [
        {
          "output_type": "stream",
          "text": [
            "Collecting scipy\n",
            "\u001b[?25l  Downloading https://files.pythonhosted.org/packages/c8/89/63171228d5ced148f5ced50305c89e8576ffc695a90b58fe5bb602b910c2/scipy-1.5.4-cp36-cp36m-manylinux1_x86_64.whl (25.9MB)\n",
            "\u001b[K     |████████████████████████████████| 25.9MB 121kB/s \n",
            "\u001b[?25hRequirement already satisfied, skipping upgrade: numpy>=1.14.5 in /usr/local/lib/python3.6/dist-packages (from scipy) (1.19.4)\n",
            "\u001b[31mERROR: albumentations 0.1.12 has requirement imgaug<0.2.7,>=0.2.5, but you'll have imgaug 0.2.9 which is incompatible.\u001b[0m\n",
            "Installing collected packages: scipy\n",
            "  Found existing installation: scipy 1.4.1\n",
            "    Uninstalling scipy-1.4.1:\n",
            "      Successfully uninstalled scipy-1.4.1\n",
            "Successfully installed scipy-1.5.4\n",
            "Requirement already up-to-date: tensorflow in /usr/local/lib/python3.6/dist-packages (2.4.0)\n",
            "Requirement already satisfied, skipping upgrade: opt-einsum~=3.3.0 in /usr/local/lib/python3.6/dist-packages (from tensorflow) (3.3.0)\n",
            "Requirement already satisfied, skipping upgrade: termcolor~=1.1.0 in /usr/local/lib/python3.6/dist-packages (from tensorflow) (1.1.0)\n",
            "Requirement already satisfied, skipping upgrade: gast==0.3.3 in /usr/local/lib/python3.6/dist-packages (from tensorflow) (0.3.3)\n",
            "Requirement already satisfied, skipping upgrade: grpcio~=1.32.0 in /usr/local/lib/python3.6/dist-packages (from tensorflow) (1.32.0)\n",
            "Requirement already satisfied, skipping upgrade: google-pasta~=0.2 in /usr/local/lib/python3.6/dist-packages (from tensorflow) (0.2.0)\n",
            "Requirement already satisfied, skipping upgrade: tensorflow-estimator<2.5.0,>=2.4.0rc0 in /usr/local/lib/python3.6/dist-packages (from tensorflow) (2.4.0)\n",
            "Requirement already satisfied, skipping upgrade: absl-py~=0.10 in /usr/local/lib/python3.6/dist-packages (from tensorflow) (0.10.0)\n",
            "Requirement already satisfied, skipping upgrade: astunparse~=1.6.3 in /usr/local/lib/python3.6/dist-packages (from tensorflow) (1.6.3)\n",
            "Requirement already satisfied, skipping upgrade: wheel~=0.35 in /usr/local/lib/python3.6/dist-packages (from tensorflow) (0.36.2)\n",
            "Requirement already satisfied, skipping upgrade: numpy~=1.19.2 in /usr/local/lib/python3.6/dist-packages (from tensorflow) (1.19.4)\n",
            "Requirement already satisfied, skipping upgrade: keras-preprocessing~=1.1.2 in /usr/local/lib/python3.6/dist-packages (from tensorflow) (1.1.2)\n",
            "Requirement already satisfied, skipping upgrade: h5py~=2.10.0 in /usr/local/lib/python3.6/dist-packages (from tensorflow) (2.10.0)\n",
            "Requirement already satisfied, skipping upgrade: wrapt~=1.12.1 in /usr/local/lib/python3.6/dist-packages (from tensorflow) (1.12.1)\n",
            "Requirement already satisfied, skipping upgrade: tensorboard~=2.4 in /usr/local/lib/python3.6/dist-packages (from tensorflow) (2.4.0)\n",
            "Requirement already satisfied, skipping upgrade: typing-extensions~=3.7.4 in /usr/local/lib/python3.6/dist-packages (from tensorflow) (3.7.4.3)\n",
            "Requirement already satisfied, skipping upgrade: protobuf>=3.9.2 in /usr/local/lib/python3.6/dist-packages (from tensorflow) (3.12.4)\n",
            "Requirement already satisfied, skipping upgrade: flatbuffers~=1.12.0 in /usr/local/lib/python3.6/dist-packages (from tensorflow) (1.12)\n",
            "Requirement already satisfied, skipping upgrade: six~=1.15.0 in /usr/local/lib/python3.6/dist-packages (from tensorflow) (1.15.0)\n",
            "Requirement already satisfied, skipping upgrade: google-auth-oauthlib<0.5,>=0.4.1 in /usr/local/lib/python3.6/dist-packages (from tensorboard~=2.4->tensorflow) (0.4.2)\n",
            "Requirement already satisfied, skipping upgrade: werkzeug>=0.11.15 in /usr/local/lib/python3.6/dist-packages (from tensorboard~=2.4->tensorflow) (1.0.1)\n",
            "Requirement already satisfied, skipping upgrade: markdown>=2.6.8 in /usr/local/lib/python3.6/dist-packages (from tensorboard~=2.4->tensorflow) (3.3.3)\n",
            "Requirement already satisfied, skipping upgrade: requests<3,>=2.21.0 in /usr/local/lib/python3.6/dist-packages (from tensorboard~=2.4->tensorflow) (2.23.0)\n",
            "Requirement already satisfied, skipping upgrade: tensorboard-plugin-wit>=1.6.0 in /usr/local/lib/python3.6/dist-packages (from tensorboard~=2.4->tensorflow) (1.7.0)\n",
            "Requirement already satisfied, skipping upgrade: setuptools>=41.0.0 in /usr/local/lib/python3.6/dist-packages (from tensorboard~=2.4->tensorflow) (51.0.0)\n",
            "Requirement already satisfied, skipping upgrade: google-auth<2,>=1.6.3 in /usr/local/lib/python3.6/dist-packages (from tensorboard~=2.4->tensorflow) (1.17.2)\n",
            "Requirement already satisfied, skipping upgrade: requests-oauthlib>=0.7.0 in /usr/local/lib/python3.6/dist-packages (from google-auth-oauthlib<0.5,>=0.4.1->tensorboard~=2.4->tensorflow) (1.3.0)\n",
            "Requirement already satisfied, skipping upgrade: importlib-metadata; python_version < \"3.8\" in /usr/local/lib/python3.6/dist-packages (from markdown>=2.6.8->tensorboard~=2.4->tensorflow) (3.3.0)\n",
            "Requirement already satisfied, skipping upgrade: idna<3,>=2.5 in /usr/local/lib/python3.6/dist-packages (from requests<3,>=2.21.0->tensorboard~=2.4->tensorflow) (2.10)\n",
            "Requirement already satisfied, skipping upgrade: chardet<4,>=3.0.2 in /usr/local/lib/python3.6/dist-packages (from requests<3,>=2.21.0->tensorboard~=2.4->tensorflow) (3.0.4)\n",
            "Requirement already satisfied, skipping upgrade: certifi>=2017.4.17 in /usr/local/lib/python3.6/dist-packages (from requests<3,>=2.21.0->tensorboard~=2.4->tensorflow) (2020.12.5)\n",
            "Requirement already satisfied, skipping upgrade: urllib3!=1.25.0,!=1.25.1,<1.26,>=1.21.1 in /usr/local/lib/python3.6/dist-packages (from requests<3,>=2.21.0->tensorboard~=2.4->tensorflow) (1.24.3)\n",
            "Requirement already satisfied, skipping upgrade: rsa<5,>=3.1.4; python_version >= \"3\" in /usr/local/lib/python3.6/dist-packages (from google-auth<2,>=1.6.3->tensorboard~=2.4->tensorflow) (4.6)\n",
            "Requirement already satisfied, skipping upgrade: pyasn1-modules>=0.2.1 in /usr/local/lib/python3.6/dist-packages (from google-auth<2,>=1.6.3->tensorboard~=2.4->tensorflow) (0.2.8)\n",
            "Requirement already satisfied, skipping upgrade: cachetools<5.0,>=2.0.0 in /usr/local/lib/python3.6/dist-packages (from google-auth<2,>=1.6.3->tensorboard~=2.4->tensorflow) (4.2.0)\n",
            "Requirement already satisfied, skipping upgrade: oauthlib>=3.0.0 in /usr/local/lib/python3.6/dist-packages (from requests-oauthlib>=0.7.0->google-auth-oauthlib<0.5,>=0.4.1->tensorboard~=2.4->tensorflow) (3.1.0)\n",
            "Requirement already satisfied, skipping upgrade: zipp>=0.5 in /usr/local/lib/python3.6/dist-packages (from importlib-metadata; python_version < \"3.8\"->markdown>=2.6.8->tensorboard~=2.4->tensorflow) (3.4.0)\n",
            "Requirement already satisfied, skipping upgrade: pyasn1>=0.1.3 in /usr/local/lib/python3.6/dist-packages (from rsa<5,>=3.1.4; python_version >= \"3\"->google-auth<2,>=1.6.3->tensorboard~=2.4->tensorflow) (0.4.8)\n",
            "Collecting keras==2.3.0\n",
            "\u001b[?25l  Downloading https://files.pythonhosted.org/packages/1b/18/2e1ef121e5560ac24c7ac9e363aa5fa7006c40563c989e7211aba95b793a/Keras-2.3.0-py2.py3-none-any.whl (377kB)\n",
            "\u001b[K     |████████████████████████████████| 378kB 8.6MB/s \n",
            "\u001b[?25hRequirement already satisfied, skipping upgrade: h5py in /usr/local/lib/python3.6/dist-packages (from keras==2.3.0) (2.10.0)\n",
            "Requirement already satisfied, skipping upgrade: scipy>=0.14 in /usr/local/lib/python3.6/dist-packages (from keras==2.3.0) (1.5.4)\n",
            "Requirement already satisfied, skipping upgrade: pyyaml in /usr/local/lib/python3.6/dist-packages (from keras==2.3.0) (3.13)\n",
            "Collecting keras-applications>=1.0.6\n",
            "\u001b[?25l  Downloading https://files.pythonhosted.org/packages/71/e3/19762fdfc62877ae9102edf6342d71b28fbfd9dea3d2f96a882ce099b03f/Keras_Applications-1.0.8-py3-none-any.whl (50kB)\n",
            "\u001b[K     |████████████████████████████████| 51kB 9.7MB/s \n",
            "\u001b[?25hRequirement already satisfied, skipping upgrade: six>=1.9.0 in /usr/local/lib/python3.6/dist-packages (from keras==2.3.0) (1.15.0)\n",
            "Requirement already satisfied, skipping upgrade: keras-preprocessing>=1.0.5 in /usr/local/lib/python3.6/dist-packages (from keras==2.3.0) (1.1.2)\n",
            "Requirement already satisfied, skipping upgrade: numpy>=1.9.1 in /usr/local/lib/python3.6/dist-packages (from keras==2.3.0) (1.19.4)\n",
            "Installing collected packages: keras-applications, keras\n",
            "  Found existing installation: Keras 2.4.3\n",
            "    Uninstalling Keras-2.4.3:\n",
            "      Successfully uninstalled Keras-2.4.3\n",
            "Successfully installed keras-2.3.0 keras-applications-1.0.8\n"
          ],
          "name": "stdout"
        }
      ]
    },
    {
      "cell_type": "code",
      "metadata": {
        "id": "0kJCNobv9nQ3"
      },
      "source": [
        "import numpy as np\n",
        "import pandas as pd \n",
        "import matplotlib\n",
        "import matplotlib.pyplot as plt\n",
        "import seaborn as sns\n",
        "sns.set_context(\"paper\")\n",
        "\n",
        "\n",
        "from sklearn.cluster import KMeans\n",
        "import matplotlib.pyplot as plt # Graph plot\n",
        "from scipy import stats\n",
        "from datetime import datetime\n",
        "import re\n",
        "import random\n",
        "from math import sqrt\n",
        "import seaborn as sns\n",
        "\n",
        "# Using dask dataframe for data which have a big size as 16.8M lines\n",
        "import pickle\n",
        "import dask.dataframe as dd\n",
        "# For faster processing\n",
        "import dask.multiprocessing"
      ],
      "execution_count": 6,
      "outputs": []
    },
    {
      "cell_type": "markdown",
      "metadata": {
        "id": "saahwDQveNWv"
      },
      "source": [
        "#DEFINE THE PROBLEM - SOLVE\r\n",
        "\r\n",
        "Bộ dữ liệu này ghi lại dữ liệu của các chuyến đi của xe taxi màu Vàng ở New York Mỹ của năm 2020 từ tháng 1 đến tháng 6.\r\n",
        "\r\n",
        "Bài toán của chúng ta ở đây là dự đoán nhu cầu của khách hàng đối với những chiếc taxi màu vàng theo vị trí, để làm được điều này ta phải thăm dò (EDA) sâu từng features có liên quan đến bài toán. Vấn đề ở đây là bộ dữ liệu của chúng ta với số hàng tương đương với số chuyến đi rất rất lớn, một khi đi vào EDA sâu từng features sẽ rất mất thời gian RUN. Vì vậy, em đã dùng một thư viện có sẵn với cấu trúc giống như database có thể truy vấn là dask sẽ làm giảm thời gian thực thi của chúng ta.\r\n",
        "\r\n",
        "Sử dụng modules dataframe trong thư viện Dask với việc chia dữ liệu của chúng ta thành nhiều phân vùng dữ liệu ( partitions ), cụ thể bộ này được chia làm 26 vùng. Link nguồn thuật toán có thể tham khảm ở đây:\r\n",
        "https://docs.dask.org/en/latest/dataframe.html"
      ]
    },
    {
      "cell_type": "code",
      "metadata": {
        "id": "0FO-MLJlolNp"
      },
      "source": [
        "#Format data của thư viện dask\r\n",
        "new_data_types = \\\r\n",
        "{\r\n",
        "'VendorID': 'float64',\r\n",
        "'tpep_pickup_datetime' :      'object',\r\n",
        "'tpep_dropoff_datetime' :     'object',\r\n",
        "'passenger_count' :          'float64',\r\n",
        "'trip_distance' :           'float64',\r\n",
        "'RatecodeID' :               'float64',\r\n",
        "'store_and_fwd_flag' :        'object',\r\n",
        "'PULocationID' :             'float64',\r\n",
        "'DOLocationID' :             'float64',\r\n",
        "'payment_type' :             'float64',\r\n",
        "'fare_amount' :              'float64',\r\n",
        "'extra' :                    'float64',\r\n",
        "'mta_tax' :                  'float64',\r\n",
        "'tip_amount' :               'float64',\r\n",
        "'tolls_amount' :             'float64',\r\n",
        "'improvement_surcharge' :    'float64',\r\n",
        "'total_amount' :             'float64',\r\n",
        "'congestion_surcharge' :     'float64'\r\n",
        "}"
      ],
      "execution_count": 7,
      "outputs": []
    },
    {
      "cell_type": "code",
      "metadata": {
        "id": "KzhO5zC13iso"
      },
      "source": [
        "#Read data use pandas\r\n",
        "#dataset = pd.read_csv('/content/drive/MyDrive/2020_Yellow_Taxi_Trip_Data__January_-_June_.csv')"
      ],
      "execution_count": null,
      "outputs": []
    },
    {
      "cell_type": "code",
      "metadata": {
        "id": "sCnuRScA-LO9"
      },
      "source": [
        "#Read data by using libraries Dask\n",
        "data = dd.read_csv('/content/drive/MyDrive/data_yellow/2020_Yellow_Taxi_Trip_Data__January_-_June_.csv', dtype = new_data_types)"
      ],
      "execution_count": 8,
      "outputs": []
    },
    {
      "cell_type": "code",
      "metadata": {
        "colab": {
          "base_uri": "https://localhost:8080/",
          "height": 277
        },
        "id": "B311jN_wXpJ8",
        "outputId": "fa0b873e-1f6b-4598-8136-83be6927c13e"
      },
      "source": [
        "data"
      ],
      "execution_count": 7,
      "outputs": [
        {
          "output_type": "execute_result",
          "data": {
            "text/html": [
              "<div><strong>Dask DataFrame Structure:</strong></div>\n",
              "<div>\n",
              "<style scoped>\n",
              "    .dataframe tbody tr th:only-of-type {\n",
              "        vertical-align: middle;\n",
              "    }\n",
              "\n",
              "    .dataframe tbody tr th {\n",
              "        vertical-align: top;\n",
              "    }\n",
              "\n",
              "    .dataframe thead th {\n",
              "        text-align: right;\n",
              "    }\n",
              "</style>\n",
              "<table border=\"1\" class=\"dataframe\">\n",
              "  <thead>\n",
              "    <tr style=\"text-align: right;\">\n",
              "      <th></th>\n",
              "      <th>VendorID</th>\n",
              "      <th>tpep_pickup_datetime</th>\n",
              "      <th>tpep_dropoff_datetime</th>\n",
              "      <th>passenger_count</th>\n",
              "      <th>trip_distance</th>\n",
              "      <th>RatecodeID</th>\n",
              "      <th>store_and_fwd_flag</th>\n",
              "      <th>PULocationID</th>\n",
              "      <th>DOLocationID</th>\n",
              "      <th>payment_type</th>\n",
              "      <th>fare_amount</th>\n",
              "      <th>extra</th>\n",
              "      <th>mta_tax</th>\n",
              "      <th>tip_amount</th>\n",
              "      <th>tolls_amount</th>\n",
              "      <th>improvement_surcharge</th>\n",
              "      <th>total_amount</th>\n",
              "      <th>congestion_surcharge</th>\n",
              "    </tr>\n",
              "    <tr>\n",
              "      <th>npartitions=26</th>\n",
              "      <th></th>\n",
              "      <th></th>\n",
              "      <th></th>\n",
              "      <th></th>\n",
              "      <th></th>\n",
              "      <th></th>\n",
              "      <th></th>\n",
              "      <th></th>\n",
              "      <th></th>\n",
              "      <th></th>\n",
              "      <th></th>\n",
              "      <th></th>\n",
              "      <th></th>\n",
              "      <th></th>\n",
              "      <th></th>\n",
              "      <th></th>\n",
              "      <th></th>\n",
              "      <th></th>\n",
              "    </tr>\n",
              "  </thead>\n",
              "  <tbody>\n",
              "    <tr>\n",
              "      <th></th>\n",
              "      <td>float64</td>\n",
              "      <td>object</td>\n",
              "      <td>object</td>\n",
              "      <td>float64</td>\n",
              "      <td>float64</td>\n",
              "      <td>float64</td>\n",
              "      <td>object</td>\n",
              "      <td>float64</td>\n",
              "      <td>float64</td>\n",
              "      <td>float64</td>\n",
              "      <td>float64</td>\n",
              "      <td>float64</td>\n",
              "      <td>float64</td>\n",
              "      <td>float64</td>\n",
              "      <td>float64</td>\n",
              "      <td>float64</td>\n",
              "      <td>float64</td>\n",
              "      <td>float64</td>\n",
              "    </tr>\n",
              "    <tr>\n",
              "      <th></th>\n",
              "      <td>...</td>\n",
              "      <td>...</td>\n",
              "      <td>...</td>\n",
              "      <td>...</td>\n",
              "      <td>...</td>\n",
              "      <td>...</td>\n",
              "      <td>...</td>\n",
              "      <td>...</td>\n",
              "      <td>...</td>\n",
              "      <td>...</td>\n",
              "      <td>...</td>\n",
              "      <td>...</td>\n",
              "      <td>...</td>\n",
              "      <td>...</td>\n",
              "      <td>...</td>\n",
              "      <td>...</td>\n",
              "      <td>...</td>\n",
              "      <td>...</td>\n",
              "    </tr>\n",
              "    <tr>\n",
              "      <th>...</th>\n",
              "      <td>...</td>\n",
              "      <td>...</td>\n",
              "      <td>...</td>\n",
              "      <td>...</td>\n",
              "      <td>...</td>\n",
              "      <td>...</td>\n",
              "      <td>...</td>\n",
              "      <td>...</td>\n",
              "      <td>...</td>\n",
              "      <td>...</td>\n",
              "      <td>...</td>\n",
              "      <td>...</td>\n",
              "      <td>...</td>\n",
              "      <td>...</td>\n",
              "      <td>...</td>\n",
              "      <td>...</td>\n",
              "      <td>...</td>\n",
              "      <td>...</td>\n",
              "    </tr>\n",
              "    <tr>\n",
              "      <th></th>\n",
              "      <td>...</td>\n",
              "      <td>...</td>\n",
              "      <td>...</td>\n",
              "      <td>...</td>\n",
              "      <td>...</td>\n",
              "      <td>...</td>\n",
              "      <td>...</td>\n",
              "      <td>...</td>\n",
              "      <td>...</td>\n",
              "      <td>...</td>\n",
              "      <td>...</td>\n",
              "      <td>...</td>\n",
              "      <td>...</td>\n",
              "      <td>...</td>\n",
              "      <td>...</td>\n",
              "      <td>...</td>\n",
              "      <td>...</td>\n",
              "      <td>...</td>\n",
              "    </tr>\n",
              "    <tr>\n",
              "      <th></th>\n",
              "      <td>...</td>\n",
              "      <td>...</td>\n",
              "      <td>...</td>\n",
              "      <td>...</td>\n",
              "      <td>...</td>\n",
              "      <td>...</td>\n",
              "      <td>...</td>\n",
              "      <td>...</td>\n",
              "      <td>...</td>\n",
              "      <td>...</td>\n",
              "      <td>...</td>\n",
              "      <td>...</td>\n",
              "      <td>...</td>\n",
              "      <td>...</td>\n",
              "      <td>...</td>\n",
              "      <td>...</td>\n",
              "      <td>...</td>\n",
              "      <td>...</td>\n",
              "    </tr>\n",
              "  </tbody>\n",
              "</table>\n",
              "</div>\n",
              "<div>Dask Name: from-delayed, 78 tasks</div>"
            ],
            "text/plain": [
              "Dask DataFrame Structure:\n",
              "               VendorID tpep_pickup_datetime tpep_dropoff_datetime passenger_count trip_distance RatecodeID store_and_fwd_flag PULocationID DOLocationID payment_type fare_amount    extra  mta_tax tip_amount tolls_amount improvement_surcharge total_amount congestion_surcharge\n",
              "npartitions=26                                                                                                                                                                                                                                                                     \n",
              "                float64               object                object         float64       float64    float64             object      float64      float64      float64     float64  float64  float64    float64      float64               float64      float64              float64\n",
              "                    ...                  ...                   ...             ...           ...        ...                ...          ...          ...          ...         ...      ...      ...        ...          ...                   ...          ...                  ...\n",
              "...                 ...                  ...                   ...             ...           ...        ...                ...          ...          ...          ...         ...      ...      ...        ...          ...                   ...          ...                  ...\n",
              "                    ...                  ...                   ...             ...           ...        ...                ...          ...          ...          ...         ...      ...      ...        ...          ...                   ...          ...                  ...\n",
              "                    ...                  ...                   ...             ...           ...        ...                ...          ...          ...          ...         ...      ...      ...        ...          ...                   ...          ...                  ...\n",
              "Dask Name: from-delayed, 78 tasks"
            ]
          },
          "metadata": {
            "tags": []
          },
          "execution_count": 7
        }
      ]
    },
    {
      "cell_type": "code",
      "metadata": {
        "colab": {
          "base_uri": "https://localhost:8080/"
        },
        "id": "QGABEcTwbMbs",
        "outputId": "e19f2512-0608-4d06-b09c-43550db9b499"
      },
      "source": [
        "data.npartitions"
      ],
      "execution_count": 8,
      "outputs": [
        {
          "output_type": "execute_result",
          "data": {
            "text/plain": [
              "26"
            ]
          },
          "metadata": {
            "tags": []
          },
          "execution_count": 8
        }
      ]
    },
    {
      "cell_type": "code",
      "metadata": {
        "colab": {
          "base_uri": "https://localhost:8080/",
          "height": 419
        },
        "id": "3qlEdiZBYkm6",
        "outputId": "5861df52-0441-4065-ed6e-2f22e3b668a8"
      },
      "source": [
        "data.partitions[0].compute()"
      ],
      "execution_count": 9,
      "outputs": [
        {
          "output_type": "execute_result",
          "data": {
            "text/html": [
              "<div>\n",
              "<style scoped>\n",
              "    .dataframe tbody tr th:only-of-type {\n",
              "        vertical-align: middle;\n",
              "    }\n",
              "\n",
              "    .dataframe tbody tr th {\n",
              "        vertical-align: top;\n",
              "    }\n",
              "\n",
              "    .dataframe thead th {\n",
              "        text-align: right;\n",
              "    }\n",
              "</style>\n",
              "<table border=\"1\" class=\"dataframe\">\n",
              "  <thead>\n",
              "    <tr style=\"text-align: right;\">\n",
              "      <th></th>\n",
              "      <th>VendorID</th>\n",
              "      <th>tpep_pickup_datetime</th>\n",
              "      <th>tpep_dropoff_datetime</th>\n",
              "      <th>passenger_count</th>\n",
              "      <th>trip_distance</th>\n",
              "      <th>RatecodeID</th>\n",
              "      <th>store_and_fwd_flag</th>\n",
              "      <th>PULocationID</th>\n",
              "      <th>DOLocationID</th>\n",
              "      <th>payment_type</th>\n",
              "      <th>fare_amount</th>\n",
              "      <th>extra</th>\n",
              "      <th>mta_tax</th>\n",
              "      <th>tip_amount</th>\n",
              "      <th>tolls_amount</th>\n",
              "      <th>improvement_surcharge</th>\n",
              "      <th>total_amount</th>\n",
              "      <th>congestion_surcharge</th>\n",
              "    </tr>\n",
              "  </thead>\n",
              "  <tbody>\n",
              "    <tr>\n",
              "      <th>0</th>\n",
              "      <td>1.0</td>\n",
              "      <td>01/01/2020 12:28:15 AM</td>\n",
              "      <td>01/01/2020 12:33:03 AM</td>\n",
              "      <td>1.0</td>\n",
              "      <td>1.20</td>\n",
              "      <td>1.0</td>\n",
              "      <td>N</td>\n",
              "      <td>238.0</td>\n",
              "      <td>239.0</td>\n",
              "      <td>1.0</td>\n",
              "      <td>6.0</td>\n",
              "      <td>3.0</td>\n",
              "      <td>0.5</td>\n",
              "      <td>1.47</td>\n",
              "      <td>0.00</td>\n",
              "      <td>0.3</td>\n",
              "      <td>11.27</td>\n",
              "      <td>2.5</td>\n",
              "    </tr>\n",
              "    <tr>\n",
              "      <th>1</th>\n",
              "      <td>1.0</td>\n",
              "      <td>01/01/2020 12:35:39 AM</td>\n",
              "      <td>01/01/2020 12:43:04 AM</td>\n",
              "      <td>1.0</td>\n",
              "      <td>1.20</td>\n",
              "      <td>1.0</td>\n",
              "      <td>N</td>\n",
              "      <td>239.0</td>\n",
              "      <td>238.0</td>\n",
              "      <td>1.0</td>\n",
              "      <td>7.0</td>\n",
              "      <td>3.0</td>\n",
              "      <td>0.5</td>\n",
              "      <td>1.50</td>\n",
              "      <td>0.00</td>\n",
              "      <td>0.3</td>\n",
              "      <td>12.30</td>\n",
              "      <td>2.5</td>\n",
              "    </tr>\n",
              "    <tr>\n",
              "      <th>2</th>\n",
              "      <td>1.0</td>\n",
              "      <td>01/01/2020 12:47:41 AM</td>\n",
              "      <td>01/01/2020 12:53:52 AM</td>\n",
              "      <td>1.0</td>\n",
              "      <td>0.60</td>\n",
              "      <td>1.0</td>\n",
              "      <td>N</td>\n",
              "      <td>238.0</td>\n",
              "      <td>238.0</td>\n",
              "      <td>1.0</td>\n",
              "      <td>6.0</td>\n",
              "      <td>3.0</td>\n",
              "      <td>0.5</td>\n",
              "      <td>1.00</td>\n",
              "      <td>0.00</td>\n",
              "      <td>0.3</td>\n",
              "      <td>10.80</td>\n",
              "      <td>2.5</td>\n",
              "    </tr>\n",
              "    <tr>\n",
              "      <th>3</th>\n",
              "      <td>1.0</td>\n",
              "      <td>01/01/2020 12:55:23 AM</td>\n",
              "      <td>01/01/2020 01:00:14 AM</td>\n",
              "      <td>1.0</td>\n",
              "      <td>0.80</td>\n",
              "      <td>1.0</td>\n",
              "      <td>N</td>\n",
              "      <td>238.0</td>\n",
              "      <td>151.0</td>\n",
              "      <td>1.0</td>\n",
              "      <td>5.5</td>\n",
              "      <td>0.5</td>\n",
              "      <td>0.5</td>\n",
              "      <td>1.36</td>\n",
              "      <td>0.00</td>\n",
              "      <td>0.3</td>\n",
              "      <td>8.16</td>\n",
              "      <td>0.0</td>\n",
              "    </tr>\n",
              "    <tr>\n",
              "      <th>4</th>\n",
              "      <td>2.0</td>\n",
              "      <td>01/01/2020 12:01:58 AM</td>\n",
              "      <td>01/01/2020 12:04:16 AM</td>\n",
              "      <td>1.0</td>\n",
              "      <td>0.00</td>\n",
              "      <td>1.0</td>\n",
              "      <td>N</td>\n",
              "      <td>193.0</td>\n",
              "      <td>193.0</td>\n",
              "      <td>2.0</td>\n",
              "      <td>3.5</td>\n",
              "      <td>0.5</td>\n",
              "      <td>0.5</td>\n",
              "      <td>0.00</td>\n",
              "      <td>0.00</td>\n",
              "      <td>0.3</td>\n",
              "      <td>4.80</td>\n",
              "      <td>0.0</td>\n",
              "    </tr>\n",
              "    <tr>\n",
              "      <th>...</th>\n",
              "      <td>...</td>\n",
              "      <td>...</td>\n",
              "      <td>...</td>\n",
              "      <td>...</td>\n",
              "      <td>...</td>\n",
              "      <td>...</td>\n",
              "      <td>...</td>\n",
              "      <td>...</td>\n",
              "      <td>...</td>\n",
              "      <td>...</td>\n",
              "      <td>...</td>\n",
              "      <td>...</td>\n",
              "      <td>...</td>\n",
              "      <td>...</td>\n",
              "      <td>...</td>\n",
              "      <td>...</td>\n",
              "      <td>...</td>\n",
              "      <td>...</td>\n",
              "    </tr>\n",
              "    <tr>\n",
              "      <th>658588</th>\n",
              "      <td>1.0</td>\n",
              "      <td>01/04/2020 09:47:29 PM</td>\n",
              "      <td>01/04/2020 09:59:43 PM</td>\n",
              "      <td>2.0</td>\n",
              "      <td>1.40</td>\n",
              "      <td>1.0</td>\n",
              "      <td>N</td>\n",
              "      <td>249.0</td>\n",
              "      <td>211.0</td>\n",
              "      <td>1.0</td>\n",
              "      <td>9.0</td>\n",
              "      <td>3.0</td>\n",
              "      <td>0.5</td>\n",
              "      <td>1.54</td>\n",
              "      <td>0.00</td>\n",
              "      <td>0.3</td>\n",
              "      <td>14.34</td>\n",
              "      <td>2.5</td>\n",
              "    </tr>\n",
              "    <tr>\n",
              "      <th>658589</th>\n",
              "      <td>1.0</td>\n",
              "      <td>01/04/2020 09:25:29 PM</td>\n",
              "      <td>01/04/2020 09:38:31 PM</td>\n",
              "      <td>1.0</td>\n",
              "      <td>6.20</td>\n",
              "      <td>1.0</td>\n",
              "      <td>N</td>\n",
              "      <td>140.0</td>\n",
              "      <td>244.0</td>\n",
              "      <td>2.0</td>\n",
              "      <td>18.5</td>\n",
              "      <td>3.0</td>\n",
              "      <td>0.5</td>\n",
              "      <td>0.00</td>\n",
              "      <td>0.00</td>\n",
              "      <td>0.3</td>\n",
              "      <td>22.30</td>\n",
              "      <td>2.5</td>\n",
              "    </tr>\n",
              "    <tr>\n",
              "      <th>658590</th>\n",
              "      <td>2.0</td>\n",
              "      <td>01/04/2020 09:59:42 PM</td>\n",
              "      <td>01/04/2020 10:28:57 PM</td>\n",
              "      <td>1.0</td>\n",
              "      <td>10.54</td>\n",
              "      <td>1.0</td>\n",
              "      <td>N</td>\n",
              "      <td>138.0</td>\n",
              "      <td>50.0</td>\n",
              "      <td>1.0</td>\n",
              "      <td>32.5</td>\n",
              "      <td>0.5</td>\n",
              "      <td>0.5</td>\n",
              "      <td>12.73</td>\n",
              "      <td>6.12</td>\n",
              "      <td>0.3</td>\n",
              "      <td>55.15</td>\n",
              "      <td>2.5</td>\n",
              "    </tr>\n",
              "    <tr>\n",
              "      <th>658591</th>\n",
              "      <td>2.0</td>\n",
              "      <td>01/04/2020 09:07:44 PM</td>\n",
              "      <td>01/04/2020 09:16:15 PM</td>\n",
              "      <td>1.0</td>\n",
              "      <td>1.01</td>\n",
              "      <td>1.0</td>\n",
              "      <td>N</td>\n",
              "      <td>107.0</td>\n",
              "      <td>164.0</td>\n",
              "      <td>1.0</td>\n",
              "      <td>7.0</td>\n",
              "      <td>0.5</td>\n",
              "      <td>0.5</td>\n",
              "      <td>1.62</td>\n",
              "      <td>0.00</td>\n",
              "      <td>0.3</td>\n",
              "      <td>12.42</td>\n",
              "      <td>2.5</td>\n",
              "    </tr>\n",
              "    <tr>\n",
              "      <th>658592</th>\n",
              "      <td>2.0</td>\n",
              "      <td>01/04/2020 09:17:14 PM</td>\n",
              "      <td>01/04/2020 09:26:35 PM</td>\n",
              "      <td>1.0</td>\n",
              "      <td>1.43</td>\n",
              "      <td>1.0</td>\n",
              "      <td>N</td>\n",
              "      <td>170.0</td>\n",
              "      <td>224.0</td>\n",
              "      <td>1.0</td>\n",
              "      <td>7.5</td>\n",
              "      <td>0.5</td>\n",
              "      <td>0.5</td>\n",
              "      <td>2.82</td>\n",
              "      <td>0.00</td>\n",
              "      <td>0.3</td>\n",
              "      <td>14.12</td>\n",
              "      <td>2.5</td>\n",
              "    </tr>\n",
              "  </tbody>\n",
              "</table>\n",
              "<p>658593 rows × 18 columns</p>\n",
              "</div>"
            ],
            "text/plain": [
              "        VendorID    tpep_pickup_datetime  ... total_amount  congestion_surcharge\n",
              "0            1.0  01/01/2020 12:28:15 AM  ...        11.27                   2.5\n",
              "1            1.0  01/01/2020 12:35:39 AM  ...        12.30                   2.5\n",
              "2            1.0  01/01/2020 12:47:41 AM  ...        10.80                   2.5\n",
              "3            1.0  01/01/2020 12:55:23 AM  ...         8.16                   0.0\n",
              "4            2.0  01/01/2020 12:01:58 AM  ...         4.80                   0.0\n",
              "...          ...                     ...  ...          ...                   ...\n",
              "658588       1.0  01/04/2020 09:47:29 PM  ...        14.34                   2.5\n",
              "658589       1.0  01/04/2020 09:25:29 PM  ...        22.30                   2.5\n",
              "658590       2.0  01/04/2020 09:59:42 PM  ...        55.15                   2.5\n",
              "658591       2.0  01/04/2020 09:07:44 PM  ...        12.42                   2.5\n",
              "658592       2.0  01/04/2020 09:17:14 PM  ...        14.12                   2.5\n",
              "\n",
              "[658593 rows x 18 columns]"
            ]
          },
          "metadata": {
            "tags": []
          },
          "execution_count": 9
        }
      ]
    },
    {
      "cell_type": "code",
      "metadata": {
        "colab": {
          "base_uri": "https://localhost:8080/",
          "height": 419
        },
        "id": "HvAndc32ZaB7",
        "outputId": "2278fd7f-b1b1-45aa-9602-1a02e5d38734"
      },
      "source": [
        "data.partitions[25].compute()"
      ],
      "execution_count": 12,
      "outputs": [
        {
          "output_type": "execute_result",
          "data": {
            "text/html": [
              "<div>\n",
              "<style scoped>\n",
              "    .dataframe tbody tr th:only-of-type {\n",
              "        vertical-align: middle;\n",
              "    }\n",
              "\n",
              "    .dataframe tbody tr th {\n",
              "        vertical-align: top;\n",
              "    }\n",
              "\n",
              "    .dataframe thead th {\n",
              "        text-align: right;\n",
              "    }\n",
              "</style>\n",
              "<table border=\"1\" class=\"dataframe\">\n",
              "  <thead>\n",
              "    <tr style=\"text-align: right;\">\n",
              "      <th></th>\n",
              "      <th>VendorID</th>\n",
              "      <th>tpep_pickup_datetime</th>\n",
              "      <th>tpep_dropoff_datetime</th>\n",
              "      <th>passenger_count</th>\n",
              "      <th>trip_distance</th>\n",
              "      <th>RatecodeID</th>\n",
              "      <th>store_and_fwd_flag</th>\n",
              "      <th>PULocationID</th>\n",
              "      <th>DOLocationID</th>\n",
              "      <th>payment_type</th>\n",
              "      <th>fare_amount</th>\n",
              "      <th>extra</th>\n",
              "      <th>mta_tax</th>\n",
              "      <th>tip_amount</th>\n",
              "      <th>tolls_amount</th>\n",
              "      <th>improvement_surcharge</th>\n",
              "      <th>total_amount</th>\n",
              "      <th>congestion_surcharge</th>\n",
              "    </tr>\n",
              "  </thead>\n",
              "  <tbody>\n",
              "    <tr>\n",
              "      <th>0</th>\n",
              "      <td>2.0</td>\n",
              "      <td>06/11/2020 07:39:38 AM</td>\n",
              "      <td>06/11/2020 07:51:31 AM</td>\n",
              "      <td>1.0</td>\n",
              "      <td>1.68</td>\n",
              "      <td>1.0</td>\n",
              "      <td>N</td>\n",
              "      <td>74.0</td>\n",
              "      <td>263.0</td>\n",
              "      <td>1.0</td>\n",
              "      <td>9.50</td>\n",
              "      <td>0.0</td>\n",
              "      <td>0.5</td>\n",
              "      <td>1.08</td>\n",
              "      <td>0.00</td>\n",
              "      <td>0.3</td>\n",
              "      <td>13.88</td>\n",
              "      <td>2.5</td>\n",
              "    </tr>\n",
              "    <tr>\n",
              "      <th>1</th>\n",
              "      <td>2.0</td>\n",
              "      <td>06/11/2020 07:20:33 AM</td>\n",
              "      <td>06/11/2020 07:30:38 AM</td>\n",
              "      <td>1.0</td>\n",
              "      <td>2.38</td>\n",
              "      <td>1.0</td>\n",
              "      <td>N</td>\n",
              "      <td>239.0</td>\n",
              "      <td>246.0</td>\n",
              "      <td>1.0</td>\n",
              "      <td>10.00</td>\n",
              "      <td>0.0</td>\n",
              "      <td>0.5</td>\n",
              "      <td>1.50</td>\n",
              "      <td>0.00</td>\n",
              "      <td>0.3</td>\n",
              "      <td>14.80</td>\n",
              "      <td>2.5</td>\n",
              "    </tr>\n",
              "    <tr>\n",
              "      <th>2</th>\n",
              "      <td>1.0</td>\n",
              "      <td>06/11/2020 07:10:16 AM</td>\n",
              "      <td>06/11/2020 07:12:59 AM</td>\n",
              "      <td>1.0</td>\n",
              "      <td>0.40</td>\n",
              "      <td>1.0</td>\n",
              "      <td>N</td>\n",
              "      <td>224.0</td>\n",
              "      <td>107.0</td>\n",
              "      <td>1.0</td>\n",
              "      <td>4.00</td>\n",
              "      <td>2.5</td>\n",
              "      <td>0.5</td>\n",
              "      <td>1.10</td>\n",
              "      <td>0.00</td>\n",
              "      <td>0.3</td>\n",
              "      <td>8.40</td>\n",
              "      <td>2.5</td>\n",
              "    </tr>\n",
              "    <tr>\n",
              "      <th>3</th>\n",
              "      <td>1.0</td>\n",
              "      <td>06/11/2020 07:17:10 AM</td>\n",
              "      <td>06/11/2020 07:30:03 AM</td>\n",
              "      <td>1.0</td>\n",
              "      <td>2.20</td>\n",
              "      <td>1.0</td>\n",
              "      <td>N</td>\n",
              "      <td>224.0</td>\n",
              "      <td>100.0</td>\n",
              "      <td>1.0</td>\n",
              "      <td>10.50</td>\n",
              "      <td>2.5</td>\n",
              "      <td>0.5</td>\n",
              "      <td>0.00</td>\n",
              "      <td>0.00</td>\n",
              "      <td>0.3</td>\n",
              "      <td>13.80</td>\n",
              "      <td>2.5</td>\n",
              "    </tr>\n",
              "    <tr>\n",
              "      <th>4</th>\n",
              "      <td>1.0</td>\n",
              "      <td>06/11/2020 07:59:34 AM</td>\n",
              "      <td>06/11/2020 08:11:12 AM</td>\n",
              "      <td>1.0</td>\n",
              "      <td>2.80</td>\n",
              "      <td>1.0</td>\n",
              "      <td>N</td>\n",
              "      <td>224.0</td>\n",
              "      <td>140.0</td>\n",
              "      <td>2.0</td>\n",
              "      <td>11.00</td>\n",
              "      <td>2.5</td>\n",
              "      <td>0.5</td>\n",
              "      <td>0.00</td>\n",
              "      <td>0.00</td>\n",
              "      <td>0.3</td>\n",
              "      <td>14.30</td>\n",
              "      <td>2.5</td>\n",
              "    </tr>\n",
              "    <tr>\n",
              "      <th>...</th>\n",
              "      <td>...</td>\n",
              "      <td>...</td>\n",
              "      <td>...</td>\n",
              "      <td>...</td>\n",
              "      <td>...</td>\n",
              "      <td>...</td>\n",
              "      <td>...</td>\n",
              "      <td>...</td>\n",
              "      <td>...</td>\n",
              "      <td>...</td>\n",
              "      <td>...</td>\n",
              "      <td>...</td>\n",
              "      <td>...</td>\n",
              "      <td>...</td>\n",
              "      <td>...</td>\n",
              "      <td>...</td>\n",
              "      <td>...</td>\n",
              "      <td>...</td>\n",
              "    </tr>\n",
              "    <tr>\n",
              "      <th>413581</th>\n",
              "      <td>NaN</td>\n",
              "      <td>06/30/2020 11:05:00 PM</td>\n",
              "      <td>06/30/2020 11:32:00 PM</td>\n",
              "      <td>NaN</td>\n",
              "      <td>12.96</td>\n",
              "      <td>NaN</td>\n",
              "      <td>NaN</td>\n",
              "      <td>17.0</td>\n",
              "      <td>69.0</td>\n",
              "      <td>NaN</td>\n",
              "      <td>32.91</td>\n",
              "      <td>0.0</td>\n",
              "      <td>0.5</td>\n",
              "      <td>2.75</td>\n",
              "      <td>6.12</td>\n",
              "      <td>0.3</td>\n",
              "      <td>42.58</td>\n",
              "      <td>0.0</td>\n",
              "    </tr>\n",
              "    <tr>\n",
              "      <th>413582</th>\n",
              "      <td>NaN</td>\n",
              "      <td>06/30/2020 11:21:47 PM</td>\n",
              "      <td>06/30/2020 11:25:24 PM</td>\n",
              "      <td>NaN</td>\n",
              "      <td>0.36</td>\n",
              "      <td>NaN</td>\n",
              "      <td>NaN</td>\n",
              "      <td>41.0</td>\n",
              "      <td>41.0</td>\n",
              "      <td>NaN</td>\n",
              "      <td>11.45</td>\n",
              "      <td>0.0</td>\n",
              "      <td>0.5</td>\n",
              "      <td>2.75</td>\n",
              "      <td>0.00</td>\n",
              "      <td>0.3</td>\n",
              "      <td>15.00</td>\n",
              "      <td>0.0</td>\n",
              "    </tr>\n",
              "    <tr>\n",
              "      <th>413583</th>\n",
              "      <td>NaN</td>\n",
              "      <td>06/30/2020 11:34:00 PM</td>\n",
              "      <td>06/30/2020 11:44:00 PM</td>\n",
              "      <td>NaN</td>\n",
              "      <td>2.36</td>\n",
              "      <td>NaN</td>\n",
              "      <td>NaN</td>\n",
              "      <td>242.0</td>\n",
              "      <td>81.0</td>\n",
              "      <td>NaN</td>\n",
              "      <td>18.45</td>\n",
              "      <td>0.0</td>\n",
              "      <td>0.5</td>\n",
              "      <td>2.75</td>\n",
              "      <td>0.00</td>\n",
              "      <td>0.3</td>\n",
              "      <td>22.00</td>\n",
              "      <td>0.0</td>\n",
              "    </tr>\n",
              "    <tr>\n",
              "      <th>413584</th>\n",
              "      <td>NaN</td>\n",
              "      <td>06/30/2020 11:22:47 PM</td>\n",
              "      <td>06/30/2020 11:42:01 PM</td>\n",
              "      <td>NaN</td>\n",
              "      <td>5.50</td>\n",
              "      <td>NaN</td>\n",
              "      <td>NaN</td>\n",
              "      <td>14.0</td>\n",
              "      <td>118.0</td>\n",
              "      <td>NaN</td>\n",
              "      <td>15.90</td>\n",
              "      <td>0.0</td>\n",
              "      <td>0.5</td>\n",
              "      <td>6.23</td>\n",
              "      <td>12.24</td>\n",
              "      <td>0.3</td>\n",
              "      <td>35.17</td>\n",
              "      <td>0.0</td>\n",
              "    </tr>\n",
              "    <tr>\n",
              "      <th>413585</th>\n",
              "      <td>NaN</td>\n",
              "      <td>06/30/2020 11:56:18 PM</td>\n",
              "      <td>07/01/2020 12:27:19 AM</td>\n",
              "      <td>NaN</td>\n",
              "      <td>9.59</td>\n",
              "      <td>NaN</td>\n",
              "      <td>NaN</td>\n",
              "      <td>61.0</td>\n",
              "      <td>137.0</td>\n",
              "      <td>NaN</td>\n",
              "      <td>29.68</td>\n",
              "      <td>0.0</td>\n",
              "      <td>0.5</td>\n",
              "      <td>0.00</td>\n",
              "      <td>0.00</td>\n",
              "      <td>0.3</td>\n",
              "      <td>32.98</td>\n",
              "      <td>2.5</td>\n",
              "    </tr>\n",
              "  </tbody>\n",
              "</table>\n",
              "<p>413586 rows × 18 columns</p>\n",
              "</div>"
            ],
            "text/plain": [
              "        VendorID    tpep_pickup_datetime  ... total_amount  congestion_surcharge\n",
              "0            2.0  06/11/2020 07:39:38 AM  ...        13.88                   2.5\n",
              "1            2.0  06/11/2020 07:20:33 AM  ...        14.80                   2.5\n",
              "2            1.0  06/11/2020 07:10:16 AM  ...         8.40                   2.5\n",
              "3            1.0  06/11/2020 07:17:10 AM  ...        13.80                   2.5\n",
              "4            1.0  06/11/2020 07:59:34 AM  ...        14.30                   2.5\n",
              "...          ...                     ...  ...          ...                   ...\n",
              "413581       NaN  06/30/2020 11:05:00 PM  ...        42.58                   0.0\n",
              "413582       NaN  06/30/2020 11:21:47 PM  ...        15.00                   0.0\n",
              "413583       NaN  06/30/2020 11:34:00 PM  ...        22.00                   0.0\n",
              "413584       NaN  06/30/2020 11:22:47 PM  ...        35.17                   0.0\n",
              "413585       NaN  06/30/2020 11:56:18 PM  ...        32.98                   2.5\n",
              "\n",
              "[413586 rows x 18 columns]"
            ]
          },
          "metadata": {
            "tags": []
          },
          "execution_count": 12
        }
      ]
    },
    {
      "cell_type": "code",
      "metadata": {
        "colab": {
          "base_uri": "https://localhost:8080/"
        },
        "id": "_1jQNqromoD1",
        "outputId": "974bbf5e-3eff-4d2e-82b7-46d5f914de9d"
      },
      "source": [
        "len(data)"
      ],
      "execution_count": 13,
      "outputs": [
        {
          "output_type": "execute_result",
          "data": {
            "text/plain": [
              "16847778"
            ]
          },
          "metadata": {
            "tags": []
          },
          "execution_count": 13
        }
      ]
    },
    {
      "cell_type": "code",
      "metadata": {
        "colab": {
          "base_uri": "https://localhost:8080/"
        },
        "id": "YnqoPj_0_96_",
        "outputId": "ef15a968-cf7b-4c06-b4d7-0b25e9f26110"
      },
      "source": [
        "data.columns"
      ],
      "execution_count": 14,
      "outputs": [
        {
          "output_type": "execute_result",
          "data": {
            "text/plain": [
              "Index(['VendorID', 'tpep_pickup_datetime', 'tpep_dropoff_datetime',\n",
              "       'passenger_count', 'trip_distance', 'RatecodeID', 'store_and_fwd_flag',\n",
              "       'PULocationID', 'DOLocationID', 'payment_type', 'fare_amount', 'extra',\n",
              "       'mta_tax', 'tip_amount', 'tolls_amount', 'improvement_surcharge',\n",
              "       'total_amount', 'congestion_surcharge'],\n",
              "      dtype='object')"
            ]
          },
          "metadata": {
            "tags": []
          },
          "execution_count": 14
        }
      ]
    },
    {
      "cell_type": "code",
      "metadata": {
        "colab": {
          "base_uri": "https://localhost:8080/"
        },
        "id": "brrRz6HjpIb6",
        "outputId": "9e3e6815-c0a8-4c6b-af01-e48118decfc2"
      },
      "source": [
        "data.dtypes"
      ],
      "execution_count": 15,
      "outputs": [
        {
          "output_type": "execute_result",
          "data": {
            "text/plain": [
              "VendorID                 float64\n",
              "tpep_pickup_datetime      object\n",
              "tpep_dropoff_datetime     object\n",
              "passenger_count          float64\n",
              "trip_distance            float64\n",
              "RatecodeID               float64\n",
              "store_and_fwd_flag        object\n",
              "PULocationID             float64\n",
              "DOLocationID             float64\n",
              "payment_type             float64\n",
              "fare_amount              float64\n",
              "extra                    float64\n",
              "mta_tax                  float64\n",
              "tip_amount               float64\n",
              "tolls_amount             float64\n",
              "improvement_surcharge    float64\n",
              "total_amount             float64\n",
              "congestion_surcharge     float64\n",
              "dtype: object"
            ]
          },
          "metadata": {
            "tags": []
          },
          "execution_count": 15
        }
      ]
    },
    {
      "cell_type": "code",
      "metadata": {
        "id": "6D7hA0QYmLO8"
      },
      "source": [
        "final_data_types = \\\r\n",
        "{\r\n",
        "'VendorID': 'float64',\r\n",
        "'tpep_pickup_datetime' :      'datetime64[ns]',\r\n",
        "'tpep_dropoff_datetime' :     'datetime64[ns]',\r\n",
        "'passenger_count' :          'float64',\r\n",
        "'trip_distance' :           'float64',\r\n",
        "'RatecodeID' :               'float64',\r\n",
        "'store_and_fwd_flag' :        'object',\r\n",
        "'PULocationID' :             'float64',\r\n",
        "'DOLocationID' :             'float64',\r\n",
        "'payment_type' :             'float64',\r\n",
        "'fare_amount' :              'float64',\r\n",
        "'extra' :                    'float64',\r\n",
        "'mta_tax' :                  'float64',\r\n",
        "'tip_amount' :               'float64',\r\n",
        "'tolls_amount' :             'float64',\r\n",
        "'improvement_surcharge' :    'float64',\r\n",
        "'total_amount' :             'float64',\r\n",
        "'congestion_surcharge' :     'float64'\r\n",
        "}"
      ],
      "execution_count": 8,
      "outputs": []
    },
    {
      "cell_type": "markdown",
      "metadata": {
        "id": "bT4Jk23UmHEb"
      },
      "source": [
        "#EXPLORATORY DATA ANALYSIS"
      ]
    },
    {
      "cell_type": "markdown",
      "metadata": {
        "id": "vyBbV7bYbFgZ"
      },
      "source": [
        "##Thăm dò dữ liệu của 2 cột thời gian giữa các partition"
      ]
    },
    {
      "cell_type": "code",
      "metadata": {
        "id": "95TRiHocFskE"
      },
      "source": [
        "# convert string to numpy datetype\n",
        "def convert_dates(df):\n",
        "    df = df.assign(tpep_pickup_datetime=pd.to_datetime(df['tpep_pickup_datetime'], format=\"%m/%d/%Y %I:%M:%S %p\"))\n",
        "    df = df.assign(tpep_dropoff_datetime=pd.to_datetime(df['tpep_dropoff_datetime'], format=\"%m/%d/%Y %I:%M:%S %p\"))\n",
        "    return df"
      ],
      "execution_count": 9,
      "outputs": []
    },
    {
      "cell_type": "code",
      "metadata": {
        "id": "fp9SWiDbgb4y"
      },
      "source": [
        "# map_partition applies a function to each partition\n",
        "data = data.map_partitions(convert_dates, meta=final_data_types)"
      ],
      "execution_count": 10,
      "outputs": []
    },
    {
      "cell_type": "code",
      "metadata": {
        "colab": {
          "base_uri": "https://localhost:8080/",
          "height": 214
        },
        "id": "VcIwz7zrlrc8",
        "outputId": "fc440d16-b2dd-4f2f-b873-0ecf65137a67"
      },
      "source": [
        "data.tail(5)"
      ],
      "execution_count": 19,
      "outputs": [
        {
          "output_type": "execute_result",
          "data": {
            "text/html": [
              "<div>\n",
              "<style scoped>\n",
              "    .dataframe tbody tr th:only-of-type {\n",
              "        vertical-align: middle;\n",
              "    }\n",
              "\n",
              "    .dataframe tbody tr th {\n",
              "        vertical-align: top;\n",
              "    }\n",
              "\n",
              "    .dataframe thead th {\n",
              "        text-align: right;\n",
              "    }\n",
              "</style>\n",
              "<table border=\"1\" class=\"dataframe\">\n",
              "  <thead>\n",
              "    <tr style=\"text-align: right;\">\n",
              "      <th></th>\n",
              "      <th>VendorID</th>\n",
              "      <th>tpep_pickup_datetime</th>\n",
              "      <th>tpep_dropoff_datetime</th>\n",
              "      <th>passenger_count</th>\n",
              "      <th>trip_distance</th>\n",
              "      <th>RatecodeID</th>\n",
              "      <th>store_and_fwd_flag</th>\n",
              "      <th>PULocationID</th>\n",
              "      <th>DOLocationID</th>\n",
              "      <th>payment_type</th>\n",
              "      <th>fare_amount</th>\n",
              "      <th>extra</th>\n",
              "      <th>mta_tax</th>\n",
              "      <th>tip_amount</th>\n",
              "      <th>tolls_amount</th>\n",
              "      <th>improvement_surcharge</th>\n",
              "      <th>total_amount</th>\n",
              "      <th>congestion_surcharge</th>\n",
              "    </tr>\n",
              "  </thead>\n",
              "  <tbody>\n",
              "    <tr>\n",
              "      <th>413581</th>\n",
              "      <td>NaN</td>\n",
              "      <td>2020-06-30 23:05:00</td>\n",
              "      <td>2020-06-30 23:32:00</td>\n",
              "      <td>NaN</td>\n",
              "      <td>12.96</td>\n",
              "      <td>NaN</td>\n",
              "      <td>NaN</td>\n",
              "      <td>17.0</td>\n",
              "      <td>69.0</td>\n",
              "      <td>NaN</td>\n",
              "      <td>32.91</td>\n",
              "      <td>0.0</td>\n",
              "      <td>0.5</td>\n",
              "      <td>2.75</td>\n",
              "      <td>6.12</td>\n",
              "      <td>0.3</td>\n",
              "      <td>42.58</td>\n",
              "      <td>0.0</td>\n",
              "    </tr>\n",
              "    <tr>\n",
              "      <th>413582</th>\n",
              "      <td>NaN</td>\n",
              "      <td>2020-06-30 23:21:47</td>\n",
              "      <td>2020-06-30 23:25:24</td>\n",
              "      <td>NaN</td>\n",
              "      <td>0.36</td>\n",
              "      <td>NaN</td>\n",
              "      <td>NaN</td>\n",
              "      <td>41.0</td>\n",
              "      <td>41.0</td>\n",
              "      <td>NaN</td>\n",
              "      <td>11.45</td>\n",
              "      <td>0.0</td>\n",
              "      <td>0.5</td>\n",
              "      <td>2.75</td>\n",
              "      <td>0.00</td>\n",
              "      <td>0.3</td>\n",
              "      <td>15.00</td>\n",
              "      <td>0.0</td>\n",
              "    </tr>\n",
              "    <tr>\n",
              "      <th>413583</th>\n",
              "      <td>NaN</td>\n",
              "      <td>2020-06-30 23:34:00</td>\n",
              "      <td>2020-06-30 23:44:00</td>\n",
              "      <td>NaN</td>\n",
              "      <td>2.36</td>\n",
              "      <td>NaN</td>\n",
              "      <td>NaN</td>\n",
              "      <td>242.0</td>\n",
              "      <td>81.0</td>\n",
              "      <td>NaN</td>\n",
              "      <td>18.45</td>\n",
              "      <td>0.0</td>\n",
              "      <td>0.5</td>\n",
              "      <td>2.75</td>\n",
              "      <td>0.00</td>\n",
              "      <td>0.3</td>\n",
              "      <td>22.00</td>\n",
              "      <td>0.0</td>\n",
              "    </tr>\n",
              "    <tr>\n",
              "      <th>413584</th>\n",
              "      <td>NaN</td>\n",
              "      <td>2020-06-30 23:22:47</td>\n",
              "      <td>2020-06-30 23:42:01</td>\n",
              "      <td>NaN</td>\n",
              "      <td>5.50</td>\n",
              "      <td>NaN</td>\n",
              "      <td>NaN</td>\n",
              "      <td>14.0</td>\n",
              "      <td>118.0</td>\n",
              "      <td>NaN</td>\n",
              "      <td>15.90</td>\n",
              "      <td>0.0</td>\n",
              "      <td>0.5</td>\n",
              "      <td>6.23</td>\n",
              "      <td>12.24</td>\n",
              "      <td>0.3</td>\n",
              "      <td>35.17</td>\n",
              "      <td>0.0</td>\n",
              "    </tr>\n",
              "    <tr>\n",
              "      <th>413585</th>\n",
              "      <td>NaN</td>\n",
              "      <td>2020-06-30 23:56:18</td>\n",
              "      <td>2020-07-01 00:27:19</td>\n",
              "      <td>NaN</td>\n",
              "      <td>9.59</td>\n",
              "      <td>NaN</td>\n",
              "      <td>NaN</td>\n",
              "      <td>61.0</td>\n",
              "      <td>137.0</td>\n",
              "      <td>NaN</td>\n",
              "      <td>29.68</td>\n",
              "      <td>0.0</td>\n",
              "      <td>0.5</td>\n",
              "      <td>0.00</td>\n",
              "      <td>0.00</td>\n",
              "      <td>0.3</td>\n",
              "      <td>32.98</td>\n",
              "      <td>2.5</td>\n",
              "    </tr>\n",
              "  </tbody>\n",
              "</table>\n",
              "</div>"
            ],
            "text/plain": [
              "        VendorID tpep_pickup_datetime  ... total_amount  congestion_surcharge\n",
              "413581       NaN  2020-06-30 23:05:00  ...        42.58                   0.0\n",
              "413582       NaN  2020-06-30 23:21:47  ...        15.00                   0.0\n",
              "413583       NaN  2020-06-30 23:34:00  ...        22.00                   0.0\n",
              "413584       NaN  2020-06-30 23:22:47  ...        35.17                   0.0\n",
              "413585       NaN  2020-06-30 23:56:18  ...        32.98                   2.5\n",
              "\n",
              "[5 rows x 18 columns]"
            ]
          },
          "metadata": {
            "tags": []
          },
          "execution_count": 19
        }
      ]
    },
    {
      "cell_type": "code",
      "metadata": {
        "id": "mPbIm5p_Y2OM",
        "colab": {
          "base_uri": "https://localhost:8080/"
        },
        "outputId": "9c349b77-a710-4fe0-a0a8-ef0b484d7cb4"
      },
      "source": [
        "data[[\"tpep_pickup_datetime\", \"tpep_dropoff_datetime\"]].max().compute()"
      ],
      "execution_count": 252,
      "outputs": [
        {
          "output_type": "execute_result",
          "data": {
            "text/plain": [
              "tpep_pickup_datetime    2021-01-02 01:12:10\n",
              "tpep_dropoff_datetime   2021-01-02 01:25:01\n",
              "dtype: datetime64[ns]"
            ]
          },
          "metadata": {
            "tags": []
          },
          "execution_count": 252
        }
      ]
    },
    {
      "cell_type": "code",
      "metadata": {
        "id": "hcH89BmHA5Wh",
        "colab": {
          "base_uri": "https://localhost:8080/"
        },
        "outputId": "b225ee3f-f4e5-42f6-d9de-b4f39ab0b6fb"
      },
      "source": [
        "data[[\"tpep_pickup_datetime\", \"tpep_dropoff_datetime\"]].min().compute()"
      ],
      "execution_count": 253,
      "outputs": [
        {
          "output_type": "execute_result",
          "data": {
            "text/plain": [
              "tpep_pickup_datetime    2003-01-01 00:07:17\n",
              "tpep_dropoff_datetime   2003-01-01 14:16:59\n",
              "dtype: datetime64[ns]"
            ]
          },
          "metadata": {
            "tags": []
          },
          "execution_count": 253
        }
      ]
    },
    {
      "cell_type": "code",
      "metadata": {
        "id": "BjWO-J5yGxm1",
        "colab": {
          "base_uri": "https://localhost:8080/"
        },
        "outputId": "605ddc1f-c00b-4162-926d-a1ce500c7135"
      },
      "source": [
        "# Giá trị ngoại lệ trong 2 cột thời gian\n",
        "outlier_dates = data.query(\"(tpep_pickup_datetime.dt.year != 2020) | (tpep_dropoff_datetime.dt.year != 2020)\").compute()\n",
        "len(outlier_dates)"
      ],
      "execution_count": 254,
      "outputs": [
        {
          "output_type": "execute_result",
          "data": {
            "text/plain": [
              "221"
            ]
          },
          "metadata": {
            "tags": []
          },
          "execution_count": 254
        }
      ]
    },
    {
      "cell_type": "code",
      "metadata": {
        "id": "jMWS0cgRL9OF"
      },
      "source": [
        "# remove outlier\n",
        "# Sử dụng còn outlier vẫn còn trong tham số data\n",
        "new_data = data.query(\"tpep_pickup_datetime.dt.year == 2020\")"
      ],
      "execution_count": 11,
      "outputs": []
    },
    {
      "cell_type": "markdown",
      "metadata": {
        "id": "pWEBOxZTb_97"
      },
      "source": [
        "##Visulize tất cả mã khu vực trên bản đồ thành phố New York ( Geographical ploting)\r\n"
      ]
    },
    {
      "cell_type": "markdown",
      "metadata": {
        "id": "TcAHuAL8i-14"
      },
      "source": [
        "![map.png](data:image/png;base64,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)"
      ]
    },
    {
      "cell_type": "markdown",
      "metadata": {
        "id": "iPJLG8VDjHJ2"
      },
      "source": [
        "Link sourses code hình được visualize trên: https://colab.research.google.com/drive/193sLGD6bySUDagx-IY9X4G0ePAItJcZ7?usp=sharing"
      ]
    },
    {
      "cell_type": "markdown",
      "metadata": {
        "id": "3-c5vElZgGWc"
      },
      "source": [
        "## Thăm dò dữ liệu của 6 quận trong bộ dữ liệu\r\n"
      ]
    },
    {
      "cell_type": "markdown",
      "metadata": {
        "id": "BLZD2CuFqHOg"
      },
      "source": [
        "Việc thăm dò bằng cách gán nhãn tên các quận trong thành phố để dễ dàng thăm do bằng cách sử dụng một bộ data có sẵn trong cùng một nguồn với dữ liệu chính:\r\n",
        "\r\n",
        "Link data: https://www1.nyc.gov/site/tlc/about/tlc-trip-record-data.page"
      ]
    },
    {
      "cell_type": "code",
      "metadata": {
        "id": "30FRY_TQhlFZ",
        "colab": {
          "base_uri": "https://localhost:8080/",
          "height": 194
        },
        "outputId": "e2423609-aed7-406b-9983-bb238dd0e5bc"
      },
      "source": [
        "# load zone lookup csv\n",
        "zone_lookup = pd.read_csv(\"/content/taxi+_zone_lookup.csv\")\n",
        "zone_lookup.head()"
      ],
      "execution_count": 12,
      "outputs": [
        {
          "output_type": "execute_result",
          "data": {
            "text/html": [
              "<div>\n",
              "<style scoped>\n",
              "    .dataframe tbody tr th:only-of-type {\n",
              "        vertical-align: middle;\n",
              "    }\n",
              "\n",
              "    .dataframe tbody tr th {\n",
              "        vertical-align: top;\n",
              "    }\n",
              "\n",
              "    .dataframe thead th {\n",
              "        text-align: right;\n",
              "    }\n",
              "</style>\n",
              "<table border=\"1\" class=\"dataframe\">\n",
              "  <thead>\n",
              "    <tr style=\"text-align: right;\">\n",
              "      <th></th>\n",
              "      <th>LocationID</th>\n",
              "      <th>Borough</th>\n",
              "      <th>Zone</th>\n",
              "      <th>service_zone</th>\n",
              "    </tr>\n",
              "  </thead>\n",
              "  <tbody>\n",
              "    <tr>\n",
              "      <th>0</th>\n",
              "      <td>1</td>\n",
              "      <td>EWR</td>\n",
              "      <td>Newark Airport</td>\n",
              "      <td>EWR</td>\n",
              "    </tr>\n",
              "    <tr>\n",
              "      <th>1</th>\n",
              "      <td>2</td>\n",
              "      <td>Queens</td>\n",
              "      <td>Jamaica Bay</td>\n",
              "      <td>Boro Zone</td>\n",
              "    </tr>\n",
              "    <tr>\n",
              "      <th>2</th>\n",
              "      <td>3</td>\n",
              "      <td>Bronx</td>\n",
              "      <td>Allerton/Pelham Gardens</td>\n",
              "      <td>Boro Zone</td>\n",
              "    </tr>\n",
              "    <tr>\n",
              "      <th>3</th>\n",
              "      <td>4</td>\n",
              "      <td>Manhattan</td>\n",
              "      <td>Alphabet City</td>\n",
              "      <td>Yellow Zone</td>\n",
              "    </tr>\n",
              "    <tr>\n",
              "      <th>4</th>\n",
              "      <td>5</td>\n",
              "      <td>Staten Island</td>\n",
              "      <td>Arden Heights</td>\n",
              "      <td>Boro Zone</td>\n",
              "    </tr>\n",
              "  </tbody>\n",
              "</table>\n",
              "</div>"
            ],
            "text/plain": [
              "   LocationID        Borough                     Zone service_zone\n",
              "0           1            EWR           Newark Airport          EWR\n",
              "1           2         Queens              Jamaica Bay    Boro Zone\n",
              "2           3          Bronx  Allerton/Pelham Gardens    Boro Zone\n",
              "3           4      Manhattan            Alphabet City  Yellow Zone\n",
              "4           5  Staten Island            Arden Heights    Boro Zone"
            ]
          },
          "metadata": {
            "tags": []
          },
          "execution_count": 12
        }
      ]
    },
    {
      "cell_type": "code",
      "metadata": {
        "id": "ElLXboYJiFZS",
        "colab": {
          "base_uri": "https://localhost:8080/",
          "height": 212
        },
        "outputId": "7a0960f6-9b84-44dd-99f7-d110d0cfd844"
      },
      "source": [
        "from sklearn import preprocessing\n",
        "le = preprocessing.LabelEncoder()\n",
        "le.fit(zone_lookup.Borough)\n",
        "print(le.classes_)\n",
        "zone_lookup.loc[:, \"Label\"] = le.transform(zone_lookup.Borough)\n",
        "zone_lookup[[\"Borough\", \"Label\"]].head()"
      ],
      "execution_count": 13,
      "outputs": [
        {
          "output_type": "stream",
          "text": [
            "['Bronx' 'Brooklyn' 'EWR' 'Manhattan' 'Queens' 'Staten Island' 'Unknown']\n"
          ],
          "name": "stdout"
        },
        {
          "output_type": "execute_result",
          "data": {
            "text/html": [
              "<div>\n",
              "<style scoped>\n",
              "    .dataframe tbody tr th:only-of-type {\n",
              "        vertical-align: middle;\n",
              "    }\n",
              "\n",
              "    .dataframe tbody tr th {\n",
              "        vertical-align: top;\n",
              "    }\n",
              "\n",
              "    .dataframe thead th {\n",
              "        text-align: right;\n",
              "    }\n",
              "</style>\n",
              "<table border=\"1\" class=\"dataframe\">\n",
              "  <thead>\n",
              "    <tr style=\"text-align: right;\">\n",
              "      <th></th>\n",
              "      <th>Borough</th>\n",
              "      <th>Label</th>\n",
              "    </tr>\n",
              "  </thead>\n",
              "  <tbody>\n",
              "    <tr>\n",
              "      <th>0</th>\n",
              "      <td>EWR</td>\n",
              "      <td>2</td>\n",
              "    </tr>\n",
              "    <tr>\n",
              "      <th>1</th>\n",
              "      <td>Queens</td>\n",
              "      <td>4</td>\n",
              "    </tr>\n",
              "    <tr>\n",
              "      <th>2</th>\n",
              "      <td>Bronx</td>\n",
              "      <td>0</td>\n",
              "    </tr>\n",
              "    <tr>\n",
              "      <th>3</th>\n",
              "      <td>Manhattan</td>\n",
              "      <td>3</td>\n",
              "    </tr>\n",
              "    <tr>\n",
              "      <th>4</th>\n",
              "      <td>Staten Island</td>\n",
              "      <td>5</td>\n",
              "    </tr>\n",
              "  </tbody>\n",
              "</table>\n",
              "</div>"
            ],
            "text/plain": [
              "         Borough  Label\n",
              "0            EWR      2\n",
              "1         Queens      4\n",
              "2          Bronx      0\n",
              "3      Manhattan      3\n",
              "4  Staten Island      5"
            ]
          },
          "metadata": {
            "tags": []
          },
          "execution_count": 13
        }
      ]
    },
    {
      "cell_type": "code",
      "metadata": {
        "id": "itajUBEqiqXu"
      },
      "source": [
        "# convert it to dictionary for easy access\n",
        "zone_dict = dict(zip(zone_lookup.LocationID, zone_lookup.Label))"
      ],
      "execution_count": 14,
      "outputs": []
    },
    {
      "cell_type": "code",
      "metadata": {
        "id": "8c3Irpwfiy12",
        "colab": {
          "base_uri": "https://localhost:8080/",
          "height": 214
        },
        "outputId": "601e7eb3-60c5-463a-a3a7-fd92bb88e8d0"
      },
      "source": [
        "# create new column\n",
        "new_data[\"borugh_label\"] =new_data.PULocationID.map(zone_dict)\n",
        "new_data.head()"
      ],
      "execution_count": 16,
      "outputs": [
        {
          "output_type": "execute_result",
          "data": {
            "text/html": [
              "<div>\n",
              "<style scoped>\n",
              "    .dataframe tbody tr th:only-of-type {\n",
              "        vertical-align: middle;\n",
              "    }\n",
              "\n",
              "    .dataframe tbody tr th {\n",
              "        vertical-align: top;\n",
              "    }\n",
              "\n",
              "    .dataframe thead th {\n",
              "        text-align: right;\n",
              "    }\n",
              "</style>\n",
              "<table border=\"1\" class=\"dataframe\">\n",
              "  <thead>\n",
              "    <tr style=\"text-align: right;\">\n",
              "      <th></th>\n",
              "      <th>VendorID</th>\n",
              "      <th>tpep_pickup_datetime</th>\n",
              "      <th>tpep_dropoff_datetime</th>\n",
              "      <th>passenger_count</th>\n",
              "      <th>trip_distance</th>\n",
              "      <th>RatecodeID</th>\n",
              "      <th>store_and_fwd_flag</th>\n",
              "      <th>PULocationID</th>\n",
              "      <th>DOLocationID</th>\n",
              "      <th>payment_type</th>\n",
              "      <th>fare_amount</th>\n",
              "      <th>extra</th>\n",
              "      <th>mta_tax</th>\n",
              "      <th>tip_amount</th>\n",
              "      <th>tolls_amount</th>\n",
              "      <th>improvement_surcharge</th>\n",
              "      <th>total_amount</th>\n",
              "      <th>congestion_surcharge</th>\n",
              "      <th>borugh_label</th>\n",
              "    </tr>\n",
              "  </thead>\n",
              "  <tbody>\n",
              "    <tr>\n",
              "      <th>0</th>\n",
              "      <td>1.0</td>\n",
              "      <td>2020-01-01 00:28:15</td>\n",
              "      <td>2020-01-01 00:33:03</td>\n",
              "      <td>1.0</td>\n",
              "      <td>1.2</td>\n",
              "      <td>1.0</td>\n",
              "      <td>N</td>\n",
              "      <td>238.0</td>\n",
              "      <td>239.0</td>\n",
              "      <td>1.0</td>\n",
              "      <td>6.0</td>\n",
              "      <td>3.0</td>\n",
              "      <td>0.5</td>\n",
              "      <td>1.47</td>\n",
              "      <td>0.0</td>\n",
              "      <td>0.3</td>\n",
              "      <td>11.27</td>\n",
              "      <td>2.5</td>\n",
              "      <td>3</td>\n",
              "    </tr>\n",
              "    <tr>\n",
              "      <th>1</th>\n",
              "      <td>1.0</td>\n",
              "      <td>2020-01-01 00:35:39</td>\n",
              "      <td>2020-01-01 00:43:04</td>\n",
              "      <td>1.0</td>\n",
              "      <td>1.2</td>\n",
              "      <td>1.0</td>\n",
              "      <td>N</td>\n",
              "      <td>239.0</td>\n",
              "      <td>238.0</td>\n",
              "      <td>1.0</td>\n",
              "      <td>7.0</td>\n",
              "      <td>3.0</td>\n",
              "      <td>0.5</td>\n",
              "      <td>1.50</td>\n",
              "      <td>0.0</td>\n",
              "      <td>0.3</td>\n",
              "      <td>12.30</td>\n",
              "      <td>2.5</td>\n",
              "      <td>3</td>\n",
              "    </tr>\n",
              "    <tr>\n",
              "      <th>2</th>\n",
              "      <td>1.0</td>\n",
              "      <td>2020-01-01 00:47:41</td>\n",
              "      <td>2020-01-01 00:53:52</td>\n",
              "      <td>1.0</td>\n",
              "      <td>0.6</td>\n",
              "      <td>1.0</td>\n",
              "      <td>N</td>\n",
              "      <td>238.0</td>\n",
              "      <td>238.0</td>\n",
              "      <td>1.0</td>\n",
              "      <td>6.0</td>\n",
              "      <td>3.0</td>\n",
              "      <td>0.5</td>\n",
              "      <td>1.00</td>\n",
              "      <td>0.0</td>\n",
              "      <td>0.3</td>\n",
              "      <td>10.80</td>\n",
              "      <td>2.5</td>\n",
              "      <td>3</td>\n",
              "    </tr>\n",
              "    <tr>\n",
              "      <th>3</th>\n",
              "      <td>1.0</td>\n",
              "      <td>2020-01-01 00:55:23</td>\n",
              "      <td>2020-01-01 01:00:14</td>\n",
              "      <td>1.0</td>\n",
              "      <td>0.8</td>\n",
              "      <td>1.0</td>\n",
              "      <td>N</td>\n",
              "      <td>238.0</td>\n",
              "      <td>151.0</td>\n",
              "      <td>1.0</td>\n",
              "      <td>5.5</td>\n",
              "      <td>0.5</td>\n",
              "      <td>0.5</td>\n",
              "      <td>1.36</td>\n",
              "      <td>0.0</td>\n",
              "      <td>0.3</td>\n",
              "      <td>8.16</td>\n",
              "      <td>0.0</td>\n",
              "      <td>3</td>\n",
              "    </tr>\n",
              "    <tr>\n",
              "      <th>4</th>\n",
              "      <td>2.0</td>\n",
              "      <td>2020-01-01 00:01:58</td>\n",
              "      <td>2020-01-01 00:04:16</td>\n",
              "      <td>1.0</td>\n",
              "      <td>0.0</td>\n",
              "      <td>1.0</td>\n",
              "      <td>N</td>\n",
              "      <td>193.0</td>\n",
              "      <td>193.0</td>\n",
              "      <td>2.0</td>\n",
              "      <td>3.5</td>\n",
              "      <td>0.5</td>\n",
              "      <td>0.5</td>\n",
              "      <td>0.00</td>\n",
              "      <td>0.0</td>\n",
              "      <td>0.3</td>\n",
              "      <td>4.80</td>\n",
              "      <td>0.0</td>\n",
              "      <td>4</td>\n",
              "    </tr>\n",
              "  </tbody>\n",
              "</table>\n",
              "</div>"
            ],
            "text/plain": [
              "   VendorID tpep_pickup_datetime  ... congestion_surcharge  borugh_label\n",
              "0       1.0  2020-01-01 00:28:15  ...                  2.5             3\n",
              "1       1.0  2020-01-01 00:35:39  ...                  2.5             3\n",
              "2       1.0  2020-01-01 00:47:41  ...                  2.5             3\n",
              "3       1.0  2020-01-01 00:55:23  ...                  0.0             3\n",
              "4       2.0  2020-01-01 00:01:58  ...                  0.0             4\n",
              "\n",
              "[5 rows x 19 columns]"
            ]
          },
          "metadata": {
            "tags": []
          },
          "execution_count": 16
        }
      ]
    },
    {
      "cell_type": "code",
      "metadata": {
        "id": "sXUdUEkij3H9",
        "colab": {
          "base_uri": "https://localhost:8080/"
        },
        "outputId": "41f84c57-5cf0-44be-8216-bfcb8cb6dac6"
      },
      "source": [
        "# Số lượng chuyến xe của 6 quận\n",
        "trips_by_borough_2020 = new_data.borugh_label.groupby(new_data.borugh_label).count()\n",
        "trips_by_borough_2020 = trips_by_borough_2020.compute().sort_values(ascending=False)\n",
        "trips_by_borough_2020"
      ],
      "execution_count": 30,
      "outputs": [
        {
          "output_type": "execute_result",
          "data": {
            "text/plain": [
              "borugh_label\n",
              "3    15386529\n",
              "4     1050082\n",
              "1      223384\n",
              "6      122042\n",
              "0       61950\n",
              "5        1809\n",
              "2        1762\n",
              "Name: borugh_label, dtype: int64"
            ]
          },
          "metadata": {
            "tags": []
          },
          "execution_count": 30
        }
      ]
    },
    {
      "cell_type": "code",
      "metadata": {
        "colab": {
          "base_uri": "https://localhost:8080/",
          "height": 295
        },
        "id": "lFipHUVDxpe9",
        "outputId": "7ca21a86-cdaa-49ae-ae02-7eb80752f5e7"
      },
      "source": [
        "#Vẽ biểu đồ cột thể hiện số lượng trên\r\n",
        "raw_trip = ['Manhattan(3)','Others']\r\n",
        "trip_share = [15386529,1461249]\r\n",
        "plt.bar(raw_trip, trip_share, color='black')\r\n",
        "plt.title('Số lượng chuyến xe Taxi vàng của 6 quận trong thành phố New York ') \r\n",
        "plt.xlabel('Quận')\r\n",
        "plt.ylabel('Chuyến xe Taxi Yellow')\r\n",
        "plt.show()"
      ],
      "execution_count": 274,
      "outputs": [
        {
          "output_type": "display_data",
          "data": {
            "image/png": "[encoded data removed]",
            "text/plain": [
              "<Figure size 432x288 with 1 Axes>"
            ]
          },
          "metadata": {
            "tags": [],
            "needs_background": "light"
          }
        }
      ]
    },
    {
      "cell_type": "code",
      "metadata": {
        "id": "mn81amRCkTvt",
        "colab": {
          "base_uri": "https://localhost:8080/"
        },
        "outputId": "9ac958d9-1db9-4e21-a851-98f00d19ad9d"
      },
      "source": [
        "# Xuất ra  tỉ lệ % nhận chuyến xe của 6 quận \n",
        "relative_borough_2020 = (trips_by_borough_2020 * 100 / trips_by_borough_2020.sum()) + 1e-10\n",
        "relative_borough_2020"
      ],
      "execution_count": 31,
      "outputs": [
        {
          "output_type": "execute_result",
          "data": {
            "text/plain": [
              "borugh_label\n",
              "3    91.327948\n",
              "4     6.232844\n",
              "1     1.325913\n",
              "6     0.724390\n",
              "0     0.367709\n",
              "5     0.010737\n",
              "2     0.010458\n",
              "Name: borugh_label, dtype: float64"
            ]
          },
          "metadata": {
            "tags": []
          },
          "execution_count": 31
        }
      ]
    },
    {
      "cell_type": "code",
      "metadata": {
        "id": "iVI1-CE6LbpH",
        "colab": {
          "base_uri": "https://localhost:8080/",
          "height": 248
        },
        "outputId": "a4adb4dc-6878-4fbb-d069-4ebfb437fb0b"
      },
      "source": [
        "#Vẽ biểu đồ tròn thể tỉ lệ trên\n",
        "raw_borugh = ['Manhattan(3)','Queens(5)','Other']\n",
        "borugh_share = [91.33,6.24,2.43]\n",
        "Explode = [0.1,0,0]\n",
        "plt.pie(borugh_share, explode=Explode, labels=raw_borugh, shadow=True, startangle=10)\n",
        "plt.axis('equal') \n",
        "plt.legend(title = 'Relative_borugh_2020')\n",
        "plt.show()"
      ],
      "execution_count": 275,
      "outputs": [
        {
          "output_type": "display_data",
          "data": {
            "image/png": "[encoded data removed]",
            "text/plain": [
              "<Figure size 432x288 with 1 Axes>"
            ]
          },
          "metadata": {
            "tags": []
          }
        }
      ]
    },
    {
      "cell_type": "markdown",
      "metadata": {
        "id": "j7zzFGsBrCSa"
      },
      "source": [
        "- Theo biểu đồ như trên, chúng ta có thể phân vùng dữ liệu ở quận Manhanttan để tiến hình đi phân tích dữ liệu và giải quyết bài toán"
      ]
    },
    {
      "cell_type": "markdown",
      "metadata": {
        "id": "OtwWKsn_uysU"
      },
      "source": [
        "##Thăm dò dữ liệu chuyến đi ở Manhattan"
      ]
    },
    {
      "cell_type": "code",
      "metadata": {
        "id": "DuotK1MXu6BX"
      },
      "source": [
        "#Truy vấn dữ liệu của quận Manhattan với nhãn được gán là 3 trước đó\n",
        "data_2020_manhattan = new_data.query(\"borugh_label == 3.0\")\n",
        "\n",
        "# Số lượng các chuyến xe của các khu vực trong quận\n",
        "data_manhattan_polc_2020 = data_2020_manhattan.PULocationID.groupby(data_2020_manhattan.PULocationID).count()\n",
        "data_manhattan_polc_2020 = data_manhattan_polc_2020.compute().sort_values(ascending=False)\n",
        "# Tỉ lệ % số các chuyến xe giữa các khu vực trong quận \n",
        "relative_mahattan_2020 = (data_manhattan_polc_2020 * 100 / data_manhattan_polc_2020.sum()) + 1e-10\n"
      ],
      "execution_count": 17,
      "outputs": []
    },
    {
      "cell_type": "code",
      "metadata": {
        "id": "EsteuUH9uxNl",
        "colab": {
          "base_uri": "https://localhost:8080/"
        },
        "outputId": "63a45eb7-f33e-4608-f7af-b32a9c1cf0f7"
      },
      "source": [
        "data_manhattan_polc_2020"
      ],
      "execution_count": 34,
      "outputs": [
        {
          "output_type": "execute_result",
          "data": {
            "text/plain": [
              "PULocationID\n",
              "237.0    740022\n",
              "236.0    702418\n",
              "161.0    699262\n",
              "162.0    599655\n",
              "186.0    588553\n",
              "          ...  \n",
              "202.0       875\n",
              "153.0       396\n",
              "128.0       194\n",
              "120.0       125\n",
              "105.0         7\n",
              "Name: PULocationID, Length: 67, dtype: int64"
            ]
          },
          "metadata": {
            "tags": []
          },
          "execution_count": 34
        }
      ]
    },
    {
      "cell_type": "code",
      "metadata": {
        "colab": {
          "base_uri": "https://localhost:8080/"
        },
        "id": "9ajY-xsdbcsM",
        "outputId": "2cdd1d37-7699-4723-c060-b443ae2e1a94"
      },
      "source": [
        "len(data_manhattan_polc_2020)"
      ],
      "execution_count": 23,
      "outputs": [
        {
          "output_type": "execute_result",
          "data": {
            "text/plain": [
              "67"
            ]
          },
          "metadata": {
            "tags": []
          },
          "execution_count": 23
        }
      ]
    },
    {
      "cell_type": "code",
      "metadata": {
        "id": "U1_Aahq0yCmr",
        "colab": {
          "base_uri": "https://localhost:8080/"
        },
        "outputId": "01612ccf-8b3d-4fb5-9712-817f6bb99eba"
      },
      "source": [
        "relative_mahattan_2020.head"
      ],
      "execution_count": 277,
      "outputs": [
        {
          "output_type": "execute_result",
          "data": {
            "text/plain": [
              "<bound method NDFrame.head of PULocationID\n",
              "237.0    4.809545\n",
              "236.0    4.565149\n",
              "161.0    4.544638\n",
              "162.0    3.897273\n",
              "186.0    3.825119\n",
              "           ...   \n",
              "202.0    0.005687\n",
              "153.0    0.002574\n",
              "128.0    0.001261\n",
              "120.0    0.000812\n",
              "105.0    0.000045\n",
              "Name: PULocationID, Length: 67, dtype: float64>"
            ]
          },
          "metadata": {
            "tags": []
          },
          "execution_count": 277
        }
      ]
    },
    {
      "cell_type": "code",
      "metadata": {
        "colab": {
          "base_uri": "https://localhost:8080/"
        },
        "id": "E81Tz28yEn2i",
        "outputId": "d60c40d0-29a8-442e-b5fe-c8cc9cb5227a"
      },
      "source": [
        "!pip install squarify"
      ],
      "execution_count": 18,
      "outputs": [
        {
          "output_type": "stream",
          "text": [
            "Collecting squarify\n",
            "  Downloading https://files.pythonhosted.org/packages/0b/2b/2e77c35326efec19819cd1d729540d4d235e6c2a3f37658288a363a67da5/squarify-0.4.3-py3-none-any.whl\n",
            "Installing collected packages: squarify\n",
            "Successfully installed squarify-0.4.3\n"
          ],
          "name": "stdout"
        }
      ]
    },
    {
      "cell_type": "code",
      "metadata": {
        "colab": {
          "base_uri": "https://localhost:8080/",
          "height": 485
        },
        "id": "8NOjHVOFDPvq",
        "outputId": "bf8e0c60-3197-4634-8139-c948081abe59"
      },
      "source": [
        "# tree map\r\n",
        "import squarify\r\n",
        "#fig = figsize=(16,10)\r\n",
        "#ax = fig.add_subplot()\r\n",
        "\r\n",
        "fig, ax = plt.subplots(1, figsize=(12,8))\r\n",
        "ax.set_title(\"Manhattan Zones 2020\")\r\n",
        "ax.get_xaxis().set_visible(False)\r\n",
        "ax.get_yaxis().set_visible(False)\r\n",
        "count_indices = list(relative_mahattan_2020.index)\r\n",
        "indices = [\"\" if i > 55 else count_indices[i] for i in range(len(count_indices))]\r\n",
        "squarify.plot(sizes=relative_mahattan_2020.values, label=indices, alpha=.7, color = [\"yellow\",\"red\",\"brown\"],ax=ax)\r\n",
        "plt.show()"
      ],
      "execution_count": 20,
      "outputs": [
        {
          "output_type": "display_data",
          "data": {
            "image/png": "[encoded data removed]",
            "text/plain": [
              "<Figure size 864x576 with 1 Axes>"
            ]
          },
          "metadata": {
            "tags": [],
            "needs_background": "light"
          }
        }
      ]
    },
    {
      "cell_type": "markdown",
      "metadata": {
        "id": "HNlk7Zyw-gJQ"
      },
      "source": [
        "**Thêm một cột mới chứa các nhãn của các quận trong thành phố được picked từ Manhattan đến các khu vực này**"
      ]
    },
    {
      "cell_type": "code",
      "metadata": {
        "id": "nKqUhnz9-fax",
        "colab": {
          "base_uri": "https://localhost:8080/",
          "height": 214
        },
        "outputId": "9f93c02f-893c-4eab-efe4-01e8145ff0e8"
      },
      "source": [
        "zone_dict = dict(zip(zone_lookup.LocationID, zone_lookup.Label))\n",
        "# Sử dụng bộ từ điển có sẵn trong data zone_lookup chuẩn hóa các khu vực được trả khách dạng text thành nhãn số\n",
        "data_2020_manhattan[\"DBorugh\"] = data_2020_manhattan.DOLocationID.map(zone_dict)\n",
        "data_2020_manhattan.head(5)"
      ],
      "execution_count": 36,
      "outputs": [
        {
          "output_type": "execute_result",
          "data": {
            "text/html": [
              "<div>\n",
              "<style scoped>\n",
              "    .dataframe tbody tr th:only-of-type {\n",
              "        vertical-align: middle;\n",
              "    }\n",
              "\n",
              "    .dataframe tbody tr th {\n",
              "        vertical-align: top;\n",
              "    }\n",
              "\n",
              "    .dataframe thead th {\n",
              "        text-align: right;\n",
              "    }\n",
              "</style>\n",
              "<table border=\"1\" class=\"dataframe\">\n",
              "  <thead>\n",
              "    <tr style=\"text-align: right;\">\n",
              "      <th></th>\n",
              "      <th>VendorID</th>\n",
              "      <th>tpep_pickup_datetime</th>\n",
              "      <th>tpep_dropoff_datetime</th>\n",
              "      <th>passenger_count</th>\n",
              "      <th>trip_distance</th>\n",
              "      <th>RatecodeID</th>\n",
              "      <th>store_and_fwd_flag</th>\n",
              "      <th>PULocationID</th>\n",
              "      <th>DOLocationID</th>\n",
              "      <th>payment_type</th>\n",
              "      <th>fare_amount</th>\n",
              "      <th>extra</th>\n",
              "      <th>mta_tax</th>\n",
              "      <th>tip_amount</th>\n",
              "      <th>tolls_amount</th>\n",
              "      <th>improvement_surcharge</th>\n",
              "      <th>total_amount</th>\n",
              "      <th>congestion_surcharge</th>\n",
              "      <th>borugh_label</th>\n",
              "      <th>DBorugh</th>\n",
              "    </tr>\n",
              "  </thead>\n",
              "  <tbody>\n",
              "    <tr>\n",
              "      <th>0</th>\n",
              "      <td>1.0</td>\n",
              "      <td>2020-01-01 00:28:15</td>\n",
              "      <td>2020-01-01 00:33:03</td>\n",
              "      <td>1.0</td>\n",
              "      <td>1.2</td>\n",
              "      <td>1.0</td>\n",
              "      <td>N</td>\n",
              "      <td>238.0</td>\n",
              "      <td>239.0</td>\n",
              "      <td>1.0</td>\n",
              "      <td>6.0</td>\n",
              "      <td>3.0</td>\n",
              "      <td>0.5</td>\n",
              "      <td>1.47</td>\n",
              "      <td>0.0</td>\n",
              "      <td>0.3</td>\n",
              "      <td>11.27</td>\n",
              "      <td>2.5</td>\n",
              "      <td>3</td>\n",
              "      <td>3</td>\n",
              "    </tr>\n",
              "    <tr>\n",
              "      <th>1</th>\n",
              "      <td>1.0</td>\n",
              "      <td>2020-01-01 00:35:39</td>\n",
              "      <td>2020-01-01 00:43:04</td>\n",
              "      <td>1.0</td>\n",
              "      <td>1.2</td>\n",
              "      <td>1.0</td>\n",
              "      <td>N</td>\n",
              "      <td>239.0</td>\n",
              "      <td>238.0</td>\n",
              "      <td>1.0</td>\n",
              "      <td>7.0</td>\n",
              "      <td>3.0</td>\n",
              "      <td>0.5</td>\n",
              "      <td>1.50</td>\n",
              "      <td>0.0</td>\n",
              "      <td>0.3</td>\n",
              "      <td>12.30</td>\n",
              "      <td>2.5</td>\n",
              "      <td>3</td>\n",
              "      <td>3</td>\n",
              "    </tr>\n",
              "    <tr>\n",
              "      <th>2</th>\n",
              "      <td>1.0</td>\n",
              "      <td>2020-01-01 00:47:41</td>\n",
              "      <td>2020-01-01 00:53:52</td>\n",
              "      <td>1.0</td>\n",
              "      <td>0.6</td>\n",
              "      <td>1.0</td>\n",
              "      <td>N</td>\n",
              "      <td>238.0</td>\n",
              "      <td>238.0</td>\n",
              "      <td>1.0</td>\n",
              "      <td>6.0</td>\n",
              "      <td>3.0</td>\n",
              "      <td>0.5</td>\n",
              "      <td>1.00</td>\n",
              "      <td>0.0</td>\n",
              "      <td>0.3</td>\n",
              "      <td>10.80</td>\n",
              "      <td>2.5</td>\n",
              "      <td>3</td>\n",
              "      <td>3</td>\n",
              "    </tr>\n",
              "    <tr>\n",
              "      <th>3</th>\n",
              "      <td>1.0</td>\n",
              "      <td>2020-01-01 00:55:23</td>\n",
              "      <td>2020-01-01 01:00:14</td>\n",
              "      <td>1.0</td>\n",
              "      <td>0.8</td>\n",
              "      <td>1.0</td>\n",
              "      <td>N</td>\n",
              "      <td>238.0</td>\n",
              "      <td>151.0</td>\n",
              "      <td>1.0</td>\n",
              "      <td>5.5</td>\n",
              "      <td>0.5</td>\n",
              "      <td>0.5</td>\n",
              "      <td>1.36</td>\n",
              "      <td>0.0</td>\n",
              "      <td>0.3</td>\n",
              "      <td>8.16</td>\n",
              "      <td>0.0</td>\n",
              "      <td>3</td>\n",
              "      <td>3</td>\n",
              "    </tr>\n",
              "    <tr>\n",
              "      <th>9</th>\n",
              "      <td>1.0</td>\n",
              "      <td>2020-01-01 00:29:01</td>\n",
              "      <td>2020-01-01 00:40:28</td>\n",
              "      <td>2.0</td>\n",
              "      <td>0.7</td>\n",
              "      <td>1.0</td>\n",
              "      <td>N</td>\n",
              "      <td>246.0</td>\n",
              "      <td>48.0</td>\n",
              "      <td>1.0</td>\n",
              "      <td>8.0</td>\n",
              "      <td>3.0</td>\n",
              "      <td>0.5</td>\n",
              "      <td>2.35</td>\n",
              "      <td>0.0</td>\n",
              "      <td>0.3</td>\n",
              "      <td>14.15</td>\n",
              "      <td>2.5</td>\n",
              "      <td>3</td>\n",
              "      <td>3</td>\n",
              "    </tr>\n",
              "  </tbody>\n",
              "</table>\n",
              "</div>"
            ],
            "text/plain": [
              "   VendorID tpep_pickup_datetime  ... borugh_label  DBorugh\n",
              "0       1.0  2020-01-01 00:28:15  ...            3        3\n",
              "1       1.0  2020-01-01 00:35:39  ...            3        3\n",
              "2       1.0  2020-01-01 00:47:41  ...            3        3\n",
              "3       1.0  2020-01-01 00:55:23  ...            3        3\n",
              "9       1.0  2020-01-01 00:29:01  ...            3        3\n",
              "\n",
              "[5 rows x 20 columns]"
            ]
          },
          "metadata": {
            "tags": []
          },
          "execution_count": 36
        }
      ]
    },
    {
      "cell_type": "code",
      "metadata": {
        "colab": {
          "base_uri": "https://localhost:8080/"
        },
        "id": "KIislCHHYrwk",
        "outputId": "910e71ac-c1b7-4d74-813c-b81ff47c344b"
      },
      "source": [
        "len(data_2020_manhattan)"
      ],
      "execution_count": 21,
      "outputs": [
        {
          "output_type": "execute_result",
          "data": {
            "text/plain": [
              "15386529"
            ]
          },
          "metadata": {
            "tags": []
          },
          "execution_count": 21
        }
      ]
    },
    {
      "cell_type": "code",
      "metadata": {
        "id": "hhTXUpINCvuy"
      },
      "source": [
        "#Đếm số lượng các chuyến xe được dropoff từ Manhattan\n",
        "data_2020_manhattan_dlc = data_2020_manhattan.DBorugh.value_counts().compute()\n",
        "# Tỉ lệ % số các chuyến xe được dropoff từ Manhattan\n",
        "relative_data_2020_manhattan_dlc = data_2020_manhattan_dlc * 100/data_2020_manhattan_dlc.sum()"
      ],
      "execution_count": 37,
      "outputs": []
    },
    {
      "cell_type": "code",
      "metadata": {
        "id": "KFouS_9MSFeG",
        "colab": {
          "base_uri": "https://localhost:8080/"
        },
        "outputId": "5bda7645-e2f2-4be8-acf5-66edeecdbe0f"
      },
      "source": [
        "data_2020_manhattan_dlc"
      ],
      "execution_count": 38,
      "outputs": [
        {
          "output_type": "execute_result",
          "data": {
            "text/plain": [
              "3    14310435\n",
              "4      469412\n",
              "1      430714\n",
              "0      109702\n",
              "6       36747\n",
              "2       26579\n",
              "5        2940\n",
              "Name: DBorugh, dtype: int64"
            ]
          },
          "metadata": {
            "tags": []
          },
          "execution_count": 38
        }
      ]
    },
    {
      "cell_type": "code",
      "metadata": {
        "id": "HuFZXCfYaW8x",
        "colab": {
          "base_uri": "https://localhost:8080/"
        },
        "outputId": "006560d0-dfad-4375-ebd9-e5c581fce6c6"
      },
      "source": [
        "relative_data_2020_manhattan_dlc"
      ],
      "execution_count": 39,
      "outputs": [
        {
          "output_type": "execute_result",
          "data": {
            "text/plain": [
              "3    93.006259\n",
              "4     3.050799\n",
              "1     2.799293\n",
              "0     0.712974\n",
              "6     0.238826\n",
              "2     0.172742\n",
              "5     0.019108\n",
              "Name: DBorugh, dtype: float64"
            ]
          },
          "metadata": {
            "tags": []
          },
          "execution_count": 39
        }
      ]
    },
    {
      "cell_type": "markdown",
      "metadata": {
        "id": "XgJJaGQASyeN"
      },
      "source": [
        "- Vì dữ liệu cung cấp để giải quyết bài toán trên đều nằm ở quận Manhattan nên bộ dữ liệu cuối cùng chúng ta lấy là data_2020_manhattan"
      ]
    },
    {
      "cell_type": "markdown",
      "metadata": {
        "id": "gkf-NjxOg_hw"
      },
      "source": [
        "##Thăm dò các features có thể liên quan đến bài toán đặt ra của bộ dữ liệu quận Manhatttan "
      ]
    },
    {
      "cell_type": "markdown",
      "metadata": {
        "id": "asStugnLh2Wf"
      },
      "source": [
        "**Passenger_count**\r\n",
        " \r\n",
        "Khách hành tối đa mà xe taxi yellow cho phép tùy loại xe có thể là 4 hoặc 5, đối với loại xe được 5 khách hàng có thể là 6 là do tính them trẻ nhỏ dưới 6 tuổi.\r\n"
      ]
    },
    {
      "cell_type": "code",
      "metadata": {
        "id": "bub3qtRch0d1",
        "colab": {
          "base_uri": "https://localhost:8080/"
        },
        "outputId": "35fdadce-c115-4718-97aa-16ff7b645923"
      },
      "source": [
        "data_2020_manhattan.passenger_count.describe().compute()"
      ],
      "execution_count": 40,
      "outputs": [
        {
          "output_type": "execute_result",
          "data": {
            "text/plain": [
              "count    1.525721e+07\n",
              "mean     1.493621e+00\n",
              "std      1.138906e+00\n",
              "min      0.000000e+00\n",
              "25%      1.000000e+00\n",
              "50%      1.000000e+00\n",
              "75%      2.000000e+00\n",
              "max      9.000000e+00\n",
              "Name: passenger_count, dtype: float64"
            ]
          },
          "metadata": {
            "tags": []
          },
          "execution_count": 40
        }
      ]
    },
    {
      "cell_type": "code",
      "metadata": {
        "id": "3AdDVo7-kUyn",
        "colab": {
          "base_uri": "https://localhost:8080/"
        },
        "outputId": "1087881d-564f-4f99-eece-9928f0a0b27f"
      },
      "source": [
        "print(len(data_2020_manhattan.query(\"passenger_count > 6\")))"
      ],
      "execution_count": 41,
      "outputs": [
        {
          "output_type": "stream",
          "text": [
            "81\n"
          ],
          "name": "stdout"
        }
      ]
    },
    {
      "cell_type": "code",
      "metadata": {
        "id": "O_kL14_UkamC",
        "colab": {
          "base_uri": "https://localhost:8080/"
        },
        "outputId": "2b48640a-6c83-479d-f39f-d37bf2abd69b"
      },
      "source": [
        "print(len(data_2020_manhattan.query(\"passenger_count == 0\")))"
      ],
      "execution_count": 42,
      "outputs": [
        {
          "output_type": "stream",
          "text": [
            "304802\n"
          ],
          "name": "stdout"
        }
      ]
    },
    {
      "cell_type": "markdown",
      "metadata": {
        "id": "QMZ5OBnWk1Nn"
      },
      "source": [
        "**RatecodeID, payment_type**"
      ]
    },
    {
      "cell_type": "code",
      "metadata": {
        "id": "mfBMEIf1lGlP",
        "colab": {
          "base_uri": "https://localhost:8080/"
        },
        "outputId": "f17df45c-a2db-41d0-ebc1-7c81a07bb108"
      },
      "source": [
        "#Show số lượng các loại mã tỷ giá sau khi hoàn thành chuyến đi\r\n",
        "data_2020_manhattan.RatecodeID.value_counts().compute()"
      ],
      "execution_count": 43,
      "outputs": [
        {
          "output_type": "execute_result",
          "data": {
            "text/plain": [
              "1.0     15054769\n",
              "2.0       123938\n",
              "5.0        46023\n",
              "3.0        29025\n",
              "4.0         2896\n",
              "99.0         505\n",
              "6.0           55\n",
              "Name: RatecodeID, dtype: int64"
            ]
          },
          "metadata": {
            "tags": []
          },
          "execution_count": 43
        }
      ]
    },
    {
      "cell_type": "code",
      "metadata": {
        "id": "9HVVOeDdlZza",
        "colab": {
          "base_uri": "https://localhost:8080/"
        },
        "outputId": "ef7d9493-6837-40f5-e0c2-7b1e0b6a633a"
      },
      "source": [
        "#Show số lượng hình thức thanh toán của khách hàng\r\n",
        "data_2020_manhattan.payment_type.value_counts().compute()"
      ],
      "execution_count": 44,
      "outputs": [
        {
          "output_type": "execute_result",
          "data": {
            "text/plain": [
              "1.0    11420993\n",
              "2.0     3719915\n",
              "3.0       73232\n",
              "4.0       43061\n",
              "5.0          10\n",
              "Name: payment_type, dtype: int64"
            ]
          },
          "metadata": {
            "tags": []
          },
          "execution_count": 44
        }
      ]
    },
    {
      "cell_type": "markdown",
      "metadata": {
        "id": "b68uhBIMkd5B"
      },
      "source": [
        "**Trip_distance, fare_amount**"
      ]
    },
    {
      "cell_type": "code",
      "metadata": {
        "id": "-lf0OAcupP-5",
        "colab": {
          "base_uri": "https://localhost:8080/"
        },
        "outputId": "a914de7a-9816-4f76-c58e-432cb70365a8"
      },
      "source": [
        "trip_2020 = data_2020_manhattan.trip_distance.describe().compute()\r\n",
        "trip_2020"
      ],
      "execution_count": 45,
      "outputs": [
        {
          "output_type": "execute_result",
          "data": {
            "text/plain": [
              "count    1.538653e+07\n",
              "mean     2.379665e+00\n",
              "std      6.963324e+01\n",
              "min     -2.947000e+01\n",
              "25%      1.000000e+00\n",
              "50%      1.720000e+00\n",
              "75%      3.190000e+00\n",
              "max      2.203862e+05\n",
              "Name: trip_distance, dtype: float64"
            ]
          },
          "metadata": {
            "tags": []
          },
          "execution_count": 45
        }
      ]
    },
    {
      "cell_type": "code",
      "metadata": {
        "id": "BEprXN22GnOT",
        "colab": {
          "base_uri": "https://localhost:8080/"
        },
        "outputId": "77e9fade-4547-4df7-d679-c5160de066fc"
      },
      "source": [
        "mean_2020 = trip_2020[\"mean\"]\r\n",
        "std_2020 = trip_2020[\"std\"]\r\n",
        "# the lowest zscore is -1 so there are no outliers on the lower side\r\n",
        "ub_2020 = (3.0 * std_2020) + mean_2020\r\n",
        "ub_2020"
      ],
      "execution_count": 46,
      "outputs": [
        {
          "output_type": "execute_result",
          "data": {
            "text/plain": [
              "211.27939429815473"
            ]
          },
          "metadata": {
            "tags": []
          },
          "execution_count": 46
        }
      ]
    },
    {
      "cell_type": "code",
      "metadata": {
        "id": "az1wRclCv6HG",
        "colab": {
          "base_uri": "https://localhost:8080/"
        },
        "outputId": "3767af58-2177-40ae-fca0-5b223cdec807"
      },
      "source": [
        "fare_2020 = data_2020_manhattan.fare_amount.describe().compute()\r\n",
        "fare_2020"
      ],
      "execution_count": 47,
      "outputs": [
        {
          "output_type": "execute_result",
          "data": {
            "text/plain": [
              "count    1.538653e+07\n",
              "mean     1.102835e+01\n",
              "std      2.033150e+02\n",
              "min     -1.238000e+03\n",
              "25%      6.500000e+00\n",
              "50%      9.000000e+00\n",
              "75%      1.400000e+01\n",
              "max      6.711001e+05\n",
              "Name: fare_amount, dtype: float64"
            ]
          },
          "metadata": {
            "tags": []
          },
          "execution_count": 47
        }
      ]
    },
    {
      "cell_type": "code",
      "metadata": {
        "id": "MQ6OyWTULk0l",
        "colab": {
          "base_uri": "https://localhost:8080/"
        },
        "outputId": "669a1da8-c4d1-4330-aa27-890fe6be827e"
      },
      "source": [
        "mean_2020 = fare_2020[\"mean\"]\r\n",
        "std_2020 = fare_2020[\"std\"]\r\n",
        "# the lowest zscore is -1 so there are no outliers on the lower side\r\n",
        "ub_2020 = (3.0 * std_2020) + mean_2020\r\n",
        "ub_2020"
      ],
      "execution_count": 48,
      "outputs": [
        {
          "output_type": "execute_result",
          "data": {
            "text/plain": [
              "620.9731998193503"
            ]
          },
          "metadata": {
            "tags": []
          },
          "execution_count": 48
        }
      ]
    },
    {
      "cell_type": "markdown",
      "metadata": {
        "id": "1FSIoZhAC7Hi"
      },
      "source": [
        "#DATA CLEANSING, FEATURES ENGINEERING"
      ]
    },
    {
      "cell_type": "markdown",
      "metadata": {
        "id": "IXPQOrobM2yC"
      },
      "source": [
        "Ở mục này chúng ta đi làm sạch và lọc dữ liệu những features có liên quan đến bài toán của chúng ta như : passenger_count, trip_distance, fare_amount và cột thời gian trả khách tpep_dropoff_datetime và features mới là DBorugh\r\n",
        "\r\n"
      ]
    },
    {
      "cell_type": "code",
      "metadata": {
        "id": "3Iy4CTT3UwKW"
      },
      "source": [
        "# Filter trips that end in Manhattan\r\n",
        "data_2020_manhattan_drop= data_2020_manhattan.query(\"DBorugh == 3\")"
      ],
      "execution_count": 49,
      "outputs": []
    },
    {
      "cell_type": "markdown",
      "metadata": {
        "id": "DYMxq4dHROtU"
      },
      "source": [
        "## Remove những dữ liệu trong features Passenger_count "
      ]
    },
    {
      "cell_type": "code",
      "metadata": {
        "id": "AYiakW_EVIUP"
      },
      "source": [
        "data_2020_manhattan_drop = data_2020_manhattan_drop.query(\"0 < passenger_count <= 6\")"
      ],
      "execution_count": 50,
      "outputs": []
    },
    {
      "cell_type": "markdown",
      "metadata": {
        "id": "QnH8A-dpWfFI"
      },
      "source": [
        "##Chuẩn hóa features RatecodeID, payment_type, trip_distance, fare_amount "
      ]
    },
    {
      "cell_type": "code",
      "metadata": {
        "id": "orVKyIzccK5-"
      },
      "source": [
        "# Lấy mã tỉ giá chủ yếu\r\n",
        "data_2020_manhattan_drop = data_2020_manhattan_drop.query(\"RatecodeID == 1\")"
      ],
      "execution_count": 51,
      "outputs": []
    },
    {
      "cell_type": "code",
      "metadata": {
        "id": "3aAFXhOycMWm"
      },
      "source": [
        "# Lấy 2 hình thức thanh toán chiếm đa số\r\n",
        "data_2020_manhattan_drop = data_2020_manhattan_drop.query(\"1 <= payment_type <= 2\")"
      ],
      "execution_count": 52,
      "outputs": []
    },
    {
      "cell_type": "code",
      "metadata": {
        "id": "CmQei-08uCaV"
      },
      "source": [
        "# Loại bỏ những dữ liệu khoảng cách mang giá trị âm \r\n",
        "data_2020_manhattan_drop = data_2020_manhattan_drop.query(\"trip_distance >= 0\")\r\n",
        "#Chuyển khoảng cách từ dặm sang km \r\n",
        "data_2020_manhattan_drop[\"trip_distance_VN\"] = (data_2020_manhattan_drop[\"trip_distance\"]/0.621371192)"
      ],
      "execution_count": 53,
      "outputs": []
    },
    {
      "cell_type": "code",
      "metadata": {
        "id": "mWCH9vzg1O45"
      },
      "source": [
        "#Gia trị nhỏ nhất cho một chuyến xe taxi yellow hiện tại mới nhất là 2.50$, lấy fare lớn hơn khoảng này\r\n",
        "data_2020_manhattan_drop = data_2020_manhattan_drop.query(\"fare_amount >= 2.50\")"
      ],
      "execution_count": 54,
      "outputs": []
    },
    {
      "cell_type": "markdown",
      "metadata": {
        "id": "S_yQvdsgy7Ya"
      },
      "source": [
        "## Chuẩn hóa cột dữ liệu thời gian để tính thời lượng của một chuyến xe"
      ]
    },
    {
      "cell_type": "code",
      "metadata": {
        "id": "yk0PahWg4V-s"
      },
      "source": [
        "# Chuyển cột thời gian nhận cuốc xe taxi thành hàng ngang dễ phân tích và so sánh với các cột còn lại\r\n",
        "data_2020_manhattan_durat = data_2020_manhattan_drop.set_index(\"tpep_pickup_datetime\")"
      ],
      "execution_count": 55,
      "outputs": []
    },
    {
      "cell_type": "code",
      "metadata": {
        "id": "9G6bHSTs4hYR",
        "colab": {
          "base_uri": "https://localhost:8080/",
          "height": 331
        },
        "outputId": "bde863f3-eb67-44d8-cc0f-80eff2d0ae55"
      },
      "source": [
        "data_2020_manhattan_durat.head(8)"
      ],
      "execution_count": 56,
      "outputs": [
        {
          "output_type": "execute_result",
          "data": {
            "text/html": [
              "<div>\n",
              "<style scoped>\n",
              "    .dataframe tbody tr th:only-of-type {\n",
              "        vertical-align: middle;\n",
              "    }\n",
              "\n",
              "    .dataframe tbody tr th {\n",
              "        vertical-align: top;\n",
              "    }\n",
              "\n",
              "    .dataframe thead th {\n",
              "        text-align: right;\n",
              "    }\n",
              "</style>\n",
              "<table border=\"1\" class=\"dataframe\">\n",
              "  <thead>\n",
              "    <tr style=\"text-align: right;\">\n",
              "      <th></th>\n",
              "      <th>VendorID</th>\n",
              "      <th>tpep_dropoff_datetime</th>\n",
              "      <th>passenger_count</th>\n",
              "      <th>trip_distance</th>\n",
              "      <th>RatecodeID</th>\n",
              "      <th>store_and_fwd_flag</th>\n",
              "      <th>PULocationID</th>\n",
              "      <th>DOLocationID</th>\n",
              "      <th>payment_type</th>\n",
              "      <th>fare_amount</th>\n",
              "      <th>extra</th>\n",
              "      <th>mta_tax</th>\n",
              "      <th>tip_amount</th>\n",
              "      <th>tolls_amount</th>\n",
              "      <th>improvement_surcharge</th>\n",
              "      <th>total_amount</th>\n",
              "      <th>congestion_surcharge</th>\n",
              "      <th>borugh_label</th>\n",
              "      <th>DBorugh</th>\n",
              "      <th>trip_distance_VN</th>\n",
              "    </tr>\n",
              "    <tr>\n",
              "      <th>tpep_pickup_datetime</th>\n",
              "      <th></th>\n",
              "      <th></th>\n",
              "      <th></th>\n",
              "      <th></th>\n",
              "      <th></th>\n",
              "      <th></th>\n",
              "      <th></th>\n",
              "      <th></th>\n",
              "      <th></th>\n",
              "      <th></th>\n",
              "      <th></th>\n",
              "      <th></th>\n",
              "      <th></th>\n",
              "      <th></th>\n",
              "      <th></th>\n",
              "      <th></th>\n",
              "      <th></th>\n",
              "      <th></th>\n",
              "      <th></th>\n",
              "      <th></th>\n",
              "    </tr>\n",
              "  </thead>\n",
              "  <tbody>\n",
              "    <tr>\n",
              "      <th>2020-01-01 00:00:00</th>\n",
              "      <td>1.0</td>\n",
              "      <td>2020-01-01 00:13:03</td>\n",
              "      <td>1.0</td>\n",
              "      <td>2.20</td>\n",
              "      <td>1.0</td>\n",
              "      <td>N</td>\n",
              "      <td>68.0</td>\n",
              "      <td>170.0</td>\n",
              "      <td>1.0</td>\n",
              "      <td>10.5</td>\n",
              "      <td>3.0</td>\n",
              "      <td>0.5</td>\n",
              "      <td>2.85</td>\n",
              "      <td>0.0</td>\n",
              "      <td>0.3</td>\n",
              "      <td>17.15</td>\n",
              "      <td>2.5</td>\n",
              "      <td>3</td>\n",
              "      <td>3</td>\n",
              "      <td>3.540557</td>\n",
              "    </tr>\n",
              "    <tr>\n",
              "      <th>2020-01-01 00:00:00</th>\n",
              "      <td>2.0</td>\n",
              "      <td>2020-01-01 01:08:55</td>\n",
              "      <td>5.0</td>\n",
              "      <td>1.43</td>\n",
              "      <td>1.0</td>\n",
              "      <td>N</td>\n",
              "      <td>48.0</td>\n",
              "      <td>239.0</td>\n",
              "      <td>2.0</td>\n",
              "      <td>6.5</td>\n",
              "      <td>0.5</td>\n",
              "      <td>0.5</td>\n",
              "      <td>0.00</td>\n",
              "      <td>0.0</td>\n",
              "      <td>0.3</td>\n",
              "      <td>10.30</td>\n",
              "      <td>2.5</td>\n",
              "      <td>3</td>\n",
              "      <td>3</td>\n",
              "      <td>2.301362</td>\n",
              "    </tr>\n",
              "    <tr>\n",
              "      <th>2020-01-01 00:00:00</th>\n",
              "      <td>2.0</td>\n",
              "      <td>2020-01-01 01:45:06</td>\n",
              "      <td>5.0</td>\n",
              "      <td>1.35</td>\n",
              "      <td>1.0</td>\n",
              "      <td>N</td>\n",
              "      <td>48.0</td>\n",
              "      <td>68.0</td>\n",
              "      <td>2.0</td>\n",
              "      <td>8.5</td>\n",
              "      <td>0.5</td>\n",
              "      <td>0.5</td>\n",
              "      <td>0.00</td>\n",
              "      <td>0.0</td>\n",
              "      <td>0.3</td>\n",
              "      <td>12.30</td>\n",
              "      <td>2.5</td>\n",
              "      <td>3</td>\n",
              "      <td>3</td>\n",
              "      <td>2.172614</td>\n",
              "    </tr>\n",
              "    <tr>\n",
              "      <th>2020-01-01 00:00:00</th>\n",
              "      <td>2.0</td>\n",
              "      <td>2020-01-01 02:02:39</td>\n",
              "      <td>5.0</td>\n",
              "      <td>2.33</td>\n",
              "      <td>1.0</td>\n",
              "      <td>N</td>\n",
              "      <td>186.0</td>\n",
              "      <td>79.0</td>\n",
              "      <td>2.0</td>\n",
              "      <td>11.5</td>\n",
              "      <td>0.5</td>\n",
              "      <td>0.5</td>\n",
              "      <td>0.00</td>\n",
              "      <td>0.0</td>\n",
              "      <td>0.3</td>\n",
              "      <td>15.30</td>\n",
              "      <td>2.5</td>\n",
              "      <td>3</td>\n",
              "      <td>3</td>\n",
              "      <td>3.749772</td>\n",
              "    </tr>\n",
              "    <tr>\n",
              "      <th>2020-01-01 00:00:00</th>\n",
              "      <td>2.0</td>\n",
              "      <td>2020-01-01 04:17:14</td>\n",
              "      <td>5.0</td>\n",
              "      <td>0.96</td>\n",
              "      <td>1.0</td>\n",
              "      <td>N</td>\n",
              "      <td>68.0</td>\n",
              "      <td>50.0</td>\n",
              "      <td>2.0</td>\n",
              "      <td>5.5</td>\n",
              "      <td>0.5</td>\n",
              "      <td>0.5</td>\n",
              "      <td>0.00</td>\n",
              "      <td>0.0</td>\n",
              "      <td>0.3</td>\n",
              "      <td>9.30</td>\n",
              "      <td>2.5</td>\n",
              "      <td>3</td>\n",
              "      <td>3</td>\n",
              "      <td>1.544970</td>\n",
              "    </tr>\n",
              "    <tr>\n",
              "      <th>2020-01-01 00:00:02</th>\n",
              "      <td>2.0</td>\n",
              "      <td>2020-01-01 00:16:49</td>\n",
              "      <td>1.0</td>\n",
              "      <td>1.68</td>\n",
              "      <td>1.0</td>\n",
              "      <td>N</td>\n",
              "      <td>68.0</td>\n",
              "      <td>246.0</td>\n",
              "      <td>2.0</td>\n",
              "      <td>11.0</td>\n",
              "      <td>0.5</td>\n",
              "      <td>0.5</td>\n",
              "      <td>0.00</td>\n",
              "      <td>0.0</td>\n",
              "      <td>0.3</td>\n",
              "      <td>14.80</td>\n",
              "      <td>2.5</td>\n",
              "      <td>3</td>\n",
              "      <td>3</td>\n",
              "      <td>2.703698</td>\n",
              "    </tr>\n",
              "    <tr>\n",
              "      <th>2020-01-01 00:00:03</th>\n",
              "      <td>1.0</td>\n",
              "      <td>2020-01-01 00:13:04</td>\n",
              "      <td>2.0</td>\n",
              "      <td>3.00</td>\n",
              "      <td>1.0</td>\n",
              "      <td>N</td>\n",
              "      <td>79.0</td>\n",
              "      <td>162.0</td>\n",
              "      <td>1.0</td>\n",
              "      <td>11.5</td>\n",
              "      <td>3.0</td>\n",
              "      <td>0.5</td>\n",
              "      <td>2.00</td>\n",
              "      <td>0.0</td>\n",
              "      <td>0.3</td>\n",
              "      <td>17.30</td>\n",
              "      <td>2.5</td>\n",
              "      <td>3</td>\n",
              "      <td>3</td>\n",
              "      <td>4.828032</td>\n",
              "    </tr>\n",
              "    <tr>\n",
              "      <th>2020-01-01 00:00:07</th>\n",
              "      <td>1.0</td>\n",
              "      <td>2020-01-01 00:03:26</td>\n",
              "      <td>3.0</td>\n",
              "      <td>0.60</td>\n",
              "      <td>1.0</td>\n",
              "      <td>N</td>\n",
              "      <td>75.0</td>\n",
              "      <td>75.0</td>\n",
              "      <td>2.0</td>\n",
              "      <td>4.5</td>\n",
              "      <td>0.5</td>\n",
              "      <td>0.5</td>\n",
              "      <td>0.00</td>\n",
              "      <td>0.0</td>\n",
              "      <td>0.3</td>\n",
              "      <td>5.80</td>\n",
              "      <td>0.0</td>\n",
              "      <td>3</td>\n",
              "      <td>3</td>\n",
              "      <td>0.965606</td>\n",
              "    </tr>\n",
              "  </tbody>\n",
              "</table>\n",
              "</div>"
            ],
            "text/plain": [
              "                      VendorID tpep_dropoff_datetime  ...  DBorugh  trip_distance_VN\n",
              "tpep_pickup_datetime                                  ...                           \n",
              "2020-01-01 00:00:00        1.0   2020-01-01 00:13:03  ...        3          3.540557\n",
              "2020-01-01 00:00:00        2.0   2020-01-01 01:08:55  ...        3          2.301362\n",
              "2020-01-01 00:00:00        2.0   2020-01-01 01:45:06  ...        3          2.172614\n",
              "2020-01-01 00:00:00        2.0   2020-01-01 02:02:39  ...        3          3.749772\n",
              "2020-01-01 00:00:00        2.0   2020-01-01 04:17:14  ...        3          1.544970\n",
              "2020-01-01 00:00:02        2.0   2020-01-01 00:16:49  ...        3          2.703698\n",
              "2020-01-01 00:00:03        1.0   2020-01-01 00:13:04  ...        3          4.828032\n",
              "2020-01-01 00:00:07        1.0   2020-01-01 00:03:26  ...        3          0.965606\n",
              "\n",
              "[8 rows x 20 columns]"
            ]
          },
          "metadata": {
            "tags": []
          },
          "execution_count": 56
        }
      ]
    },
    {
      "cell_type": "code",
      "metadata": {
        "id": "J6-xhTMLy6hP"
      },
      "source": [
        "data_2020_manhattan_durat[\"Duration\"] = (data_2020_manhattan_durat.tpep_dropoff_datetime - data_2020_manhattan_durat.index).astype('timedelta64[s]')\r\n",
        "# Sau khi tính được như trên thời gian sẽ là giây và chúng ta convert sang giờ\r\n",
        "data_2020_manhattan_durat[\"Duration\"] = (data_2020_manhattan_durat[\"Duration\"]/3600.)\r\n",
        "# Thêm features vận tốc\r\n",
        "data_2020_manhattan_durat[\"Speed\"] = data_2020_manhattan_durat.trip_distance_VN / data_2020_manhattan_durat.Duration"
      ],
      "execution_count": 57,
      "outputs": []
    },
    {
      "cell_type": "code",
      "metadata": {
        "id": "LFK4R-bbzloO"
      },
      "source": [
        "# Loại bỏ dữ liệu thời lượng chuyến đi mang giá trị âm\r\n",
        "data_2020_manhattan_durat = data_2020_manhattan_durat.query(\"Duration > 0\")"
      ],
      "execution_count": 58,
      "outputs": []
    },
    {
      "cell_type": "code",
      "metadata": {
        "id": "lV9KWBOo82Ay",
        "colab": {
          "base_uri": "https://localhost:8080/"
        },
        "outputId": "ecb7e031-c5ad-4334-aad9-0e2caca9dbc3"
      },
      "source": [
        "len(data_2020_manhattan_durat)"
      ],
      "execution_count": 59,
      "outputs": [
        {
          "output_type": "execute_result",
          "data": {
            "text/plain": [
              "13806846"
            ]
          },
          "metadata": {
            "tags": []
          },
          "execution_count": 59
        }
      ]
    },
    {
      "cell_type": "markdown",
      "metadata": {
        "id": "LyzQXq1wyrra"
      },
      "source": [
        "##FEATURES ENGINEERING"
      ]
    },
    {
      "cell_type": "code",
      "metadata": {
        "id": "vOew9cEl9Ra5"
      },
      "source": [
        "scolumns = ['PULocationID','passenger_count', 'trip_distance_VN','Duration','fare_amount']\r\n",
        "data_2020_manhattan_final = data_2020_manhattan_durat[scolumns]"
      ],
      "execution_count": 60,
      "outputs": []
    },
    {
      "cell_type": "code",
      "metadata": {
        "id": "-CKu49NyIR0C"
      },
      "source": [
        "#Chọn các  locations có chiếm tỉ lệ cao trong bộ data của quận manhattan\r\n",
        "locations = [211.0, 143.0,  87.0, 125.0, 166.0,  41.0, 151.0,  74.0, 233.0,\r\n",
        "              144.0, 158.0, 236.0,  75.0, 140.0, 137.0, 237.0,  50.0, 113.0,\r\n",
        "              246.0, 238.0, 231.0, 239.0, 114.0, 142.0, 161.0, 229.0, 163.0,\r\n",
        "              148.0, 162.0, 170.0, 263.0, 234.0, 141.0, 186.0,  90.0, 100.0,\r\n",
        "              107.0, 164.0, 249.0,  68.0,  48.0,  79.0, 230.0]"
      ],
      "execution_count": 22,
      "outputs": []
    },
    {
      "cell_type": "code",
      "metadata": {
        "colab": {
          "base_uri": "https://localhost:8080/",
          "height": 223
        },
        "id": "wlVqVIo8rEO8",
        "outputId": "7105702a-4b5a-4113-cea9-f4cf6ae77ca4"
      },
      "source": [
        "data_2020_manhattan_final.head()"
      ],
      "execution_count": 62,
      "outputs": [
        {
          "output_type": "execute_result",
          "data": {
            "text/html": [
              "<div>\n",
              "<style scoped>\n",
              "    .dataframe tbody tr th:only-of-type {\n",
              "        vertical-align: middle;\n",
              "    }\n",
              "\n",
              "    .dataframe tbody tr th {\n",
              "        vertical-align: top;\n",
              "    }\n",
              "\n",
              "    .dataframe thead th {\n",
              "        text-align: right;\n",
              "    }\n",
              "</style>\n",
              "<table border=\"1\" class=\"dataframe\">\n",
              "  <thead>\n",
              "    <tr style=\"text-align: right;\">\n",
              "      <th></th>\n",
              "      <th>PULocationID</th>\n",
              "      <th>passenger_count</th>\n",
              "      <th>trip_distance_VN</th>\n",
              "      <th>Duration</th>\n",
              "      <th>fare_amount</th>\n",
              "    </tr>\n",
              "    <tr>\n",
              "      <th>tpep_pickup_datetime</th>\n",
              "      <th></th>\n",
              "      <th></th>\n",
              "      <th></th>\n",
              "      <th></th>\n",
              "      <th></th>\n",
              "    </tr>\n",
              "  </thead>\n",
              "  <tbody>\n",
              "    <tr>\n",
              "      <th>2020-01-01</th>\n",
              "      <td>68.0</td>\n",
              "      <td>1.0</td>\n",
              "      <td>3.540557</td>\n",
              "      <td>0.217500</td>\n",
              "      <td>10.5</td>\n",
              "    </tr>\n",
              "    <tr>\n",
              "      <th>2020-01-01</th>\n",
              "      <td>48.0</td>\n",
              "      <td>5.0</td>\n",
              "      <td>2.301362</td>\n",
              "      <td>1.148611</td>\n",
              "      <td>6.5</td>\n",
              "    </tr>\n",
              "    <tr>\n",
              "      <th>2020-01-01</th>\n",
              "      <td>48.0</td>\n",
              "      <td>5.0</td>\n",
              "      <td>2.172614</td>\n",
              "      <td>1.751667</td>\n",
              "      <td>8.5</td>\n",
              "    </tr>\n",
              "    <tr>\n",
              "      <th>2020-01-01</th>\n",
              "      <td>186.0</td>\n",
              "      <td>5.0</td>\n",
              "      <td>3.749772</td>\n",
              "      <td>2.044167</td>\n",
              "      <td>11.5</td>\n",
              "    </tr>\n",
              "    <tr>\n",
              "      <th>2020-01-01</th>\n",
              "      <td>68.0</td>\n",
              "      <td>5.0</td>\n",
              "      <td>1.544970</td>\n",
              "      <td>4.287222</td>\n",
              "      <td>5.5</td>\n",
              "    </tr>\n",
              "  </tbody>\n",
              "</table>\n",
              "</div>"
            ],
            "text/plain": [
              "                      PULocationID  passenger_count  ...  Duration  fare_amount\n",
              "tpep_pickup_datetime                                 ...                       \n",
              "2020-01-01                    68.0              1.0  ...  0.217500         10.5\n",
              "2020-01-01                    48.0              5.0  ...  1.148611          6.5\n",
              "2020-01-01                    48.0              5.0  ...  1.751667          8.5\n",
              "2020-01-01                   186.0              5.0  ...  2.044167         11.5\n",
              "2020-01-01                    68.0              5.0  ...  4.287222          5.5\n",
              "\n",
              "[5 rows x 5 columns]"
            ]
          },
          "metadata": {
            "tags": []
          },
          "execution_count": 62
        }
      ]
    },
    {
      "cell_type": "code",
      "metadata": {
        "id": "Xo_TpNnpZU_X",
        "colab": {
          "base_uri": "https://localhost:8080/"
        },
        "outputId": "adb9ab2e-8aa3-48a6-b5d0-6e5a9f1743f7"
      },
      "source": [
        "data_2020_manhattan_final.isnull().sum().compute()"
      ],
      "execution_count": 63,
      "outputs": [
        {
          "output_type": "execute_result",
          "data": {
            "text/plain": [
              "PULocationID        0\n",
              "passenger_count     0\n",
              "trip_distance_VN    0\n",
              "Duration            0\n",
              "fare_amount         0\n",
              "dtype: int64"
            ]
          },
          "metadata": {
            "tags": []
          },
          "execution_count": 63
        }
      ]
    },
    {
      "cell_type": "code",
      "metadata": {
        "id": "kyRACgCsbF0O",
        "colab": {
          "base_uri": "https://localhost:8080/",
          "height": 282
        },
        "outputId": "44f9519f-a845-4d08-b862-c150e3ce6990"
      },
      "source": [
        "data_2020_manhattan_final.describe().compute()"
      ],
      "execution_count": 64,
      "outputs": [
        {
          "output_type": "execute_result",
          "data": {
            "text/html": [
              "<div>\n",
              "<style scoped>\n",
              "    .dataframe tbody tr th:only-of-type {\n",
              "        vertical-align: middle;\n",
              "    }\n",
              "\n",
              "    .dataframe tbody tr th {\n",
              "        vertical-align: top;\n",
              "    }\n",
              "\n",
              "    .dataframe thead th {\n",
              "        text-align: right;\n",
              "    }\n",
              "</style>\n",
              "<table border=\"1\" class=\"dataframe\">\n",
              "  <thead>\n",
              "    <tr style=\"text-align: right;\">\n",
              "      <th></th>\n",
              "      <th>PULocationID</th>\n",
              "      <th>passenger_count</th>\n",
              "      <th>trip_distance_VN</th>\n",
              "      <th>Duration</th>\n",
              "      <th>fare_amount</th>\n",
              "    </tr>\n",
              "  </thead>\n",
              "  <tbody>\n",
              "    <tr>\n",
              "      <th>count</th>\n",
              "      <td>1.380685e+07</td>\n",
              "      <td>1.380685e+07</td>\n",
              "      <td>1.380685e+07</td>\n",
              "      <td>1.380685e+07</td>\n",
              "      <td>1.380685e+07</td>\n",
              "    </tr>\n",
              "    <tr>\n",
              "      <th>mean</th>\n",
              "      <td>1.666818e+02</td>\n",
              "      <td>1.526108e+00</td>\n",
              "      <td>2.990907e+00</td>\n",
              "      <td>2.248800e-01</td>\n",
              "      <td>9.465929e+00</td>\n",
              "    </tr>\n",
              "    <tr>\n",
              "      <th>std</th>\n",
              "      <td>6.629008e+01</td>\n",
              "      <td>1.133209e+00</td>\n",
              "      <td>2.332482e+00</td>\n",
              "      <td>9.941903e-01</td>\n",
              "      <td>4.965379e+00</td>\n",
              "    </tr>\n",
              "    <tr>\n",
              "      <th>min</th>\n",
              "      <td>4.000000e+00</td>\n",
              "      <td>1.000000e+00</td>\n",
              "      <td>0.000000e+00</td>\n",
              "      <td>2.777778e-04</td>\n",
              "      <td>2.500000e+00</td>\n",
              "    </tr>\n",
              "    <tr>\n",
              "      <th>25%</th>\n",
              "      <td>1.400000e+02</td>\n",
              "      <td>1.000000e+00</td>\n",
              "      <td>1.544970e+00</td>\n",
              "      <td>1.111111e-01</td>\n",
              "      <td>6.500000e+00</td>\n",
              "    </tr>\n",
              "    <tr>\n",
              "      <th>50%</th>\n",
              "      <td>1.630000e+02</td>\n",
              "      <td>1.000000e+00</td>\n",
              "      <td>2.558857e+00</td>\n",
              "      <td>1.730556e-01</td>\n",
              "      <td>8.500000e+00</td>\n",
              "    </tr>\n",
              "    <tr>\n",
              "      <th>75%</th>\n",
              "      <td>2.360000e+02</td>\n",
              "      <td>2.000000e+00</td>\n",
              "      <td>4.152108e+00</td>\n",
              "      <td>2.672222e-01</td>\n",
              "      <td>1.200000e+01</td>\n",
              "    </tr>\n",
              "    <tr>\n",
              "      <th>max</th>\n",
              "      <td>2.630000e+02</td>\n",
              "      <td>6.000000e+00</td>\n",
              "      <td>4.910109e+02</td>\n",
              "      <td>1.420853e+02</td>\n",
              "      <td>4.265000e+03</td>\n",
              "    </tr>\n",
              "  </tbody>\n",
              "</table>\n",
              "</div>"
            ],
            "text/plain": [
              "       PULocationID  passenger_count  ...      Duration   fare_amount\n",
              "count  1.380685e+07     1.380685e+07  ...  1.380685e+07  1.380685e+07\n",
              "mean   1.666818e+02     1.526108e+00  ...  2.248800e-01  9.465929e+00\n",
              "std    6.629008e+01     1.133209e+00  ...  9.941903e-01  4.965379e+00\n",
              "min    4.000000e+00     1.000000e+00  ...  2.777778e-04  2.500000e+00\n",
              "25%    1.400000e+02     1.000000e+00  ...  1.111111e-01  6.500000e+00\n",
              "50%    1.630000e+02     1.000000e+00  ...  1.730556e-01  8.500000e+00\n",
              "75%    2.360000e+02     2.000000e+00  ...  2.672222e-01  1.200000e+01\n",
              "max    2.630000e+02     6.000000e+00  ...  1.420853e+02  4.265000e+03\n",
              "\n",
              "[8 rows x 5 columns]"
            ]
          },
          "metadata": {
            "tags": []
          },
          "execution_count": 64
        }
      ]
    },
    {
      "cell_type": "markdown",
      "metadata": {
        "id": "Je8O1sXfpwHh"
      },
      "source": [
        "- Độ lệch chuẩn của thời lượng là khoảng gần 1 giờ\r\n",
        "\r\n",
        "- Nhưng vì chúng ta chỉ chọn 1 khu vực để train model nên chọn độ lệch thời gian cho các sample tiếp theo là 10min\r\n",
        "\r\n",
        "- Bộ dữ liệu cuối cùng sẽ được gộp lại các feature vẫn giữ nguyên sẽ được tính tổng lại trong thời điểm nhất định"
      ]
    },
    {
      "cell_type": "code",
      "metadata": {
        "id": "m_dmpg9LbncK"
      },
      "source": [
        "#Đưa cảnh báo cho modules resample(time)\r\n",
        "import warnings\r\n",
        "with warnings.catch_warnings():\r\n",
        "    warnings.simplefilter(\"ignore\")\r\n",
        "    resample_duration = [\"10min\",\"1H\"]\r\n",
        "    for dur in resample_duration:\r\n",
        "        data_2020_manhattan_final_resampled = data_2020_manhattan_final.groupby(\"PULocationID\").apply(lambda x: x.resample(dur).sum()).compute()\r\n",
        "        data_2020_manhattan_final_resampled = data_2020_manhattan_final_resampled.drop(\"PULocationID\", axis=1)\r\n",
        "        # Xuất ra vận tốc trung bình trong khoảng gian \r\n",
        "        data_2020_manhattan_final_resampled[\"Speed\"] = data_2020_manhattan_final_resampled.trip_distance_VN / data_2020_manhattan_final_resampled.Duration\r\n",
        "        #Lưu lại file     \r\n",
        "        data_2020_manhattan_final_resampled.to_csv(f\"/content/data_2020_manhattan_final_resampled_{dur}.csv\")"
      ],
      "execution_count": 65,
      "outputs": []
    },
    {
      "cell_type": "code",
      "metadata": {
        "id": "uNuHh9tlhhA4",
        "colab": {
          "base_uri": "https://localhost:8080/",
          "height": 223
        },
        "outputId": "d7c7a51c-b93e-4bf8-bbb1-f30efb84f756"
      },
      "source": [
        "data_2020_manhattan_final_resampled.head()"
      ],
      "execution_count": 66,
      "outputs": [
        {
          "output_type": "execute_result",
          "data": {
            "text/html": [
              "<div>\n",
              "<style scoped>\n",
              "    .dataframe tbody tr th:only-of-type {\n",
              "        vertical-align: middle;\n",
              "    }\n",
              "\n",
              "    .dataframe tbody tr th {\n",
              "        vertical-align: top;\n",
              "    }\n",
              "\n",
              "    .dataframe thead th {\n",
              "        text-align: right;\n",
              "    }\n",
              "</style>\n",
              "<table border=\"1\" class=\"dataframe\">\n",
              "  <thead>\n",
              "    <tr style=\"text-align: right;\">\n",
              "      <th></th>\n",
              "      <th></th>\n",
              "      <th>passenger_count</th>\n",
              "      <th>trip_distance_VN</th>\n",
              "      <th>Duration</th>\n",
              "      <th>fare_amount</th>\n",
              "      <th>Speed</th>\n",
              "    </tr>\n",
              "    <tr>\n",
              "      <th>PULocationID</th>\n",
              "      <th>tpep_pickup_datetime</th>\n",
              "      <th></th>\n",
              "      <th></th>\n",
              "      <th></th>\n",
              "      <th></th>\n",
              "      <th></th>\n",
              "    </tr>\n",
              "  </thead>\n",
              "  <tbody>\n",
              "    <tr>\n",
              "      <th rowspan=\"5\" valign=\"top\">100.0</th>\n",
              "      <th>2020-01-01 00:00:00</th>\n",
              "      <td>42.0</td>\n",
              "      <td>60.527428</td>\n",
              "      <td>5.356111</td>\n",
              "      <td>238.0</td>\n",
              "      <td>11.300630</td>\n",
              "    </tr>\n",
              "    <tr>\n",
              "      <th>2020-01-01 01:00:00</th>\n",
              "      <td>113.0</td>\n",
              "      <td>173.776965</td>\n",
              "      <td>14.093611</td>\n",
              "      <td>632.0</td>\n",
              "      <td>12.330194</td>\n",
              "    </tr>\n",
              "    <tr>\n",
              "      <th>2020-01-01 02:00:00</th>\n",
              "      <td>187.0</td>\n",
              "      <td>376.747431</td>\n",
              "      <td>21.682500</td>\n",
              "      <td>1127.5</td>\n",
              "      <td>17.375645</td>\n",
              "    </tr>\n",
              "    <tr>\n",
              "      <th>2020-01-01 03:00:00</th>\n",
              "      <td>167.0</td>\n",
              "      <td>358.577937</td>\n",
              "      <td>39.170000</td>\n",
              "      <td>952.5</td>\n",
              "      <td>9.154402</td>\n",
              "    </tr>\n",
              "    <tr>\n",
              "      <th>2020-01-01 04:00:00</th>\n",
              "      <td>77.0</td>\n",
              "      <td>141.960234</td>\n",
              "      <td>6.294722</td>\n",
              "      <td>382.0</td>\n",
              "      <td>22.552264</td>\n",
              "    </tr>\n",
              "  </tbody>\n",
              "</table>\n",
              "</div>"
            ],
            "text/plain": [
              "                                   passenger_count  ...      Speed\n",
              "PULocationID tpep_pickup_datetime                   ...           \n",
              "100.0        2020-01-01 00:00:00              42.0  ...  11.300630\n",
              "             2020-01-01 01:00:00             113.0  ...  12.330194\n",
              "             2020-01-01 02:00:00             187.0  ...  17.375645\n",
              "             2020-01-01 03:00:00             167.0  ...   9.154402\n",
              "             2020-01-01 04:00:00              77.0  ...  22.552264\n",
              "\n",
              "[5 rows x 5 columns]"
            ]
          },
          "metadata": {
            "tags": []
          },
          "execution_count": 66
        }
      ]
    },
    {
      "cell_type": "code",
      "metadata": {
        "id": "xRXb2P2rqine",
        "colab": {
          "base_uri": "https://localhost:8080/",
          "height": 223
        },
        "outputId": "df39fa36-b537-4583-d751-2b5c9c5cd7d0"
      },
      "source": [
        "#Đọc dữ liệu của quận manhattan với độ lệch thời gian của các sample là 10min\r\n",
        "data_2020_manhattan_final_10min = pd.read_csv(f\"/content/data_2020_manhattan_final_resampled_10min.csv\", index_col=1)\r\n",
        "data_2020_manhattan_final_10min.index = pd.to_datetime(data_2020_manhattan_final_10min.index)\r\n",
        "data_2020_manhattan_final_10min.tail()"
      ],
      "execution_count": 13,
      "outputs": [
        {
          "output_type": "execute_result",
          "data": {
            "text/html": [
              "<div>\n",
              "<style scoped>\n",
              "    .dataframe tbody tr th:only-of-type {\n",
              "        vertical-align: middle;\n",
              "    }\n",
              "\n",
              "    .dataframe tbody tr th {\n",
              "        vertical-align: top;\n",
              "    }\n",
              "\n",
              "    .dataframe thead th {\n",
              "        text-align: right;\n",
              "    }\n",
              "</style>\n",
              "<table border=\"1\" class=\"dataframe\">\n",
              "  <thead>\n",
              "    <tr style=\"text-align: right;\">\n",
              "      <th></th>\n",
              "      <th>PULocationID</th>\n",
              "      <th>passenger_count</th>\n",
              "      <th>trip_distance_VN</th>\n",
              "      <th>Duration</th>\n",
              "      <th>fare_amount</th>\n",
              "      <th>Speed</th>\n",
              "    </tr>\n",
              "    <tr>\n",
              "      <th>tpep_pickup_datetime</th>\n",
              "      <th></th>\n",
              "      <th></th>\n",
              "      <th></th>\n",
              "      <th></th>\n",
              "      <th></th>\n",
              "      <th></th>\n",
              "    </tr>\n",
              "  </thead>\n",
              "  <tbody>\n",
              "    <tr>\n",
              "      <th>2020-06-30 20:00:00</th>\n",
              "      <td>261.0</td>\n",
              "      <td>0.0</td>\n",
              "      <td>0.000000</td>\n",
              "      <td>0.000000</td>\n",
              "      <td>0.0</td>\n",
              "      <td>NaN</td>\n",
              "    </tr>\n",
              "    <tr>\n",
              "      <th>2020-06-30 20:10:00</th>\n",
              "      <td>261.0</td>\n",
              "      <td>0.0</td>\n",
              "      <td>0.000000</td>\n",
              "      <td>0.000000</td>\n",
              "      <td>0.0</td>\n",
              "      <td>NaN</td>\n",
              "    </tr>\n",
              "    <tr>\n",
              "      <th>2020-06-30 20:20:00</th>\n",
              "      <td>261.0</td>\n",
              "      <td>0.0</td>\n",
              "      <td>0.000000</td>\n",
              "      <td>0.000000</td>\n",
              "      <td>0.0</td>\n",
              "      <td>NaN</td>\n",
              "    </tr>\n",
              "    <tr>\n",
              "      <th>2020-06-30 20:30:00</th>\n",
              "      <td>261.0</td>\n",
              "      <td>3.0</td>\n",
              "      <td>3.250875</td>\n",
              "      <td>0.182500</td>\n",
              "      <td>9.5</td>\n",
              "      <td>17.813013</td>\n",
              "    </tr>\n",
              "    <tr>\n",
              "      <th>2020-06-30 20:40:00</th>\n",
              "      <td>261.0</td>\n",
              "      <td>1.0</td>\n",
              "      <td>4.425696</td>\n",
              "      <td>0.100833</td>\n",
              "      <td>9.0</td>\n",
              "      <td>43.891200</td>\n",
              "    </tr>\n",
              "  </tbody>\n",
              "</table>\n",
              "</div>"
            ],
            "text/plain": [
              "                      PULocationID  passenger_count  ...  fare_amount      Speed\n",
              "tpep_pickup_datetime                                 ...                        \n",
              "2020-06-30 20:00:00          261.0              0.0  ...          0.0        NaN\n",
              "2020-06-30 20:10:00          261.0              0.0  ...          0.0        NaN\n",
              "2020-06-30 20:20:00          261.0              0.0  ...          0.0        NaN\n",
              "2020-06-30 20:30:00          261.0              3.0  ...          9.5  17.813013\n",
              "2020-06-30 20:40:00          261.0              1.0  ...          9.0  43.891200\n",
              "\n",
              "[5 rows x 6 columns]"
            ]
          },
          "metadata": {
            "tags": []
          },
          "execution_count": 13
        }
      ]
    },
    {
      "cell_type": "markdown",
      "metadata": {
        "id": "X5bK0jj9eUue"
      },
      "source": [
        "- Ví dụ như trên cột tpep_pickup_datetime là khoảng thời điểm thì ta có các giá trị nhất định của các features  "
      ]
    },
    {
      "cell_type": "markdown",
      "metadata": {
        "id": "U960tiaIGLLP"
      },
      "source": [
        "###Final EDA"
      ]
    },
    {
      "cell_type": "code",
      "metadata": {
        "id": "nlznHM0O2-OJ",
        "colab": {
          "base_uri": "https://localhost:8080/"
        },
        "outputId": "c35a632a-968e-43a2-ae7b-f3f7266c1815"
      },
      "source": [
        "print(data_2020_manhattan_final_10min.index)\r\n",
        "print(data_2020_manhattan_final_10min.fare_amount.describe())"
      ],
      "execution_count": 14,
      "outputs": [
        {
          "output_type": "stream",
          "text": [
            "DatetimeIndex(['2020-01-01 00:00:00', '2020-01-01 00:10:00',\n",
            "               '2020-01-01 00:20:00', '2020-01-01 00:30:00',\n",
            "               '2020-01-01 00:40:00', '2020-01-01 00:50:00',\n",
            "               '2020-01-01 01:00:00', '2020-01-01 01:10:00',\n",
            "               '2020-01-01 01:20:00', '2020-01-01 01:30:00',\n",
            "               ...\n",
            "               '2020-06-30 19:10:00', '2020-06-30 19:20:00',\n",
            "               '2020-06-30 19:30:00', '2020-06-30 19:40:00',\n",
            "               '2020-06-30 19:50:00', '2020-06-30 20:00:00',\n",
            "               '2020-06-30 20:10:00', '2020-06-30 20:20:00',\n",
            "               '2020-06-30 20:30:00', '2020-06-30 20:40:00'],\n",
            "              dtype='datetime64[ns]', name='tpep_pickup_datetime', length=1858404, freq=None)\n",
            "count    1.858404e+06\n",
            "mean     7.032627e+01\n",
            "std      1.642848e+02\n",
            "min      0.000000e+00\n",
            "25%      0.000000e+00\n",
            "50%      5.000000e+00\n",
            "75%      4.450000e+01\n",
            "max      4.719500e+03\n",
            "Name: fare_amount, dtype: float64\n"
          ],
          "name": "stdout"
        }
      ]
    },
    {
      "cell_type": "code",
      "metadata": {
        "id": "kpuBnROsCyNi",
        "colab": {
          "base_uri": "https://localhost:8080/",
          "height": 223
        },
        "outputId": "3f7e10df-2c4c-4c1c-bcdc-95429509a117"
      },
      "source": [
        "# Xuất thử kết quả một khu vực \r\n",
        "data_2020_manhattan_final_10min.query(\"PULocationID == 237\").head()"
      ],
      "execution_count": 15,
      "outputs": [
        {
          "output_type": "execute_result",
          "data": {
            "text/html": [
              "<div>\n",
              "<style scoped>\n",
              "    .dataframe tbody tr th:only-of-type {\n",
              "        vertical-align: middle;\n",
              "    }\n",
              "\n",
              "    .dataframe tbody tr th {\n",
              "        vertical-align: top;\n",
              "    }\n",
              "\n",
              "    .dataframe thead th {\n",
              "        text-align: right;\n",
              "    }\n",
              "</style>\n",
              "<table border=\"1\" class=\"dataframe\">\n",
              "  <thead>\n",
              "    <tr style=\"text-align: right;\">\n",
              "      <th></th>\n",
              "      <th>PULocationID</th>\n",
              "      <th>passenger_count</th>\n",
              "      <th>trip_distance_VN</th>\n",
              "      <th>Duration</th>\n",
              "      <th>fare_amount</th>\n",
              "      <th>Speed</th>\n",
              "    </tr>\n",
              "    <tr>\n",
              "      <th>tpep_pickup_datetime</th>\n",
              "      <th></th>\n",
              "      <th></th>\n",
              "      <th></th>\n",
              "      <th></th>\n",
              "      <th></th>\n",
              "      <th></th>\n",
              "    </tr>\n",
              "  </thead>\n",
              "  <tbody>\n",
              "    <tr>\n",
              "      <th>2020-01-01 00:00:00</th>\n",
              "      <td>237.0</td>\n",
              "      <td>44.0</td>\n",
              "      <td>108.904309</td>\n",
              "      <td>5.208611</td>\n",
              "      <td>294.0</td>\n",
              "      <td>20.908512</td>\n",
              "    </tr>\n",
              "    <tr>\n",
              "      <th>2020-01-01 00:10:00</th>\n",
              "      <td>237.0</td>\n",
              "      <td>118.0</td>\n",
              "      <td>199.639123</td>\n",
              "      <td>11.191389</td>\n",
              "      <td>621.0</td>\n",
              "      <td>17.838637</td>\n",
              "    </tr>\n",
              "    <tr>\n",
              "      <th>2020-01-01 00:20:00</th>\n",
              "      <td>237.0</td>\n",
              "      <td>180.0</td>\n",
              "      <td>263.546174</td>\n",
              "      <td>38.904722</td>\n",
              "      <td>862.5</td>\n",
              "      <td>6.774144</td>\n",
              "    </tr>\n",
              "    <tr>\n",
              "      <th>2020-01-01 00:30:00</th>\n",
              "      <td>237.0</td>\n",
              "      <td>156.0</td>\n",
              "      <td>305.163809</td>\n",
              "      <td>16.082222</td>\n",
              "      <td>912.0</td>\n",
              "      <td>18.975227</td>\n",
              "    </tr>\n",
              "    <tr>\n",
              "      <th>2020-01-01 00:40:00</th>\n",
              "      <td>237.0</td>\n",
              "      <td>161.0</td>\n",
              "      <td>253.584334</td>\n",
              "      <td>18.091389</td>\n",
              "      <td>890.0</td>\n",
              "      <td>14.016853</td>\n",
              "    </tr>\n",
              "  </tbody>\n",
              "</table>\n",
              "</div>"
            ],
            "text/plain": [
              "                      PULocationID  passenger_count  ...  fare_amount      Speed\n",
              "tpep_pickup_datetime                                 ...                        \n",
              "2020-01-01 00:00:00          237.0             44.0  ...        294.0  20.908512\n",
              "2020-01-01 00:10:00          237.0            118.0  ...        621.0  17.838637\n",
              "2020-01-01 00:20:00          237.0            180.0  ...        862.5   6.774144\n",
              "2020-01-01 00:30:00          237.0            156.0  ...        912.0  18.975227\n",
              "2020-01-01 00:40:00          237.0            161.0  ...        890.0  14.016853\n",
              "\n",
              "[5 rows x 6 columns]"
            ]
          },
          "metadata": {
            "tags": []
          },
          "execution_count": 15
        }
      ]
    },
    {
      "cell_type": "code",
      "metadata": {
        "id": "JS7JA7LrDNOM",
        "colab": {
          "base_uri": "https://localhost:8080/"
        },
        "outputId": "53efc402-2e1c-4038-b3a3-1b8eb3adbe2b"
      },
      "source": [
        "data_2020_manhattan_final_10min.shape"
      ],
      "execution_count": 16,
      "outputs": [
        {
          "output_type": "execute_result",
          "data": {
            "text/plain": [
              "(1858404, 6)"
            ]
          },
          "metadata": {
            "tags": []
          },
          "execution_count": 16
        }
      ]
    },
    {
      "cell_type": "code",
      "metadata": {
        "id": "uJAsR-GADvZz",
        "colab": {
          "base_uri": "https://localhost:8080/"
        },
        "outputId": "d26d86e2-6fc6-41b7-e627-9acbf4d9c740"
      },
      "source": [
        "#Xuất ra các giá trị khuyết của features Speed\r\n",
        "print(len(data_2020_manhattan_final_10min[data_2020_manhattan_final_10min.Speed.isnull()]))"
      ],
      "execution_count": 17,
      "outputs": [
        {
          "output_type": "stream",
          "text": [
            "896114\n"
          ],
          "name": "stdout"
        }
      ]
    },
    {
      "cell_type": "code",
      "metadata": {
        "id": "qIyd0D5JFb09"
      },
      "source": [
        "# Điều các giá trị khuyết\r\n",
        "data_2020_manhattan_final_10mins = data_2020_manhattan_final_10min.replace(to_replace=0, method=\"ffill\")\r\n",
        "# Tính toán lại cột Speed\r\n",
        "data_2020_manhattan_final_10mins.Speed.fillna(data_2020_manhattan_final_10mins.trip_distance_VN/data_2020_manhattan_final_10mins.Duration, inplace=True)"
      ],
      "execution_count": 18,
      "outputs": []
    },
    {
      "cell_type": "code",
      "metadata": {
        "id": "OFc1YEyQgtDo",
        "colab": {
          "base_uri": "https://localhost:8080/",
          "height": 223
        },
        "outputId": "67d205d3-bd08-4a7b-e525-a680841ab2af"
      },
      "source": [
        "data_2020_manhattan_final_10mins.head()"
      ],
      "execution_count": 19,
      "outputs": [
        {
          "output_type": "execute_result",
          "data": {
            "text/html": [
              "<div>\n",
              "<style scoped>\n",
              "    .dataframe tbody tr th:only-of-type {\n",
              "        vertical-align: middle;\n",
              "    }\n",
              "\n",
              "    .dataframe tbody tr th {\n",
              "        vertical-align: top;\n",
              "    }\n",
              "\n",
              "    .dataframe thead th {\n",
              "        text-align: right;\n",
              "    }\n",
              "</style>\n",
              "<table border=\"1\" class=\"dataframe\">\n",
              "  <thead>\n",
              "    <tr style=\"text-align: right;\">\n",
              "      <th></th>\n",
              "      <th>PULocationID</th>\n",
              "      <th>passenger_count</th>\n",
              "      <th>trip_distance_VN</th>\n",
              "      <th>Duration</th>\n",
              "      <th>fare_amount</th>\n",
              "      <th>Speed</th>\n",
              "    </tr>\n",
              "    <tr>\n",
              "      <th>tpep_pickup_datetime</th>\n",
              "      <th></th>\n",
              "      <th></th>\n",
              "      <th></th>\n",
              "      <th></th>\n",
              "      <th></th>\n",
              "      <th></th>\n",
              "    </tr>\n",
              "  </thead>\n",
              "  <tbody>\n",
              "    <tr>\n",
              "      <th>2020-01-01 00:00:00</th>\n",
              "      <td>100.0</td>\n",
              "      <td>2.0</td>\n",
              "      <td>11.909146</td>\n",
              "      <td>0.617778</td>\n",
              "      <td>31.0</td>\n",
              "      <td>19.277394</td>\n",
              "    </tr>\n",
              "    <tr>\n",
              "      <th>2020-01-01 00:10:00</th>\n",
              "      <td>100.0</td>\n",
              "      <td>2.0</td>\n",
              "      <td>6.582217</td>\n",
              "      <td>0.791944</td>\n",
              "      <td>31.0</td>\n",
              "      <td>8.311463</td>\n",
              "    </tr>\n",
              "    <tr>\n",
              "      <th>2020-01-01 00:20:00</th>\n",
              "      <td>100.0</td>\n",
              "      <td>3.0</td>\n",
              "      <td>3.701491</td>\n",
              "      <td>0.400000</td>\n",
              "      <td>17.5</td>\n",
              "      <td>9.253728</td>\n",
              "    </tr>\n",
              "    <tr>\n",
              "      <th>2020-01-01 00:30:00</th>\n",
              "      <td>100.0</td>\n",
              "      <td>15.0</td>\n",
              "      <td>12.488509</td>\n",
              "      <td>1.645556</td>\n",
              "      <td>64.5</td>\n",
              "      <td>7.589236</td>\n",
              "    </tr>\n",
              "    <tr>\n",
              "      <th>2020-01-01 00:40:00</th>\n",
              "      <td>100.0</td>\n",
              "      <td>6.0</td>\n",
              "      <td>7.209861</td>\n",
              "      <td>0.858889</td>\n",
              "      <td>36.5</td>\n",
              "      <td>8.394405</td>\n",
              "    </tr>\n",
              "  </tbody>\n",
              "</table>\n",
              "</div>"
            ],
            "text/plain": [
              "                      PULocationID  passenger_count  ...  fare_amount      Speed\n",
              "tpep_pickup_datetime                                 ...                        \n",
              "2020-01-01 00:00:00          100.0              2.0  ...         31.0  19.277394\n",
              "2020-01-01 00:10:00          100.0              2.0  ...         31.0   8.311463\n",
              "2020-01-01 00:20:00          100.0              3.0  ...         17.5   9.253728\n",
              "2020-01-01 00:30:00          100.0             15.0  ...         64.5   7.589236\n",
              "2020-01-01 00:40:00          100.0              6.0  ...         36.5   8.394405\n",
              "\n",
              "[5 rows x 6 columns]"
            ]
          },
          "metadata": {
            "tags": []
          },
          "execution_count": 19
        }
      ]
    },
    {
      "cell_type": "code",
      "metadata": {
        "colab": {
          "base_uri": "https://localhost:8080/"
        },
        "id": "lsG6PZ8zxoWx",
        "outputId": "b2c74874-dd12-44a2-91cc-3c806dd8e6ee"
      },
      "source": [
        "data_2020_manhattan_final_10mins.shape"
      ],
      "execution_count": 20,
      "outputs": [
        {
          "output_type": "execute_result",
          "data": {
            "text/plain": [
              "(1858404, 6)"
            ]
          },
          "metadata": {
            "tags": []
          },
          "execution_count": 20
        }
      ]
    },
    {
      "cell_type": "code",
      "metadata": {
        "id": "XOo5jphTKBAV"
      },
      "source": [
        "#Chọn dữ liệu khu vực cần train cho bài toán\r\n",
        "selected_data_2020_manhattan = {loc:data_2020_manhattan_final_10mins.query(f\"PULocationID == {loc}\") for loc in locations}"
      ],
      "execution_count": 23,
      "outputs": []
    },
    {
      "cell_type": "markdown",
      "metadata": {
        "id": "au2kO3srLEWl"
      },
      "source": [
        "- Ở đây chúng ta chọn dữ liệu khu vực 237 để đi train và đánh giá model là vì số lượng các chuyến xe taxi được thực hiện nhiều nhất, cũng như tỉ lệ % của nó cũng chiếm tỉ lệ cao nhất trong tất cả khu vực. Chúng ta làm như thế này vừa có thể không thay đổi dự liệu để giải quyết bài toán, vừa có thể rút gọn được dữ liệu về kích thước nhỏ hơn tiết kiệm được rất nhiều thời gian để train model."
      ]
    },
    {
      "cell_type": "markdown",
      "metadata": {
        "id": "LW9Vjil2dHiG"
      },
      "source": [
        "## Chọn khu vực để tiến hành thực hiện bài toán dự đoán"
      ]
    },
    {
      "cell_type": "code",
      "metadata": {
        "id": "uctQmQ3uK1f3",
        "colab": {
          "base_uri": "https://localhost:8080/",
          "height": 223
        },
        "outputId": "b944dfdd-d528-48eb-e028-23b1a04a459a"
      },
      "source": [
        "selected_data_2020_manhattan_237 = selected_data_2020_manhattan[237]\r\n",
        "selected_data_2020_manhattan_237.head()"
      ],
      "execution_count": 29,
      "outputs": [
        {
          "output_type": "execute_result",
          "data": {
            "text/html": [
              "<div>\n",
              "<style scoped>\n",
              "    .dataframe tbody tr th:only-of-type {\n",
              "        vertical-align: middle;\n",
              "    }\n",
              "\n",
              "    .dataframe tbody tr th {\n",
              "        vertical-align: top;\n",
              "    }\n",
              "\n",
              "    .dataframe thead th {\n",
              "        text-align: right;\n",
              "    }\n",
              "</style>\n",
              "<table border=\"1\" class=\"dataframe\">\n",
              "  <thead>\n",
              "    <tr style=\"text-align: right;\">\n",
              "      <th></th>\n",
              "      <th>PULocationID</th>\n",
              "      <th>passenger_count</th>\n",
              "      <th>trip_distance_VN</th>\n",
              "      <th>Duration</th>\n",
              "      <th>fare_amount</th>\n",
              "      <th>Speed</th>\n",
              "    </tr>\n",
              "    <tr>\n",
              "      <th>tpep_pickup_datetime</th>\n",
              "      <th></th>\n",
              "      <th></th>\n",
              "      <th></th>\n",
              "      <th></th>\n",
              "      <th></th>\n",
              "      <th></th>\n",
              "    </tr>\n",
              "  </thead>\n",
              "  <tbody>\n",
              "    <tr>\n",
              "      <th>2020-01-01 00:00:00</th>\n",
              "      <td>237.0</td>\n",
              "      <td>44.0</td>\n",
              "      <td>108.904309</td>\n",
              "      <td>5.208611</td>\n",
              "      <td>294.0</td>\n",
              "      <td>20.908512</td>\n",
              "    </tr>\n",
              "    <tr>\n",
              "      <th>2020-01-01 00:10:00</th>\n",
              "      <td>237.0</td>\n",
              "      <td>118.0</td>\n",
              "      <td>199.639123</td>\n",
              "      <td>11.191389</td>\n",
              "      <td>621.0</td>\n",
              "      <td>17.838637</td>\n",
              "    </tr>\n",
              "    <tr>\n",
              "      <th>2020-01-01 00:20:00</th>\n",
              "      <td>237.0</td>\n",
              "      <td>180.0</td>\n",
              "      <td>263.546174</td>\n",
              "      <td>38.904722</td>\n",
              "      <td>862.5</td>\n",
              "      <td>6.774144</td>\n",
              "    </tr>\n",
              "    <tr>\n",
              "      <th>2020-01-01 00:30:00</th>\n",
              "      <td>237.0</td>\n",
              "      <td>156.0</td>\n",
              "      <td>305.163809</td>\n",
              "      <td>16.082222</td>\n",
              "      <td>912.0</td>\n",
              "      <td>18.975227</td>\n",
              "    </tr>\n",
              "    <tr>\n",
              "      <th>2020-01-01 00:40:00</th>\n",
              "      <td>237.0</td>\n",
              "      <td>161.0</td>\n",
              "      <td>253.584334</td>\n",
              "      <td>18.091389</td>\n",
              "      <td>890.0</td>\n",
              "      <td>14.016853</td>\n",
              "    </tr>\n",
              "  </tbody>\n",
              "</table>\n",
              "</div>"
            ],
            "text/plain": [
              "                      PULocationID  passenger_count  ...  fare_amount      Speed\n",
              "tpep_pickup_datetime                                 ...                        \n",
              "2020-01-01 00:00:00          237.0             44.0  ...        294.0  20.908512\n",
              "2020-01-01 00:10:00          237.0            118.0  ...        621.0  17.838637\n",
              "2020-01-01 00:20:00          237.0            180.0  ...        862.5   6.774144\n",
              "2020-01-01 00:30:00          237.0            156.0  ...        912.0  18.975227\n",
              "2020-01-01 00:40:00          237.0            161.0  ...        890.0  14.016853\n",
              "\n",
              "[5 rows x 6 columns]"
            ]
          },
          "metadata": {
            "tags": []
          },
          "execution_count": 29
        }
      ]
    },
    {
      "cell_type": "code",
      "metadata": {
        "id": "y84BRIY8bEwZ",
        "colab": {
          "base_uri": "https://localhost:8080/",
          "height": 223
        },
        "outputId": "b8a24650-9623-4d18-8ade-862ef65253ce"
      },
      "source": [
        "check_237_1 = selected_data_2020_manhattan_237[\"2020-03\":\"2020-04\"]\r\n",
        "check_237_1.tail()"
      ],
      "execution_count": 76,
      "outputs": [
        {
          "output_type": "execute_result",
          "data": {
            "text/html": [
              "<div>\n",
              "<style scoped>\n",
              "    .dataframe tbody tr th:only-of-type {\n",
              "        vertical-align: middle;\n",
              "    }\n",
              "\n",
              "    .dataframe tbody tr th {\n",
              "        vertical-align: top;\n",
              "    }\n",
              "\n",
              "    .dataframe thead th {\n",
              "        text-align: right;\n",
              "    }\n",
              "</style>\n",
              "<table border=\"1\" class=\"dataframe\">\n",
              "  <thead>\n",
              "    <tr style=\"text-align: right;\">\n",
              "      <th></th>\n",
              "      <th>PULocationID</th>\n",
              "      <th>passenger_count</th>\n",
              "      <th>trip_distance_VN</th>\n",
              "      <th>Duration</th>\n",
              "      <th>fare_amount</th>\n",
              "      <th>Speed</th>\n",
              "    </tr>\n",
              "    <tr>\n",
              "      <th>tpep_pickup_datetime</th>\n",
              "      <th></th>\n",
              "      <th></th>\n",
              "      <th></th>\n",
              "      <th></th>\n",
              "      <th></th>\n",
              "      <th></th>\n",
              "    </tr>\n",
              "  </thead>\n",
              "  <tbody>\n",
              "    <tr>\n",
              "      <th>2020-04-30 23:10:00</th>\n",
              "      <td>237.0</td>\n",
              "      <td>1.0</td>\n",
              "      <td>3.701491</td>\n",
              "      <td>0.197778</td>\n",
              "      <td>10.5</td>\n",
              "      <td>18.715405</td>\n",
              "    </tr>\n",
              "    <tr>\n",
              "      <th>2020-04-30 23:20:00</th>\n",
              "      <td>237.0</td>\n",
              "      <td>1.0</td>\n",
              "      <td>3.701491</td>\n",
              "      <td>0.197778</td>\n",
              "      <td>10.5</td>\n",
              "      <td>18.715405</td>\n",
              "    </tr>\n",
              "    <tr>\n",
              "      <th>2020-04-30 23:30:00</th>\n",
              "      <td>237.0</td>\n",
              "      <td>1.0</td>\n",
              "      <td>4.184294</td>\n",
              "      <td>0.188889</td>\n",
              "      <td>11.0</td>\n",
              "      <td>22.152147</td>\n",
              "    </tr>\n",
              "    <tr>\n",
              "      <th>2020-04-30 23:40:00</th>\n",
              "      <td>237.0</td>\n",
              "      <td>1.0</td>\n",
              "      <td>4.345229</td>\n",
              "      <td>0.120000</td>\n",
              "      <td>9.5</td>\n",
              "      <td>36.210240</td>\n",
              "    </tr>\n",
              "    <tr>\n",
              "      <th>2020-04-30 23:50:00</th>\n",
              "      <td>237.0</td>\n",
              "      <td>1.0</td>\n",
              "      <td>4.345229</td>\n",
              "      <td>0.120000</td>\n",
              "      <td>9.5</td>\n",
              "      <td>36.210240</td>\n",
              "    </tr>\n",
              "  </tbody>\n",
              "</table>\n",
              "</div>"
            ],
            "text/plain": [
              "                      PULocationID  passenger_count  ...  fare_amount      Speed\n",
              "tpep_pickup_datetime                                 ...                        \n",
              "2020-04-30 23:10:00          237.0              1.0  ...         10.5  18.715405\n",
              "2020-04-30 23:20:00          237.0              1.0  ...         10.5  18.715405\n",
              "2020-04-30 23:30:00          237.0              1.0  ...         11.0  22.152147\n",
              "2020-04-30 23:40:00          237.0              1.0  ...          9.5  36.210240\n",
              "2020-04-30 23:50:00          237.0              1.0  ...          9.5  36.210240\n",
              "\n",
              "[5 rows x 6 columns]"
            ]
          },
          "metadata": {
            "tags": []
          },
          "execution_count": 76
        }
      ]
    },
    {
      "cell_type": "markdown",
      "metadata": {
        "id": "_0lIPHyJfV6F"
      },
      "source": [
        "- Loại bỏ dữ liệu 3 tháng trên vì lúc trước đã không có dữ liệu nhưng vì điền giá trị khuyết vào nữa nên xử lí trùng lặp dữ liệu"
      ]
    },
    {
      "cell_type": "markdown",
      "metadata": {
        "id": "okGqjOFz3ZKZ"
      },
      "source": [
        "#MODEL SELECTIONS"
      ]
    },
    {
      "cell_type": "code",
      "metadata": {
        "id": "Imhbbs9yNzni",
        "colab": {
          "base_uri": "https://localhost:8080/"
        },
        "outputId": "65763d21-728c-4d97-8dce-2495c37a6a9a"
      },
      "source": [
        "#Import libraries\r\n",
        "from sklearn.preprocessing import MinMaxScaler, LabelEncoder\r\n",
        "from sklearn.metrics import mean_squared_error\r\n",
        "#from keras.models import Sequential\r\n",
        "\r\n",
        "from tensorflow.keras import Sequential\r\n",
        "#from tensorflow.keras.layers import Conv2D, Flatten, Dense\r\n",
        "from tensorflow.keras.layers import  Input, LSTM, Dense, TimeDistributed, Activation, BatchNormalization, Dropout, Bidirectional\r\n",
        "from tensorflow.keras.utils import Sequence\r\n",
        "# faster one\r\n",
        "#from keras.layers import CuDNNLSTM\r\n",
        "# to create custom metrics like RMSE\r\n",
        "from keras import backend\r\n",
        "# enable plotly for google_colab\r\n",
        "\r\n",
        "# Import the libraries to model LSTM\r\n",
        "import plotly.offline as pyo\r\n",
        "import plotly.graph_objs as go\r\n",
        "import plotly.figure_factory as ff\r\n",
        "from plotly import tools\r\n",
        "\r\n",
        "#Lấy hàm visulzie của LSTM TỪ webb\r\n",
        "def configure_plotly_browser_state():\r\n",
        "  import IPython\r\n",
        "  display(IPython.core.display.HTML('''<script src=\"/static/components/requirejs/require.js\"></script><script>requirejs.config({paths: {base: '/static/base',plotly: 'https://cdn.plot.ly/plotly-latest.min.js?noext',},});</script>'''))"
      ],
      "execution_count": 52,
      "outputs": [
        {
          "output_type": "stream",
          "text": [
            "Using TensorFlow backend.\n"
          ],
          "name": "stderr"
        }
      ]
    },
    {
      "cell_type": "code",
      "metadata": {
        "id": "3ezf5QzBM1wo"
      },
      "source": [
        "data_loc237 = selected_data_2020_manhattan_237.drop(\"PULocationID\", axis=1)\r\n",
        "train_237 = data_loc237[\"2020-01\":\"2020-02\"].iloc[:, [0,1,2,4,3]]\r\n",
        "test_237 = data_loc237[\"2020-03\"].iloc[:, [0,1,2,4,3]]"
      ],
      "execution_count": 34,
      "outputs": []
    },
    {
      "cell_type": "code",
      "metadata": {
        "id": "l3Hg0rykYOsC",
        "colab": {
          "base_uri": "https://localhost:8080/"
        },
        "outputId": "a10a7feb-6d54-40a5-ec81-7fe1f732935c"
      },
      "source": [
        "data_loc237.shape"
      ],
      "execution_count": 31,
      "outputs": [
        {
          "output_type": "execute_result",
          "data": {
            "text/plain": [
              "(37877, 5)"
            ]
          },
          "metadata": {
            "tags": []
          },
          "execution_count": 31
        }
      ]
    },
    {
      "cell_type": "code",
      "metadata": {
        "id": "5gVx6-z2RdQh",
        "colab": {
          "base_uri": "https://localhost:8080/",
          "height": 241
        },
        "outputId": "fd2a7979-5869-4dc9-c451-5456330e28e0"
      },
      "source": [
        "print(test_237.shape)\r\n",
        "test_237.tail()"
      ],
      "execution_count": 36,
      "outputs": [
        {
          "output_type": "stream",
          "text": [
            "(4464, 5)\n"
          ],
          "name": "stdout"
        },
        {
          "output_type": "execute_result",
          "data": {
            "text/html": [
              "<div>\n",
              "<style scoped>\n",
              "    .dataframe tbody tr th:only-of-type {\n",
              "        vertical-align: middle;\n",
              "    }\n",
              "\n",
              "    .dataframe tbody tr th {\n",
              "        vertical-align: top;\n",
              "    }\n",
              "\n",
              "    .dataframe thead th {\n",
              "        text-align: right;\n",
              "    }\n",
              "</style>\n",
              "<table border=\"1\" class=\"dataframe\">\n",
              "  <thead>\n",
              "    <tr style=\"text-align: right;\">\n",
              "      <th></th>\n",
              "      <th>passenger_count</th>\n",
              "      <th>trip_distance_VN</th>\n",
              "      <th>Duration</th>\n",
              "      <th>Speed</th>\n",
              "      <th>fare_amount</th>\n",
              "    </tr>\n",
              "    <tr>\n",
              "      <th>tpep_pickup_datetime</th>\n",
              "      <th></th>\n",
              "      <th></th>\n",
              "      <th></th>\n",
              "      <th></th>\n",
              "      <th></th>\n",
              "    </tr>\n",
              "  </thead>\n",
              "  <tbody>\n",
              "    <tr>\n",
              "      <th>2020-03-31 23:10:00</th>\n",
              "      <td>1.0</td>\n",
              "      <td>5.954573</td>\n",
              "      <td>0.189167</td>\n",
              "      <td>31.477918</td>\n",
              "      <td>12.5</td>\n",
              "    </tr>\n",
              "    <tr>\n",
              "      <th>2020-03-31 23:20:00</th>\n",
              "      <td>2.0</td>\n",
              "      <td>17.059046</td>\n",
              "      <td>0.454167</td>\n",
              "      <td>37.561203</td>\n",
              "      <td>34.0</td>\n",
              "    </tr>\n",
              "    <tr>\n",
              "      <th>2020-03-31 23:30:00</th>\n",
              "      <td>2.0</td>\n",
              "      <td>17.059046</td>\n",
              "      <td>0.454167</td>\n",
              "      <td>37.561203</td>\n",
              "      <td>34.0</td>\n",
              "    </tr>\n",
              "    <tr>\n",
              "      <th>2020-03-31 23:40:00</th>\n",
              "      <td>2.0</td>\n",
              "      <td>17.059046</td>\n",
              "      <td>0.454167</td>\n",
              "      <td>37.561203</td>\n",
              "      <td>34.0</td>\n",
              "    </tr>\n",
              "    <tr>\n",
              "      <th>2020-03-31 23:50:00</th>\n",
              "      <td>2.0</td>\n",
              "      <td>17.059046</td>\n",
              "      <td>0.454167</td>\n",
              "      <td>37.561203</td>\n",
              "      <td>34.0</td>\n",
              "    </tr>\n",
              "  </tbody>\n",
              "</table>\n",
              "</div>"
            ],
            "text/plain": [
              "                      passenger_count  trip_distance_VN  ...      Speed  fare_amount\n",
              "tpep_pickup_datetime                                     ...                        \n",
              "2020-03-31 23:10:00               1.0          5.954573  ...  31.477918         12.5\n",
              "2020-03-31 23:20:00               2.0         17.059046  ...  37.561203         34.0\n",
              "2020-03-31 23:30:00               2.0         17.059046  ...  37.561203         34.0\n",
              "2020-03-31 23:40:00               2.0         17.059046  ...  37.561203         34.0\n",
              "2020-03-31 23:50:00               2.0         17.059046  ...  37.561203         34.0\n",
              "\n",
              "[5 rows x 5 columns]"
            ]
          },
          "metadata": {
            "tags": []
          },
          "execution_count": 36
        }
      ]
    },
    {
      "cell_type": "markdown",
      "metadata": {
        "id": "51ytPQm6x9Nf"
      },
      "source": [
        "##Multiple regression "
      ]
    },
    {
      "cell_type": "code",
      "metadata": {
        "id": "i4QyfG6_yCcr"
      },
      "source": [
        "from sklearn.linear_model import LinearRegression\r\n",
        "z = data_loc237[['passenger_count','trip_distance_VN','Duration','Speed']]\r\n",
        "lm5 = LinearRegression()\r\n",
        "lm5.fit(z,data_loc237['fare_amount'])\r\n",
        "yhat5 = lm5.predict(z)"
      ],
      "execution_count": 37,
      "outputs": []
    },
    {
      "cell_type": "code",
      "metadata": {
        "id": "wPC8ihLU2EGP"
      },
      "source": [
        "# phương pháp gọi hàm \r\n",
        "def rmse_score(yhat5,y):\r\n",
        "  A= yhat5 -y\r\n",
        "  B = np.square(A)\r\n",
        "  Mse_score = np.mean(B)\r\n",
        "  rmse_score = sqrt(Mse_score)\r\n",
        "  return rmse_score\r\n",
        "def Mse_core(yhat5,y):\r\n",
        "  A= yhat5 -y\r\n",
        "  B = np.square(A)\r\n",
        "  Mse_score = np.mean(B)\r\n",
        "  return Mse_score\r\n",
        "def R2_core(yhat5,y):\r\n",
        "  Y_tb = np.mean(y)\r\n",
        "  C = Mse_core(Y_tb,y)\r\n",
        "  D= Mse_core(yhat5,y)\r\n",
        "  E = 1-D/C\r\n",
        "  return E"
      ],
      "execution_count": 38,
      "outputs": []
    },
    {
      "cell_type": "code",
      "metadata": {
        "colab": {
          "base_uri": "https://localhost:8080/"
        },
        "id": "U1KH2_zz2Fhe",
        "outputId": "26cdb8cf-cc54-4c81-8dae-f908f229c549"
      },
      "source": [
        "y= data_loc237['fare_amount']\r\n",
        "rmse_h6 = rmse_score(yhat5,y)\r\n",
        "print('Rmse theo pp gọi hàm :', rmse_h6)\r\n",
        "R2_6 = R2_core(yhat5,y)\r\n",
        "print('R2 theo pp gọi hàm :', R2_6)"
      ],
      "execution_count": 39,
      "outputs": [
        {
          "output_type": "stream",
          "text": [
            "Rmse theo pp gọi hàm : 31.425976692164554\n",
            "R2 theo pp gọi hàm : 0.9896536733932236\n"
          ],
          "name": "stdout"
        }
      ]
    },
    {
      "cell_type": "code",
      "metadata": {
        "colab": {
          "base_uri": "https://localhost:8080/",
          "height": 443
        },
        "id": "QfJAaroF2hST",
        "outputId": "28dd1685-9ada-4ce5-f109-159412ad1728"
      },
      "source": [
        "# Phát họa Distribution plot để đánh giá mô hình\r\n",
        "ax1 = sns.distplot(y, hist= False, color= 'r', label= 'Actual Value')\r\n",
        "sns.distplot(yhat5, hist= False, color= 'b', label= 'Fitted Value', ax= ax1)\r\n",
        "plt.show()"
      ],
      "execution_count": 40,
      "outputs": [
        {
          "output_type": "stream",
          "text": [
            "/usr/local/lib/python3.6/dist-packages/seaborn/distributions.py:2551: FutureWarning:\n",
            "\n",
            "`distplot` is a deprecated function and will be removed in a future version. Please adapt your code to use either `displot` (a figure-level function with similar flexibility) or `kdeplot` (an axes-level function for kernel density plots).\n",
            "\n",
            "/usr/local/lib/python3.6/dist-packages/seaborn/distributions.py:2551: FutureWarning:\n",
            "\n",
            "`distplot` is a deprecated function and will be removed in a future version. Please adapt your code to use either `displot` (a figure-level function with similar flexibility) or `kdeplot` (an axes-level function for kernel density plots).\n",
            "\n"
          ],
          "name": "stderr"
        },
        {
          "output_type": "display_data",
          "data": {
            "image/png": "[encoded data removed]",
            "text/plain": [
              "<Figure size 432x288 with 1 Axes>"
            ]
          },
          "metadata": {
            "tags": [],
            "needs_background": "light"
          }
        }
      ]
    },
    {
      "cell_type": "markdown",
      "metadata": {
        "id": "xNHIzooD3t0Z"
      },
      "source": [
        "## Polynomial Regression\r\n"
      ]
    },
    {
      "cell_type": "code",
      "metadata": {
        "colab": {
          "base_uri": "https://localhost:8080/"
        },
        "id": "7wJxR9eX3wMZ",
        "outputId": "19324331-f32b-4064-cc88-86c624e1af94"
      },
      "source": [
        "from sklearn.preprocessing import PolynomialFeatures\r\n",
        "Z =data_loc237[['passenger_count']]\r\n",
        "pr=PolynomialFeatures(degree=3, include_bias=False)\r\n",
        "X_poly = pr.fit_transform(Z)\r\n",
        "X_poly.shape\r\n",
        "lm7= LinearRegression()\r\n",
        "lm7.fit(X_poly,data_loc237['fare_amount'])"
      ],
      "execution_count": 41,
      "outputs": [
        {
          "output_type": "execute_result",
          "data": {
            "text/plain": [
              "LinearRegression(copy_X=True, fit_intercept=True, n_jobs=None, normalize=False)"
            ]
          },
          "metadata": {
            "tags": []
          },
          "execution_count": 41
        }
      ]
    },
    {
      "cell_type": "code",
      "metadata": {
        "colab": {
          "base_uri": "https://localhost:8080/"
        },
        "id": "E25fzu984a4D",
        "outputId": "cde51008-cdb8-4bcf-f7dd-9fd2be2d62f3"
      },
      "source": [
        "data_loc237['fare_amount']\r\n",
        "lm8 =  LinearRegression()\r\n",
        "lm8.fit(X_poly,y)\r\n",
        "yhat8 = lm8.predict(X_poly)\r\n",
        "# phương pháp gọi hàm \r\n",
        "def Mse_core(yhat8,y):\r\n",
        "  A= yhat8 -y\r\n",
        "  B = np.square(A)\r\n",
        "  Mse_score = np.mean(B)\r\n",
        "  return Mse_score\r\n",
        "def rmse_score(yhat8,y):\r\n",
        "  A= yhat8 -y\r\n",
        "  B = np.square(A)\r\n",
        "  Mse_score = np.mean(B)\r\n",
        "  rmse_score = sqrt(Mse_score)\r\n",
        "  return rmse_score\r\n",
        "def R2_core(yhat8,y):\r\n",
        "  Y_tb = np.mean(y)\r\n",
        "  C = Mse_core(Y_tb,y)\r\n",
        "  D= Mse_core(yhat8,y)\r\n",
        "  E = 1-D/C\r\n",
        "  return E\r\n",
        "rmse_h8 = rmse_score(yhat8,y)\r\n",
        "print('Mse theo pp gọi hàm :', rmse_h8)\r\n",
        "r2_core_8 = R2_core(yhat8,y)\r\n",
        "print('R2 theo pp gọi hàm :', r2_core_8)"
      ],
      "execution_count": 42,
      "outputs": [
        {
          "output_type": "stream",
          "text": [
            "Mse theo pp gọi hàm : 41.744327568158496\n",
            "R2 theo pp gọi hàm : 0.9817440870981398\n"
          ],
          "name": "stdout"
        }
      ]
    },
    {
      "cell_type": "code",
      "metadata": {
        "colab": {
          "base_uri": "https://localhost:8080/",
          "height": 443
        },
        "id": "8zRKddAv50Zi",
        "outputId": "d0ea5032-006a-4d25-c49c-5e5ad010b37c"
      },
      "source": [
        "# Phát họa Distribution plot để đánh giá mô hình\r\n",
        "ax8 = sns.distplot(y, hist= False, color= 'r', label= 'Actual Value')\r\n",
        "sns.distplot(yhat8, hist= False, color= 'b', label= 'Fitted Value', ax= ax8)\r\n",
        "plt.show()"
      ],
      "execution_count": 43,
      "outputs": [
        {
          "output_type": "stream",
          "text": [
            "/usr/local/lib/python3.6/dist-packages/seaborn/distributions.py:2551: FutureWarning:\n",
            "\n",
            "`distplot` is a deprecated function and will be removed in a future version. Please adapt your code to use either `displot` (a figure-level function with similar flexibility) or `kdeplot` (an axes-level function for kernel density plots).\n",
            "\n",
            "/usr/local/lib/python3.6/dist-packages/seaborn/distributions.py:2551: FutureWarning:\n",
            "\n",
            "`distplot` is a deprecated function and will be removed in a future version. Please adapt your code to use either `displot` (a figure-level function with similar flexibility) or `kdeplot` (an axes-level function for kernel density plots).\n",
            "\n"
          ],
          "name": "stderr"
        },
        {
          "output_type": "display_data",
          "data": {
            "image/png": "[encoded data removed]",
            "text/plain": [
              "<Figure size 432x288 with 1 Axes>"
            ]
          },
          "metadata": {
            "tags": [],
            "needs_background": "light"
          }
        }
      ]
    },
    {
      "cell_type": "code",
      "metadata": {
        "id": "eG4fE2E_DvuO",
        "colab": {
          "base_uri": "https://localhost:8080/"
        },
        "outputId": "13a51c4d-a097-4ff3-9b07-11e005618f75"
      },
      "source": [
        "# earliest to latest\r\n",
        "list(range(15, 0, -1))"
      ],
      "execution_count": 44,
      "outputs": [
        {
          "output_type": "execute_result",
          "data": {
            "text/plain": [
              "[15, 14, 13, 12, 11, 10, 9, 8, 7, 6, 5, 4, 3, 2, 1]"
            ]
          },
          "metadata": {
            "tags": []
          },
          "execution_count": 44
        }
      ]
    },
    {
      "cell_type": "markdown",
      "metadata": {
        "id": "gO6N4Q3FEuI3"
      },
      "source": [
        "##LSTM - MODEL DEEP LEARNIG"
      ]
    },
    {
      "cell_type": "code",
      "metadata": {
        "id": "nBPF4Ch5DqDl"
      },
      "source": [
        "# a method to create lagged features and convert them to 3D format.\r\n",
        "def convert_to_sequence(train, test, time_steps, normalized):\r\n",
        "  scaler = None\r\n",
        "  # normalize data\r\n",
        "  if (normalized==True):\r\n",
        "    scaler = MinMaxScaler(feature_range=(0,1))\r\n",
        "    train_df = pd.DataFrame(scaler.fit_transform(train.values.reshape(-1,1)), columns=[\"fare_amount\"])\r\n",
        "    test_df = pd.DataFrame(scaler.transform(test.values.reshape(-1,1)), columns=[\"fare_amount\"])\r\n",
        "  else:\r\n",
        "    train_df = pd.DataFrame(train, columns=[\"fare_amount\"])\r\n",
        "    test_df = pd.DataFrame(test, columns=[\"fare_amount\"])\r\n",
        "    \r\n",
        "  lags = range(time_steps, 0, -1)\r\n",
        "  train_df = train_df.assign(**{str(t): train_df.fare_amount.shift(t) for t in lags})\r\n",
        "  train_df.dropna(inplace=True)\r\n",
        "  test_df = test_df.assign(**{str(t): test_df.fare_amount.shift(t) for t in lags})\r\n",
        "  test_df.dropna(inplace=True)\r\n",
        "\r\n",
        "  # lagged features start from column1\r\n",
        "  X_train = train_df.iloc[:, 1:].values.reshape(len(train_df), time_steps, 1)\r\n",
        "  # fare_amount \r\n",
        "  y_train = train_df.iloc[:, 0].values.reshape(len(train_df), 1)\r\n",
        "  X_test = test_df.iloc[:, 1:].values.reshape(len(test_df), time_steps, 1)\r\n",
        "  y_test = test_df.iloc[:, 0].values.reshape(len(test_df), 1)\r\n",
        "  return X_train, X_test, y_train, y_test, scaler"
      ],
      "execution_count": 45,
      "outputs": []
    },
    {
      "cell_type": "code",
      "metadata": {
        "id": "Snj0ehfrD0B9"
      },
      "source": [
        "# root mean squared error (rmse) for regression cho Keras\r\n",
        "def rmse(y_true, y_pred):\r\n",
        "    return backend.sqrt(backend.mean(backend.square(y_pred - y_true), axis=-1))\r\n",
        "\r\n",
        "# mean squared error (mse) for regression  cho Keras\r\n",
        "def mse(y_true, y_pred):\r\n",
        "    return backend.mean(backend.square(y_pred - y_true), axis=-1)\r\n",
        "# R2-score metrics cho Kkeras \r\n",
        "def r2_score(y_true, y_pred):\r\n",
        "    SS_res =  backend.sum(backend.square(y_true - y_pred)) \r\n",
        "    SS_tot = backend.sum(backend.square(y_true - backend.mean(y_true)))\r\n",
        "    return ( 1 - SS_res/(SS_tot + backend.epsilon))"
      ],
      "execution_count": 46,
      "outputs": []
    },
    {
      "cell_type": "code",
      "metadata": {
        "id": "6kuuQxdnD8Ug"
      },
      "source": [
        "def vanilla_lstm(train, test, lags, memory_cells, epochs, normalized):\r\n",
        "  X_train, X_test, y_train, y_test, scaler = convert_to_sequence(train, test, lags, normalized)\r\n",
        "  print(X_train.shape, y_train.shape, X_test.shape, y_test.shape)\r\n",
        "  model = Sequential()\r\n",
        "  model.add(LSTM(memory_cells, input_shape=(lags, 1)))\r\n",
        "  #model.add(Dropout(0.4))\r\n",
        "  model.add(Dense(1, activation=\"linear\" ))\r\n",
        "  model.compile(loss=\"mse\", optimizer=\"rmsprop\", metrics=[rmse])\r\n",
        "  #print(model.summary())\r\n",
        "  history = model.fit(X_train, y_train, epochs=epochs, validation_data=(X_test, y_test),batch_size=200, verbose=0)\r\n",
        "  return model, history, scaler, X_train, X_test, y_train, y_test"
      ],
      "execution_count": 47,
      "outputs": []
    },
    {
      "cell_type": "code",
      "metadata": {
        "id": "qMPx25aWEBMt"
      },
      "source": [
        "def plot_predictions(model, X_train, y_train, X_test, y_test, limit):\r\n",
        "  configure_plotly_browser_state()\r\n",
        "#   train_indices = y_train.index.iloc[:limit]\r\n",
        "#   test_indices = y_test.index.iloc[:limit]\r\n",
        "\r\n",
        "  y_pred_train = model.predict(X_train).flatten()[:limit]\r\n",
        "  y_pred_test = model.predict(X_test).flatten()[:limit]\r\n",
        "  y_true_train = y_train.flatten()[:limit]\r\n",
        "  y_true_test = y_test.flatten()[:limit]\r\n",
        " \r\n",
        "  # https://coolors.co\r\n",
        "  colors = ['#04E762', '#F5B700', '#00A1E4', '#DC0073']\r\n",
        "  \r\n",
        "  trace1 = go.Scatter(y=list(y_pred_train), mode=\"lines\", name=\"Prediction\",\r\n",
        "                      marker = dict(size = 15,\r\n",
        "                                    color = colors[0]\r\n",
        "                                    ))\r\n",
        "  trace2 = go.Scatter(y=list(y_true_train), mode=\"markers\", name=\"Actual\",\r\n",
        "                      marker = dict(size = 3,\r\n",
        "                                    color = colors[1]\r\n",
        "                                    ))\r\n",
        "  \r\n",
        "  trace3 = go.Scatter(y=list(y_pred_test), mode=\"lines\", name=\"Prediction\",\r\n",
        "                      marker = dict(size = 15,\r\n",
        "                                    color = colors[0]\r\n",
        "                                    ),\r\n",
        "                     showlegend=False)\r\n",
        "  trace4 = go.Scatter(y=list(y_true_test), mode=\"markers\", name=\"Actual\",\r\n",
        "                      marker = dict(size = 3,\r\n",
        "                                    color = colors[1]\r\n",
        "                                    ),\r\n",
        "                     showlegend=False)\r\n",
        "\r\n",
        "  train_trace= [trace1, trace2]\r\n",
        "  test_trace = [trace3, trace4]\r\n",
        "\r\n",
        "  \r\n",
        "  fig = tools.make_subplots(rows=1, cols=2, shared_yaxes=True, shared_xaxes=True, subplot_titles=('Train', 'Test'))\r\n",
        "#   fig.add_trace(trace1, 1,1)\r\n",
        "#   fig.add_trace(trace2,1,2)\r\n",
        "#   fig.add_trace(trace3,2,1)\r\n",
        "#   fig.add_trace(trace4,2,2)\r\n",
        "\r\n",
        "  fig.add_traces(train_trace, rows=[1, 1], cols=[1,1])\r\n",
        "  fig.add_traces(test_trace, rows=[1,1], cols=[2,2])                                                         \r\n",
        "\r\n",
        "\r\n",
        "  fig['layout']['xaxis1'].update(title='Time Step')\r\n",
        "  fig['layout']['xaxis2'].update(title='Time Step')\r\n",
        "\r\n",
        "\r\n",
        "  fig['layout']['yaxis1'].update(title='RMSE Predicting')\r\n",
        "  # it is shared\r\n",
        "  #fig['layout']['yaxis2'].update(title='R2')\r\n",
        "\r\n",
        "\r\n",
        "  fig['layout'].update(height=400, width=600, title='Model performance of time step trained')\r\n",
        "  config={'scrollZoom':False,'displayModeBar':True, \"showLink\":False, 'showTips':False}\r\n",
        "  pyo.iplot(fig, filename='make-subplots-multiple-with-titles', config=config)"
      ],
      "execution_count": 48,
      "outputs": []
    },
    {
      "cell_type": "code",
      "metadata": {
        "id": "SWcPU-zGEIjj",
        "colab": {
          "base_uri": "https://localhost:8080/"
        },
        "outputId": "9974bc98-010d-429c-c98a-a2ed676999d0"
      },
      "source": [
        "# 12 steps back\r\n",
        "# 60 units\r\n",
        "model_one, history_one, _, X_train, X_test, y_train, y_test = vanilla_lstm(train_237.fare_amount, test_237.fare_amount, 12, 60, 100, False)\r\n",
        "# print train and validation accuracy\r\n",
        "print(\"RMSE_train:{}, RMSE_test:{}\".format(history_one.history[\"rmse\"][-1], history_one.history['val_rmse'][-1]))"
      ],
      "execution_count": 53,
      "outputs": [
        {
          "output_type": "stream",
          "text": [
            "(8628, 12, 1) (8628, 1) (4452, 12, 1) (4452, 1)\n",
            "RMSE_train:330.2954406738281, RMSE_test:138.57797241210938\n"
          ],
          "name": "stdout"
        }
      ]
    },
    {
      "cell_type": "markdown",
      "metadata": {
        "id": "uMW_cEauyumX"
      },
      "source": [
        "#MODEL PERFORMANCE"
      ]
    },
    {
      "cell_type": "code",
      "metadata": {
        "colab": {
          "base_uri": "https://localhost:8080/",
          "height": 488
        },
        "id": "rjHb4ZbvtmiB",
        "outputId": "6e0dc09b-f5f3-49e1-801f-c00b9d6ce719"
      },
      "source": [
        "plot_predictions(model_one, X_train, y_train, X_test, y_test, limit=100)"
      ],
      "execution_count": 54,
      "outputs": [
        {
          "output_type": "display_data",
          "data": {
            "text/html": [
              "<script src=\"/static/components/requirejs/require.js\"></script><script>requirejs.config({paths: {base: '/static/base',plotly: 'https://cdn.plot.ly/plotly-latest.min.js?noext',},});</script>"
            ],
            "text/plain": [
              "<IPython.core.display.HTML object>"
            ]
          },
          "metadata": {
            "tags": []
          }
        },
        {
          "output_type": "stream",
          "text": [
            "/usr/local/lib/python3.6/dist-packages/plotly/tools.py:465: DeprecationWarning:\n",
            "\n",
            "plotly.tools.make_subplots is deprecated, please use plotly.subplots.make_subplots instead\n",
            "\n"
          ],
          "name": "stderr"
        },
        {
          "output_type": "display_data",
          "data": {
            "text/html": [
              "<html>\n",
              "<head><meta charset=\"utf-8\" /></head>\n",
              "<body>\n",
              "    <div>\n",
              "            <script src=\"https://cdnjs.cloudflare.com/ajax/libs/mathjax/2.7.5/MathJax.js?config=TeX-AMS-MML_SVG\"></script><script type=\"text/javascript\">if (window.MathJax) {MathJax.Hub.Config({SVG: {font: \"STIX-Web\"}});}</script>\n",
              "                <script type=\"text/javascript\">window.PlotlyConfig = {MathJaxConfig: 'local'};</script>\n",
              "        <script src=\"https://cdn.plot.ly/plotly-latest.min.js\"></script>    \n",
              "            <div id=\"9280afd5-070b-4e32-b946-2c75af9fc830\" class=\"plotly-graph-div\" style=\"height:400px; width:600px;\"></div>\n",
              "            <script type=\"text/javascript\">\n",
              "                \n",
              "                    window.PLOTLYENV=window.PLOTLYENV || {};\n",
              "                    \n",
              "                if (document.getElementById(\"9280afd5-070b-4e32-b946-2c75af9fc830\")) {\n",
              "                    Plotly.newPlot(\n",
              "                        '9280afd5-070b-4e32-b946-2c75af9fc830',\n",
              "                        [{\"marker\": {\"color\": \"#04E762\", \"size\": 15}, \"mode\": \"lines\", \"name\": \"Prediction\", \"type\": \"scatter\", \"xaxis\": \"x\", \"y\": [272.4273986816406, 272.42486572265625, 272.3291931152344, 272.3332824707031, 269.12628173828125, 233.75082397460938, 182.4783477783203, 130.38633728027344, 115.40409088134766, 103.71939849853516, 93.04348754882812, 86.8709945678711, 68.11516571044922, 53.18724060058594, 44.569969177246094, 39.556785583496094, 37.90052032470703, 31.85991096496582, 29.602336883544922, 28.703062057495117, 21.47025489807129, 18.161746978759766, 16.33392333984375, 22.2498836517334, 22.705446243286133, 13.4266939163208, 12.221281051635742, 11.589279174804688, 13.665201187133789, 20.542739868164062, 27.44289207458496, 20.6256046295166, 47.4876708984375, 33.5997314453125, 47.49507141113281, 72.33910369873047, 85.22051239013672, 68.49173736572266, 57.106773376464844, 64.01078033447266, 55.11279296875, 71.63817596435547, 61.30522155761719, 67.76290130615234, 98.14717102050781, 104.29466247558594, 128.74903869628906, 171.05838012695312, 186.48745727539062, 238.20872497558594, 231.13021850585938, 250.342529296875, 177.15347290039062, 224.3690948486328, 228.72972106933594, 232.32203674316406, 249.0873565673828, 255.88858032226562, 261.42352294921875, 262.65106201171875, 269.4655456542969, 254.51734924316406, 263.1270446777344, 270.8114929199219, 271.9212646484375, 272.22515869140625, 271.1672058105469, 272.1292724609375, 272.176025390625, 262.2391052246094, 269.1788635253906, 271.81341552734375, 261.5151062011719, 270.14007568359375, 271.9443664550781, 271.3050231933594, 272.1661071777344, 272.2978210449219, 272.3997802734375, 272.3609313964844, 272.405517578125, 272.4203796386719, 272.3972473144531, 272.4189758300781, 272.423583984375, 272.42572021484375, 272.42718505859375, 271.3104553222656, 271.9400634765625, 272.2923889160156, 271.4578552246094, 271.3044738769531, 272.2595520019531, 272.3648681640625, 272.3294677734375, 272.40509033203125, 272.223876953125, 272.2304992675781, 271.413330078125, 271.98162841796875], \"yaxis\": \"y\"}, {\"marker\": {\"color\": \"#F5B700\", \"size\": 3}, \"mode\": \"markers\", \"name\": \"Actual\", \"type\": \"scatter\", \"xaxis\": \"x\", \"y\": [389.5, 302.0, 350.0, 265.5, 195.0, 164.5, 74.5, 138.5, 142.5, 106.5, 122.5, 36.0, 64.0, 21.0, 31.0, 11.5, 28.0, 47.0, 65.5, 17.5, 16.0, 9.0, 42.5, 9.5, 11.5, 12.0, 4.0, 27.0, 38.5, 23.5, 16.0, 71.0, 18.5, 35.5, 52.0, 67.5, 29.5, 57.5, 51.5, 40.5, 87.5, 40.5, 74.0, 91.5, 108.0, 73.5, 152.5, 112.0, 195.0, 159.5, 195.5, 97.0, 206.0, 170.0, 170.5, 203.0, 222.5, 221.0, 303.0, 284.0, 229.5, 290.0, 367.5, 364.0, 399.0, 296.0, 419.0, 351.5, 243.5, 334.0, 439.0, 247.5, 522.5, 426.5, 305.0, 420.5, 388.0, 493.5, 354.5, 445.0, 475.0, 359.5, 465.5, 463.0, 473.0, 577.5, 259.5, 346.0, 434.5, 296.0, 313.5, 602.5, 421.5, 356.5, 483.0, 316.0, 347.5, 296.0, 358.0, 439.5], \"yaxis\": \"y\"}, {\"marker\": {\"color\": \"#04E762\", \"size\": 15}, \"mode\": \"lines\", \"name\": \"Prediction\", \"showlegend\": false, \"type\": \"scatter\", \"xaxis\": \"x2\", \"y\": [58.807769775390625, 44.704612731933594, 47.620201110839844, 46.605010986328125, 41.14732360839844, 32.669532775878906, 30.643287658691406, 21.79546356201172, 16.056316375732422, 16.516132354736328, 16.03470802307129, 17.384918212890625, 17.796571731567383, 18.155162811279297, 17.93879508972168, 9.327560424804688, 18.088314056396484, 20.381607055664062, 15.82168960571289, 14.029011726379395, 12.43577766418457, 13.672682762145996, 17.53969955444336, 17.657833099365234, 14.389016151428223, 11.924781799316406, 17.45758819580078, 26.501455307006836, 21.82572364807129, 38.406227111816406, 57.69084167480469, 56.478546142578125, 76.83346557617188, 115.11060333251953, 133.35836791992188, 178.89625549316406, 214.76638793945312, 167.5861358642578, 183.47174072265625, 204.09854125976562, 208.1055450439453, 232.05014038085938, 245.2634735107422, 223.03616333007812, 251.6903839111328, 254.58604431152344, 264.80633544921875, 270.3187561035156, 271.4105224609375, 270.735595703125, 262.7366027832031, 270.4947509765625, 271.9386291503906, 272.3310241699219, 272.4087829589844, 272.4232482910156, 272.2289733886719, 272.38079833984375, 272.41925048828125, 272.42626953125, 272.42578125, 272.4273376464844, 272.427490234375, 272.427490234375, 272.4275207519531, 272.4275207519531, 272.4275207519531, 272.4275207519531, 272.4275207519531, 272.427490234375, 272.42755126953125, 272.4275207519531, 272.4275207519531, 272.4275207519531, 272.4275207519531, 272.4275207519531, 272.4275207519531, 272.42755126953125, 272.4275207519531, 272.427490234375, 272.42755126953125, 272.427490234375, 272.4274597167969, 272.4275207519531, 272.42755126953125, 272.4275207519531, 272.42755126953125, 272.42755126953125, 272.42364501953125, 272.4275207519531, 272.4275207519531, 272.4275207519531, 272.42755126953125, 272.42657470703125, 272.42742919921875, 272.4267272949219, 272.4273986816406, 272.42724609375, 272.427490234375, 272.42724609375], \"yaxis\": \"y2\"}, {\"marker\": {\"color\": \"#F5B700\", \"size\": 3}, \"mode\": \"markers\", \"name\": \"Actual\", \"showlegend\": false, \"type\": \"scatter\", \"xaxis\": \"x2\", \"y\": [40.5, 81.0, 46.0, 24.0, 49.5, 13.5, 4.5, 11.0, 20.5, 29.0, 27.5, 20.5, 22.5, 5.0, 3.5, 17.5, 17.5, 10.5, 10.5, 6.0, 16.5, 16.5, 14.0, 6.5, 6.5, 25.0, 30.0, 13.5, 47.0, 94.0, 26.5, 57.5, 94.0, 78.5, 124.0, 161.0, 97.0, 160.0, 135.5, 139.5, 179.5, 189.5, 149.5, 218.0, 245.5, 343.5, 281.0, 336.0, 287.0, 259.5, 482.5, 398.0, 524.5, 523.5, 501.5, 304.0, 430.5, 547.0, 595.5, 430.0, 616.5, 669.5, 507.0, 702.5, 734.5, 724.5, 505.5, 760.0, 792.5, 642.5, 736.5, 766.5, 767.5, 671.0, 736.5, 719.5, 565.0, 648.5, 790.5, 643.0, 845.5, 853.5, 658.0, 584.0, 695.0, 608.5, 609.5, 378.5, 570.5, 632.0, 695.0, 579.5, 417.5, 488.0, 427.5, 495.0, 468.0, 656.0, 455.0, 538.5], \"yaxis\": \"y2\"}],\n",
              "                        {\"annotations\": [{\"font\": {\"size\": 16}, \"showarrow\": false, \"text\": \"Train\", \"x\": 0.225, \"xanchor\": \"center\", \"xref\": \"paper\", \"y\": 1.0, \"yanchor\": \"bottom\", \"yref\": \"paper\"}, {\"font\": {\"size\": 16}, \"showarrow\": false, \"text\": \"Test\", \"x\": 0.775, \"xanchor\": \"center\", \"xref\": \"paper\", \"y\": 1.0, \"yanchor\": \"bottom\", \"yref\": \"paper\"}], \"height\": 400, \"template\": {\"data\": {\"bar\": [{\"error_x\": {\"color\": \"#2a3f5f\"}, \"error_y\": {\"color\": \"#2a3f5f\"}, \"marker\": {\"line\": {\"color\": \"#E5ECF6\", \"width\": 0.5}}, \"type\": \"bar\"}], \"barpolar\": [{\"marker\": {\"line\": {\"color\": \"#E5ECF6\", \"width\": 0.5}}, \"type\": \"barpolar\"}], \"carpet\": [{\"aaxis\": {\"endlinecolor\": \"#2a3f5f\", \"gridcolor\": \"white\", \"linecolor\": \"white\", \"minorgridcolor\": \"white\", \"startlinecolor\": \"#2a3f5f\"}, \"baxis\": {\"endlinecolor\": \"#2a3f5f\", \"gridcolor\": \"white\", \"linecolor\": \"white\", \"minorgridcolor\": \"white\", \"startlinecolor\": \"#2a3f5f\"}, \"type\": \"carpet\"}], \"choropleth\": [{\"colorbar\": {\"outlinewidth\": 0, \"ticks\": \"\"}, \"type\": \"choropleth\"}], \"contour\": [{\"colorbar\": {\"outlinewidth\": 0, \"ticks\": \"\"}, \"colorscale\": [[0.0, \"#0d0887\"], [0.1111111111111111, \"#46039f\"], [0.2222222222222222, \"#7201a8\"], [0.3333333333333333, \"#9c179e\"], [0.4444444444444444, \"#bd3786\"], [0.5555555555555556, \"#d8576b\"], [0.6666666666666666, \"#ed7953\"], [0.7777777777777778, \"#fb9f3a\"], [0.8888888888888888, \"#fdca26\"], [1.0, \"#f0f921\"]], \"type\": \"contour\"}], \"contourcarpet\": [{\"colorbar\": {\"outlinewidth\": 0, \"ticks\": \"\"}, \"type\": \"contourcarpet\"}], \"heatmap\": [{\"colorbar\": {\"outlinewidth\": 0, \"ticks\": \"\"}, \"colorscale\": [[0.0, \"#0d0887\"], [0.1111111111111111, \"#46039f\"], [0.2222222222222222, \"#7201a8\"], [0.3333333333333333, \"#9c179e\"], [0.4444444444444444, \"#bd3786\"], [0.5555555555555556, \"#d8576b\"], [0.6666666666666666, \"#ed7953\"], [0.7777777777777778, \"#fb9f3a\"], [0.8888888888888888, \"#fdca26\"], [1.0, \"#f0f921\"]], \"type\": \"heatmap\"}], \"heatmapgl\": [{\"colorbar\": {\"outlinewidth\": 0, \"ticks\": \"\"}, \"colorscale\": [[0.0, \"#0d0887\"], [0.1111111111111111, \"#46039f\"], [0.2222222222222222, \"#7201a8\"], [0.3333333333333333, \"#9c179e\"], [0.4444444444444444, \"#bd3786\"], [0.5555555555555556, \"#d8576b\"], [0.6666666666666666, \"#ed7953\"], [0.7777777777777778, \"#fb9f3a\"], [0.8888888888888888, \"#fdca26\"], [1.0, \"#f0f921\"]], \"type\": \"heatmapgl\"}], \"histogram\": [{\"marker\": {\"colorbar\": {\"outlinewidth\": 0, \"ticks\": \"\"}}, \"type\": \"histogram\"}], \"histogram2d\": [{\"colorbar\": {\"outlinewidth\": 0, \"ticks\": \"\"}, \"colorscale\": [[0.0, \"#0d0887\"], [0.1111111111111111, \"#46039f\"], [0.2222222222222222, \"#7201a8\"], [0.3333333333333333, \"#9c179e\"], [0.4444444444444444, \"#bd3786\"], [0.5555555555555556, \"#d8576b\"], [0.6666666666666666, \"#ed7953\"], [0.7777777777777778, \"#fb9f3a\"], [0.8888888888888888, \"#fdca26\"], [1.0, \"#f0f921\"]], \"type\": \"histogram2d\"}], \"histogram2dcontour\": [{\"colorbar\": {\"outlinewidth\": 0, \"ticks\": \"\"}, \"colorscale\": [[0.0, \"#0d0887\"], [0.1111111111111111, \"#46039f\"], [0.2222222222222222, \"#7201a8\"], [0.3333333333333333, \"#9c179e\"], [0.4444444444444444, \"#bd3786\"], [0.5555555555555556, \"#d8576b\"], [0.6666666666666666, \"#ed7953\"], [0.7777777777777778, \"#fb9f3a\"], [0.8888888888888888, \"#fdca26\"], [1.0, \"#f0f921\"]], \"type\": \"histogram2dcontour\"}], \"mesh3d\": [{\"colorbar\": {\"outlinewidth\": 0, \"ticks\": \"\"}, \"type\": \"mesh3d\"}], \"parcoords\": [{\"line\": {\"colorbar\": {\"outlinewidth\": 0, \"ticks\": \"\"}}, \"type\": \"parcoords\"}], \"pie\": [{\"automargin\": true, \"type\": \"pie\"}], \"scatter\": [{\"marker\": {\"colorbar\": {\"outlinewidth\": 0, \"ticks\": \"\"}}, \"type\": \"scatter\"}], \"scatter3d\": [{\"line\": {\"colorbar\": {\"outlinewidth\": 0, \"ticks\": \"\"}}, \"marker\": {\"colorbar\": {\"outlinewidth\": 0, \"ticks\": \"\"}}, \"type\": \"scatter3d\"}], \"scattercarpet\": [{\"marker\": {\"colorbar\": {\"outlinewidth\": 0, \"ticks\": \"\"}}, \"type\": \"scattercarpet\"}], \"scattergeo\": [{\"marker\": {\"colorbar\": {\"outlinewidth\": 0, \"ticks\": \"\"}}, \"type\": \"scattergeo\"}], \"scattergl\": [{\"marker\": {\"colorbar\": {\"outlinewidth\": 0, \"ticks\": \"\"}}, \"type\": \"scattergl\"}], \"scattermapbox\": [{\"marker\": {\"colorbar\": {\"outlinewidth\": 0, \"ticks\": \"\"}}, \"type\": \"scattermapbox\"}], \"scatterpolar\": [{\"marker\": {\"colorbar\": {\"outlinewidth\": 0, \"ticks\": \"\"}}, \"type\": \"scatterpolar\"}], \"scatterpolargl\": [{\"marker\": {\"colorbar\": {\"outlinewidth\": 0, \"ticks\": \"\"}}, \"type\": \"scatterpolargl\"}], \"scatterternary\": [{\"marker\": {\"colorbar\": {\"outlinewidth\": 0, \"ticks\": \"\"}}, \"type\": \"scatterternary\"}], \"surface\": [{\"colorbar\": {\"outlinewidth\": 0, \"ticks\": \"\"}, \"colorscale\": [[0.0, \"#0d0887\"], [0.1111111111111111, \"#46039f\"], [0.2222222222222222, \"#7201a8\"], [0.3333333333333333, \"#9c179e\"], [0.4444444444444444, \"#bd3786\"], [0.5555555555555556, \"#d8576b\"], [0.6666666666666666, \"#ed7953\"], [0.7777777777777778, \"#fb9f3a\"], [0.8888888888888888, \"#fdca26\"], [1.0, \"#f0f921\"]], \"type\": \"surface\"}], \"table\": [{\"cells\": {\"fill\": {\"color\": \"#EBF0F8\"}, \"line\": {\"color\": \"white\"}}, \"header\": {\"fill\": {\"color\": \"#C8D4E3\"}, \"line\": {\"color\": \"white\"}}, \"type\": \"table\"}]}, \"layout\": {\"annotationdefaults\": {\"arrowcolor\": \"#2a3f5f\", \"arrowhead\": 0, \"arrowwidth\": 1}, \"coloraxis\": {\"colorbar\": {\"outlinewidth\": 0, \"ticks\": \"\"}}, \"colorscale\": {\"diverging\": [[0, \"#8e0152\"], [0.1, \"#c51b7d\"], [0.2, \"#de77ae\"], [0.3, \"#f1b6da\"], [0.4, \"#fde0ef\"], [0.5, \"#f7f7f7\"], [0.6, \"#e6f5d0\"], [0.7, \"#b8e186\"], [0.8, \"#7fbc41\"], [0.9, \"#4d9221\"], [1, \"#276419\"]], \"sequential\": [[0.0, \"#0d0887\"], [0.1111111111111111, \"#46039f\"], [0.2222222222222222, \"#7201a8\"], [0.3333333333333333, \"#9c179e\"], [0.4444444444444444, \"#bd3786\"], [0.5555555555555556, \"#d8576b\"], [0.6666666666666666, \"#ed7953\"], [0.7777777777777778, \"#fb9f3a\"], [0.8888888888888888, \"#fdca26\"], [1.0, \"#f0f921\"]], \"sequentialminus\": [[0.0, \"#0d0887\"], [0.1111111111111111, \"#46039f\"], [0.2222222222222222, \"#7201a8\"], [0.3333333333333333, \"#9c179e\"], [0.4444444444444444, \"#bd3786\"], [0.5555555555555556, \"#d8576b\"], [0.6666666666666666, \"#ed7953\"], [0.7777777777777778, \"#fb9f3a\"], [0.8888888888888888, \"#fdca26\"], [1.0, \"#f0f921\"]]}, \"colorway\": [\"#636efa\", \"#EF553B\", \"#00cc96\", \"#ab63fa\", \"#FFA15A\", \"#19d3f3\", \"#FF6692\", \"#B6E880\", \"#FF97FF\", \"#FECB52\"], \"font\": {\"color\": \"#2a3f5f\"}, \"geo\": {\"bgcolor\": \"white\", \"lakecolor\": \"white\", \"landcolor\": \"#E5ECF6\", \"showlakes\": true, \"showland\": true, \"subunitcolor\": \"white\"}, \"hoverlabel\": {\"align\": \"left\"}, \"hovermode\": \"closest\", \"mapbox\": {\"style\": \"light\"}, \"paper_bgcolor\": \"white\", \"plot_bgcolor\": \"#E5ECF6\", \"polar\": {\"angularaxis\": {\"gridcolor\": \"white\", \"linecolor\": \"white\", \"ticks\": \"\"}, \"bgcolor\": \"#E5ECF6\", \"radialaxis\": {\"gridcolor\": \"white\", \"linecolor\": \"white\", \"ticks\": \"\"}}, \"scene\": {\"xaxis\": {\"backgroundcolor\": \"#E5ECF6\", \"gridcolor\": \"white\", \"gridwidth\": 2, \"linecolor\": \"white\", \"showbackground\": true, \"ticks\": \"\", \"zerolinecolor\": \"white\"}, \"yaxis\": {\"backgroundcolor\": \"#E5ECF6\", \"gridcolor\": \"white\", \"gridwidth\": 2, \"linecolor\": \"white\", \"showbackground\": true, \"ticks\": \"\", \"zerolinecolor\": \"white\"}, \"zaxis\": {\"backgroundcolor\": \"#E5ECF6\", \"gridcolor\": \"white\", \"gridwidth\": 2, \"linecolor\": \"white\", \"showbackground\": true, \"ticks\": \"\", \"zerolinecolor\": \"white\"}}, \"shapedefaults\": {\"line\": {\"color\": \"#2a3f5f\"}}, \"ternary\": {\"aaxis\": {\"gridcolor\": \"white\", \"linecolor\": \"white\", \"ticks\": \"\"}, \"baxis\": {\"gridcolor\": \"white\", \"linecolor\": \"white\", \"ticks\": \"\"}, \"bgcolor\": \"#E5ECF6\", \"caxis\": {\"gridcolor\": \"white\", \"linecolor\": \"white\", \"ticks\": \"\"}}, \"title\": {\"x\": 0.05}, \"xaxis\": {\"automargin\": true, \"gridcolor\": \"white\", \"linecolor\": \"white\", \"ticks\": \"\", \"title\": {\"standoff\": 15}, \"zerolinecolor\": \"white\", \"zerolinewidth\": 2}, \"yaxis\": {\"automargin\": true, \"gridcolor\": \"white\", \"linecolor\": \"white\", \"ticks\": \"\", \"title\": {\"standoff\": 15}, \"zerolinecolor\": \"white\", \"zerolinewidth\": 2}}}, \"title\": {\"text\": \"Model performance of time step trained\"}, \"width\": 600, \"xaxis\": {\"anchor\": \"y\", \"domain\": [0.0, 0.45], \"title\": {\"text\": \"Time Step\"}}, \"xaxis2\": {\"anchor\": \"y2\", \"domain\": [0.55, 1.0], \"title\": {\"text\": \"Time Step\"}}, \"yaxis\": {\"anchor\": \"x\", \"domain\": [0.0, 1.0], \"title\": {\"text\": \"RMSE Predicting\"}}, \"yaxis2\": {\"anchor\": \"x2\", \"domain\": [0.0, 1.0], \"matches\": \"y\", \"showticklabels\": false}},\n",
              "                        {\"scrollZoom\": false, \"displayModeBar\": true, \"showTips\": false, \"responsive\": true}\n",
              "                    ).then(function(){\n",
              "                            \n",
              "var gd = document.getElementById('9280afd5-070b-4e32-b946-2c75af9fc830');\n",
              "var x = new MutationObserver(function (mutations, observer) {{\n",
              "        var display = window.getComputedStyle(gd).display;\n",
              "        if (!display || display === 'none') {{\n",
              "            console.log([gd, 'removed!']);\n",
              "            Plotly.purge(gd);\n",
              "            observer.disconnect();\n",
              "        }}\n",
              "}});\n",
              "\n",
              "// Listen for the removal of the full notebook cells\n",
              "var notebookContainer = gd.closest('#notebook-container');\n",
              "if (notebookContainer) {{\n",
              "    x.observe(notebookContainer, {childList: true});\n",
              "}}\n",
              "\n",
              "// Listen for the clearing of the current output cell\n",
              "var outputEl = gd.closest('.output');\n",
              "if (outputEl) {{\n",
              "    x.observe(outputEl, {childList: true});\n",
              "}}\n",
              "\n",
              "                        })\n",
              "                };\n",
              "                \n",
              "            </script>\n",
              "        </div>\n",
              "</body>\n",
              "</html>"
            ]
          },
          "metadata": {
            "tags": []
          }
        }
      ]
    },
    {
      "cell_type": "code",
      "metadata": {
        "id": "U-ZRN2tBgq_s",
        "colab": {
          "base_uri": "https://localhost:8080/"
        },
        "outputId": "7c966281-bbf2-4e20-eaaa-24bff6c4c1e1"
      },
      "source": [
        "model_three, history_three, scaler, X_train, X_test, y_train, y_test = vanilla_lstm(train_237.fare_amount, test_237.fare_amount,12, 60, 100, True)\r\n",
        "# Tính độ đo Rmse của 2 tập train và test sau khi sacler về dạng 0 - 1\r\n",
        "print(\"RMSE_train:{}, RMSE_test:{}\".format(history_three.history[\"rmse\"][-1], history_three.history['val_rmse'][-1]))"
      ],
      "execution_count": 264,
      "outputs": [
        {
          "output_type": "stream",
          "text": [
            "(8628, 12, 1) (8628, 1) (4452, 12, 1) (4452, 1)\n",
            "RMSE_train:0.04043302312493324, RMSE_test:0.028790658339858055\n"
          ],
          "name": "stdout"
        }
      ]
    },
    {
      "cell_type": "code",
      "metadata": {
        "colab": {
          "base_uri": "https://localhost:8080/"
        },
        "id": "SXYTPBHUUFiq",
        "outputId": "a79a0eba-4cbe-4f24-f968-31385c2fa571"
      },
      "source": [
        "# Chuyển về độ do thật\r\n",
        "rmse_t =  scaler.inverse_transform(np.array(history_three.history[\"rmse\"][-1]).reshape(-1,1)).flatten()\r\n",
        "vrmse_t =  scaler.inverse_transform(np.array(history_three.history[\"val_rmse\"][-1]).reshape(-1,1)).flatten()\r\n",
        "print(\"RMSE_train_final:{}, RMSE_test_final:{}\".format(rmse_t, vrmse_t))"
      ],
      "execution_count": 265,
      "outputs": [
        {
          "output_type": "stream",
          "text": [
            "RMSE_train_final:[71.70111908], RMSE_test_final:[51.77521175]\n"
          ],
          "name": "stdout"
        }
      ]
    },
    {
      "cell_type": "code",
      "metadata": {
        "colab": {
          "base_uri": "https://localhost:8080/",
          "height": 488
        },
        "id": "oqydkrdRvVIz",
        "outputId": "f5d47be1-bb5a-4eb6-e6dc-cf880140121d"
      },
      "source": [
        "plot_predictions(model_three, X_train, y_train, X_test, y_test, limit=100)"
      ],
      "execution_count": 266,
      "outputs": [
        {
          "output_type": "display_data",
          "data": {
            "text/html": [
              "<script src=\"/static/components/requirejs/require.js\"></script><script>requirejs.config({paths: {base: '/static/base',plotly: 'https://cdn.plot.ly/plotly-latest.min.js?noext',},});</script>"
            ],
            "text/plain": [
              "<IPython.core.display.HTML object>"
            ]
          },
          "metadata": {
            "tags": []
          }
        },
        {
          "output_type": "stream",
          "text": [
            "/usr/local/lib/python3.6/dist-packages/plotly/tools.py:465: DeprecationWarning:\n",
            "\n",
            "plotly.tools.make_subplots is deprecated, please use plotly.subplots.make_subplots instead\n",
            "\n"
          ],
          "name": "stderr"
        },
        {
          "output_type": "display_data",
          "data": {
            "text/html": [
              "<html>\n",
              "<head><meta charset=\"utf-8\" /></head>\n",
              "<body>\n",
              "    <div>\n",
              "            <script src=\"https://cdnjs.cloudflare.com/ajax/libs/mathjax/2.7.5/MathJax.js?config=TeX-AMS-MML_SVG\"></script><script type=\"text/javascript\">if (window.MathJax) {MathJax.Hub.Config({SVG: {font: \"STIX-Web\"}});}</script>\n",
              "                <script type=\"text/javascript\">window.PlotlyConfig = {MathJaxConfig: 'local'};</script>\n",
              "        <script src=\"https://cdn.plot.ly/plotly-latest.min.js\"></script>    \n",
              "            <div id=\"225ab4c0-ae38-4406-ada7-fa89b80212aa\" class=\"plotly-graph-div\" style=\"height:400px; width:600px;\"></div>\n",
              "            <script type=\"text/javascript\">\n",
              "                \n",
              "                    window.PLOTLYENV=window.PLOTLYENV || {};\n",
              "                    \n",
              "                if (document.getElementById(\"225ab4c0-ae38-4406-ada7-fa89b80212aa\")) {\n",
              "                    Plotly.newPlot(\n",
              "                        '225ab4c0-ae38-4406-ada7-fa89b80212aa',\n",
              "                        [{\"marker\": {\"color\": \"#04E762\", \"size\": 15}, \"mode\": \"lines\", \"name\": \"Prediction\", \"type\": \"scatter\", \"xaxis\": \"x\", \"y\": [0.33584898710250854, 0.26879966259002686, 0.20445485413074493, 0.18399421870708466, 0.15243256092071533, 0.11478245258331299, 0.08751553297042847, 0.0510551854968071, 0.05091772973537445, 0.055314451456069946, 0.04703877121210098, 0.04547099024057388, 0.020695455372333527, 0.0146151352673769, 0.0004833340644836426, -0.004925087094306946, -0.01377677172422409, -0.011598154902458191, -0.0025002360343933105, 0.008060533553361893, -0.0023938268423080444, -0.006726957857608795, -0.010845914483070374, 0.00048615410923957825, -0.007462982088327408, -0.011396721005439758, -0.013213101774454117, -0.01705903932452202, -0.00901450589299202, 7.211044430732727e-05, -0.0009668357670307159, -0.0045717135071754456, 0.016404343768954277, 0.005391912534832954, 0.006992647424340248, 0.01432764157652855, 0.02427905797958374, 0.012820297852158546, 0.01830558478832245, 0.018263548612594604, 0.013644544407725334, 0.030619274824857712, 0.019206607714295387, 0.027052177116274834, 0.03852780908346176, 0.05024868994951248, 0.04225882887840271, 0.07113656401634216, 0.06930415332317352, 0.10169322788715363, 0.10372611880302429, 0.11944350600242615, 0.08549879491329193, 0.11161819100379944, 0.10517522692680359, 0.09922026097774506, 0.10495127737522125, 0.11210285127162933, 0.11350595951080322, 0.14537310600280762, 0.15636655688285828, 0.1484338790178299, 0.16567812860012054, 0.19964340329170227, 0.21244870126247406, 0.22848834097385406, 0.20078438520431519, 0.2285274714231491, 0.22223223745822906, 0.18426324427127838, 0.1898384392261505, 0.22103917598724365, 0.17692767083644867, 0.23676420748233795, 0.24165281653404236, 0.21132396161556244, 0.2339807152748108, 0.23707474768161774, 0.27036988735198975, 0.24096454679965973, 0.2505381107330322, 0.2671363353729248, 0.24253004789352417, 0.26045912504196167, 0.27130454778671265, 0.277812123298645, 0.30997586250305176, 0.23637770116329193, 0.22338148951530457, 0.24218198657035828, 0.20706726610660553, 0.18879340589046478, 0.2664330303668976, 0.2520536184310913, 0.2275341898202896, 0.25828856229782104, 0.2308599352836609, 0.22526153922080994, 0.19822831451892853, 0.19979976117610931], \"yaxis\": \"y\"}, {\"marker\": {\"color\": \"#F5B700\", \"size\": 3}, \"mode\": \"markers\", \"name\": \"Actual\", \"type\": \"scatter\", \"xaxis\": \"x\", \"y\": [0.22611744084136723, 0.1749926964650891, 0.2030382705229331, 0.15366637452527024, 0.11247443762781185, 0.09465381244522349, 0.042068361086765996, 0.079462459830558, 0.081799591002045, 0.060765410458661996, 0.07011393514460999, 0.019573473561203623, 0.03593339176161262, 0.010809231668127374, 0.016652059596844872, 0.0052585451358457495, 0.014899211218229621, 0.02600058428279287, 0.03680981595092025, 0.008764241893076247, 0.007887817703768623, 0.0037978381536663748, 0.023371311714869995, 0.004089979550102249, 0.0052585451358457495, 0.005550686532281624, 0.0008764241893076249, 0.014314928425357872, 0.021034180543382998, 0.012269938650306747, 0.007887817703768623, 0.04002337131171487, 0.009348524685947998, 0.019281332164767746, 0.02892199824715162, 0.03797838153666375, 0.015775635407537247, 0.032135553607946246, 0.028629856850715747, 0.022202746129126497, 0.04966403739409875, 0.022202746129126497, 0.04177621969033012, 0.052001168565585745, 0.061641834647969615, 0.04148407829389424, 0.0876424189307625, 0.06397896581945661, 0.11247443762781185, 0.09173239848086474, 0.11276657902424773, 0.05521472392638037, 0.11890154834940111, 0.09786736780601811, 0.09815950920245399, 0.11714869997078586, 0.12854221443178498, 0.12766579024247734, 0.17557697925796084, 0.1644756061933976, 0.13263219398188722, 0.1679813029506281, 0.2132632193981887, 0.2112182296231376, 0.23166812737364884, 0.1714869997078586, 0.24335378323108384, 0.20391469471224072, 0.14081215308209172, 0.1936897458369851, 0.25503943908851884, 0.14314928425357873, 0.30382705229331, 0.24773590417762195, 0.17674554484370436, 0.24423020742039148, 0.2252410166520596, 0.2868828513000292, 0.20566754309085597, 0.25854513584574934, 0.27607361963190186, 0.2085889570552147, 0.2705229330996202, 0.26906222611744085, 0.27490505404615834, 0.3359626059012562, 0.15016067776803974, 0.2007011393514461, 0.25241016652059595, 0.1714869997078586, 0.18171194858311424, 0.3505696757230499, 0.2448144902132632, 0.20683610867659946, 0.2807478819748758, 0.1831726555652936, 0.2015775635407537, 0.1714869997078586, 0.2077125328659071, 0.2553315804849547], \"yaxis\": \"y\"}, {\"marker\": {\"color\": \"#04E762\", \"size\": 15}, \"mode\": \"lines\", \"name\": \"Prediction\", \"showlegend\": false, \"type\": \"scatter\", \"xaxis\": \"x2\", \"y\": [0.022300854325294495, 0.008724484592676163, 0.015688205137848854, 0.008898954838514328, -0.0019912458956241608, 0.0019414722919464111, -0.008153218775987625, -0.01635138690471649, -0.01749616488814354, -0.013610165566205978, -0.007665984332561493, -0.004727691411972046, -0.005908701568841934, -0.005185320973396301, -0.011174667626619339, -0.015094298869371414, -0.01142069324851036, -0.009875860065221786, -0.01202647015452385, -0.01299060508608818, -0.015086140483617783, -0.011512946337461472, -0.009478509426116943, -0.00944942981004715, -0.01271367073059082, -0.014596451073884964, -0.007662344723939896, -0.0018510408699512482, -0.005784083157777786, 0.006140995770692825, 0.03205849975347519, 0.016927314922213554, 0.022378142923116684, 0.04041532054543495, 0.04298274219036102, 0.06313812732696533, 0.0881023108959198, 0.07267774641513824, 0.09136331081390381, 0.08940817415714264, 0.08876627683639526, 0.1037224531173706, 0.11305367946624756, 0.09552356600761414, 0.11205071210861206, 0.12985938787460327, 0.17404763400554657, 0.17649902403354645, 0.20365560054779053, 0.1985357701778412, 0.18623961508274078, 0.2524574100971222, 0.24876271188259125, 0.28192928433418274, 0.2945490777492523, 0.29996156692504883, 0.25140583515167236, 0.26691773533821106, 0.30294403433799744, 0.32988929748535156, 0.28995785117149353, 0.32647159695625305, 0.36163219809532166, 0.3359602987766266, 0.3833763897418976, 0.4133366346359253, 0.42394357919692993, 0.3725743889808655, 0.42198866605758667, 0.45025381445884705, 0.4222867488861084, 0.4371156394481659, 0.4509936273097992, 0.4592610001564026, 0.43795934319496155, 0.4460211396217346, 0.4436893165111542, 0.39836862683296204, 0.39713671803474426, 0.4350428283214569, 0.41211387515068054, 0.46026691794395447, 0.48404890298843384, 0.44587135314941406, 0.4116484820842743, 0.422009140253067, 0.3971278965473175, 0.3823961615562439, 0.30419185757637024, 0.316418319940567, 0.34504082798957825, 0.3795320987701416, 0.3618156909942627, 0.30907970666885376, 0.30480778217315674, 0.2828978896141052, 0.2878601551055908, 0.28092053532600403, 0.3326520323753357, 0.2990892827510834], \"yaxis\": \"y2\"}, {\"marker\": {\"color\": \"#F5B700\", \"size\": 3}, \"mode\": \"markers\", \"name\": \"Actual\", \"showlegend\": false, \"type\": \"scatter\", \"xaxis\": \"x2\", \"y\": [0.022202746129126497, 0.04586619924043237, 0.02541630148992112, 0.012562080046742623, 0.027461291264972244, 0.006427110721589248, 0.0011685655857435, 0.004966403739409875, 0.010517090271691497, 0.015483494011101374, 0.014607069821793748, 0.010517090271691497, 0.011685655857434998, 0.0014607069821793747, 0.0005842827928717498, 0.008764241893076247, 0.008764241893076247, 0.004674262342974, 0.004674262342974, 0.002044989775051125, 0.008179959100204498, 0.008179959100204498, 0.006719252118025123, 0.0023371311714869996, 0.0023371311714869996, 0.013146362839614373, 0.016067776803973123, 0.006427110721589248, 0.02600058428279287, 0.05346187554776512, 0.014022787028921997, 0.032135553607946246, 0.05346187554776512, 0.04440549225825299, 0.07099035933391762, 0.09260882267017237, 0.05521472392638037, 0.09202453987730061, 0.07770961145194274, 0.08004674262342974, 0.10341805433829973, 0.10926088226701723, 0.08588957055214724, 0.12591294186386212, 0.14198071866783524, 0.19924043236926672, 0.16272275781478235, 0.1948583114227286, 0.16622845457201285, 0.15016067776803974, 0.28045574057843997, 0.2310838445807771, 0.30499561787905344, 0.3044113350861817, 0.2915571136430032, 0.1761612620508326, 0.25007303534910896, 0.31814198071866784, 0.3464796961729477, 0.2497808939526731, 0.35874963482325445, 0.3897166228454572, 0.29477066900379784, 0.40899795501022496, 0.42769500438212094, 0.42185217645340345, 0.2938942448144902, 0.44259421560035056, 0.46158340636868245, 0.3739409874379199, 0.42886356996786446, 0.4463920537540169, 0.4469763365468887, 0.39059304703476483, 0.42886356996786446, 0.4189307624890447, 0.32865907099035935, 0.37744668419515043, 0.46041484078293893, 0.37423312883435583, 0.49255039439088516, 0.4972246567338592, 0.38299737072743206, 0.33976044405492256, 0.4046158340636868, 0.3540753724802804, 0.3546596552731522, 0.21969033011977795, 0.33187262635115394, 0.3678060181127666, 0.4046158340636868, 0.3371311714869997, 0.24247735904177622, 0.28366929593923457, 0.2483201869704937, 0.28775927548933683, 0.2719836400817996, 0.38182880514168854, 0.2643879637744668, 0.31317557697925796], \"yaxis\": \"y2\"}],\n",
              "                        {\"annotations\": [{\"font\": {\"size\": 16}, \"showarrow\": false, \"text\": \"Train\", \"x\": 0.225, \"xanchor\": \"center\", \"xref\": \"paper\", \"y\": 1.0, \"yanchor\": \"bottom\", \"yref\": \"paper\"}, {\"font\": {\"size\": 16}, \"showarrow\": false, \"text\": \"Test\", \"x\": 0.775, \"xanchor\": \"center\", \"xref\": \"paper\", \"y\": 1.0, \"yanchor\": \"bottom\", \"yref\": \"paper\"}], \"height\": 400, \"template\": {\"data\": {\"bar\": [{\"error_x\": {\"color\": \"#2a3f5f\"}, \"error_y\": {\"color\": \"#2a3f5f\"}, \"marker\": {\"line\": {\"color\": \"#E5ECF6\", \"width\": 0.5}}, \"type\": \"bar\"}], \"barpolar\": [{\"marker\": {\"line\": {\"color\": \"#E5ECF6\", \"width\": 0.5}}, \"type\": \"barpolar\"}], \"carpet\": [{\"aaxis\": {\"endlinecolor\": \"#2a3f5f\", \"gridcolor\": \"white\", \"linecolor\": \"white\", \"minorgridcolor\": \"white\", \"startlinecolor\": \"#2a3f5f\"}, \"baxis\": {\"endlinecolor\": \"#2a3f5f\", \"gridcolor\": \"white\", \"linecolor\": \"white\", \"minorgridcolor\": \"white\", \"startlinecolor\": \"#2a3f5f\"}, \"type\": \"carpet\"}], \"choropleth\": [{\"colorbar\": {\"outlinewidth\": 0, \"ticks\": \"\"}, \"type\": \"choropleth\"}], \"contour\": [{\"colorbar\": {\"outlinewidth\": 0, \"ticks\": \"\"}, \"colorscale\": [[0.0, \"#0d0887\"], [0.1111111111111111, \"#46039f\"], [0.2222222222222222, \"#7201a8\"], [0.3333333333333333, \"#9c179e\"], [0.4444444444444444, \"#bd3786\"], [0.5555555555555556, \"#d8576b\"], [0.6666666666666666, \"#ed7953\"], [0.7777777777777778, \"#fb9f3a\"], [0.8888888888888888, \"#fdca26\"], [1.0, \"#f0f921\"]], \"type\": \"contour\"}], \"contourcarpet\": [{\"colorbar\": {\"outlinewidth\": 0, \"ticks\": \"\"}, \"type\": \"contourcarpet\"}], \"heatmap\": [{\"colorbar\": {\"outlinewidth\": 0, \"ticks\": \"\"}, \"colorscale\": [[0.0, \"#0d0887\"], [0.1111111111111111, \"#46039f\"], [0.2222222222222222, \"#7201a8\"], [0.3333333333333333, \"#9c179e\"], [0.4444444444444444, \"#bd3786\"], [0.5555555555555556, \"#d8576b\"], [0.6666666666666666, \"#ed7953\"], [0.7777777777777778, \"#fb9f3a\"], [0.8888888888888888, \"#fdca26\"], [1.0, \"#f0f921\"]], \"type\": \"heatmap\"}], \"heatmapgl\": [{\"colorbar\": {\"outlinewidth\": 0, \"ticks\": \"\"}, \"colorscale\": [[0.0, \"#0d0887\"], [0.1111111111111111, \"#46039f\"], [0.2222222222222222, \"#7201a8\"], [0.3333333333333333, \"#9c179e\"], [0.4444444444444444, \"#bd3786\"], [0.5555555555555556, \"#d8576b\"], [0.6666666666666666, \"#ed7953\"], [0.7777777777777778, \"#fb9f3a\"], [0.8888888888888888, \"#fdca26\"], [1.0, \"#f0f921\"]], \"type\": \"heatmapgl\"}], \"histogram\": [{\"marker\": {\"colorbar\": {\"outlinewidth\": 0, \"ticks\": \"\"}}, \"type\": \"histogram\"}], \"histogram2d\": [{\"colorbar\": {\"outlinewidth\": 0, \"ticks\": \"\"}, \"colorscale\": [[0.0, \"#0d0887\"], [0.1111111111111111, \"#46039f\"], [0.2222222222222222, \"#7201a8\"], [0.3333333333333333, \"#9c179e\"], [0.4444444444444444, \"#bd3786\"], [0.5555555555555556, \"#d8576b\"], [0.6666666666666666, \"#ed7953\"], [0.7777777777777778, \"#fb9f3a\"], [0.8888888888888888, \"#fdca26\"], [1.0, \"#f0f921\"]], \"type\": \"histogram2d\"}], \"histogram2dcontour\": [{\"colorbar\": {\"outlinewidth\": 0, \"ticks\": \"\"}, \"colorscale\": [[0.0, \"#0d0887\"], [0.1111111111111111, \"#46039f\"], [0.2222222222222222, \"#7201a8\"], [0.3333333333333333, \"#9c179e\"], [0.4444444444444444, \"#bd3786\"], [0.5555555555555556, \"#d8576b\"], [0.6666666666666666, \"#ed7953\"], [0.7777777777777778, \"#fb9f3a\"], [0.8888888888888888, \"#fdca26\"], [1.0, \"#f0f921\"]], \"type\": \"histogram2dcontour\"}], \"mesh3d\": [{\"colorbar\": {\"outlinewidth\": 0, \"ticks\": \"\"}, \"type\": \"mesh3d\"}], \"parcoords\": [{\"line\": {\"colorbar\": {\"outlinewidth\": 0, \"ticks\": \"\"}}, \"type\": \"parcoords\"}], \"pie\": [{\"automargin\": true, \"type\": \"pie\"}], \"scatter\": [{\"marker\": {\"colorbar\": {\"outlinewidth\": 0, \"ticks\": \"\"}}, \"type\": \"scatter\"}], \"scatter3d\": [{\"line\": {\"colorbar\": {\"outlinewidth\": 0, \"ticks\": \"\"}}, \"marker\": {\"colorbar\": {\"outlinewidth\": 0, \"ticks\": \"\"}}, \"type\": \"scatter3d\"}], \"scattercarpet\": [{\"marker\": {\"colorbar\": {\"outlinewidth\": 0, \"ticks\": \"\"}}, \"type\": \"scattercarpet\"}], \"scattergeo\": [{\"marker\": {\"colorbar\": {\"outlinewidth\": 0, \"ticks\": \"\"}}, \"type\": \"scattergeo\"}], \"scattergl\": [{\"marker\": {\"colorbar\": {\"outlinewidth\": 0, \"ticks\": \"\"}}, \"type\": \"scattergl\"}], \"scattermapbox\": [{\"marker\": {\"colorbar\": {\"outlinewidth\": 0, \"ticks\": \"\"}}, \"type\": \"scattermapbox\"}], \"scatterpolar\": [{\"marker\": {\"colorbar\": {\"outlinewidth\": 0, \"ticks\": \"\"}}, \"type\": \"scatterpolar\"}], \"scatterpolargl\": [{\"marker\": {\"colorbar\": {\"outlinewidth\": 0, \"ticks\": \"\"}}, \"type\": \"scatterpolargl\"}], \"scatterternary\": [{\"marker\": {\"colorbar\": {\"outlinewidth\": 0, \"ticks\": \"\"}}, \"type\": \"scatterternary\"}], \"surface\": [{\"colorbar\": {\"outlinewidth\": 0, \"ticks\": \"\"}, \"colorscale\": [[0.0, \"#0d0887\"], [0.1111111111111111, \"#46039f\"], [0.2222222222222222, \"#7201a8\"], [0.3333333333333333, \"#9c179e\"], [0.4444444444444444, \"#bd3786\"], [0.5555555555555556, \"#d8576b\"], [0.6666666666666666, \"#ed7953\"], [0.7777777777777778, \"#fb9f3a\"], [0.8888888888888888, \"#fdca26\"], [1.0, \"#f0f921\"]], \"type\": \"surface\"}], \"table\": [{\"cells\": {\"fill\": {\"color\": \"#EBF0F8\"}, \"line\": {\"color\": \"white\"}}, \"header\": {\"fill\": {\"color\": \"#C8D4E3\"}, \"line\": {\"color\": \"white\"}}, \"type\": \"table\"}]}, \"layout\": {\"annotationdefaults\": {\"arrowcolor\": \"#2a3f5f\", \"arrowhead\": 0, \"arrowwidth\": 1}, \"coloraxis\": {\"colorbar\": {\"outlinewidth\": 0, \"ticks\": \"\"}}, \"colorscale\": {\"diverging\": [[0, \"#8e0152\"], [0.1, \"#c51b7d\"], [0.2, \"#de77ae\"], [0.3, \"#f1b6da\"], [0.4, \"#fde0ef\"], [0.5, \"#f7f7f7\"], [0.6, \"#e6f5d0\"], [0.7, \"#b8e186\"], [0.8, \"#7fbc41\"], [0.9, \"#4d9221\"], [1, \"#276419\"]], \"sequential\": [[0.0, \"#0d0887\"], [0.1111111111111111, \"#46039f\"], [0.2222222222222222, \"#7201a8\"], [0.3333333333333333, \"#9c179e\"], [0.4444444444444444, \"#bd3786\"], [0.5555555555555556, \"#d8576b\"], [0.6666666666666666, \"#ed7953\"], [0.7777777777777778, \"#fb9f3a\"], [0.8888888888888888, \"#fdca26\"], [1.0, \"#f0f921\"]], \"sequentialminus\": [[0.0, \"#0d0887\"], [0.1111111111111111, \"#46039f\"], [0.2222222222222222, \"#7201a8\"], [0.3333333333333333, \"#9c179e\"], [0.4444444444444444, \"#bd3786\"], [0.5555555555555556, \"#d8576b\"], [0.6666666666666666, \"#ed7953\"], [0.7777777777777778, \"#fb9f3a\"], [0.8888888888888888, \"#fdca26\"], [1.0, \"#f0f921\"]]}, \"colorway\": [\"#636efa\", \"#EF553B\", \"#00cc96\", \"#ab63fa\", \"#FFA15A\", \"#19d3f3\", \"#FF6692\", \"#B6E880\", \"#FF97FF\", \"#FECB52\"], \"font\": {\"color\": \"#2a3f5f\"}, \"geo\": {\"bgcolor\": \"white\", \"lakecolor\": \"white\", \"landcolor\": \"#E5ECF6\", \"showlakes\": true, \"showland\": true, \"subunitcolor\": \"white\"}, \"hoverlabel\": {\"align\": \"left\"}, \"hovermode\": \"closest\", \"mapbox\": {\"style\": \"light\"}, \"paper_bgcolor\": \"white\", \"plot_bgcolor\": \"#E5ECF6\", \"polar\": {\"angularaxis\": {\"gridcolor\": \"white\", \"linecolor\": \"white\", \"ticks\": \"\"}, \"bgcolor\": \"#E5ECF6\", \"radialaxis\": {\"gridcolor\": \"white\", \"linecolor\": \"white\", \"ticks\": \"\"}}, \"scene\": {\"xaxis\": {\"backgroundcolor\": \"#E5ECF6\", \"gridcolor\": \"white\", \"gridwidth\": 2, \"linecolor\": \"white\", \"showbackground\": true, \"ticks\": \"\", \"zerolinecolor\": \"white\"}, \"yaxis\": {\"backgroundcolor\": \"#E5ECF6\", \"gridcolor\": \"white\", \"gridwidth\": 2, \"linecolor\": \"white\", \"showbackground\": true, \"ticks\": \"\", \"zerolinecolor\": \"white\"}, \"zaxis\": {\"backgroundcolor\": \"#E5ECF6\", \"gridcolor\": \"white\", \"gridwidth\": 2, \"linecolor\": \"white\", \"showbackground\": true, \"ticks\": \"\", \"zerolinecolor\": \"white\"}}, \"shapedefaults\": {\"line\": {\"color\": \"#2a3f5f\"}}, \"ternary\": {\"aaxis\": {\"gridcolor\": \"white\", \"linecolor\": \"white\", \"ticks\": \"\"}, \"baxis\": {\"gridcolor\": \"white\", \"linecolor\": \"white\", \"ticks\": \"\"}, \"bgcolor\": \"#E5ECF6\", \"caxis\": {\"gridcolor\": \"white\", \"linecolor\": \"white\", \"ticks\": \"\"}}, \"title\": {\"x\": 0.05}, \"xaxis\": {\"automargin\": true, \"gridcolor\": \"white\", \"linecolor\": \"white\", \"ticks\": \"\", \"title\": {\"standoff\": 15}, \"zerolinecolor\": \"white\", \"zerolinewidth\": 2}, \"yaxis\": {\"automargin\": true, \"gridcolor\": \"white\", \"linecolor\": \"white\", \"ticks\": \"\", \"title\": {\"standoff\": 15}, \"zerolinecolor\": \"white\", \"zerolinewidth\": 2}}}, \"title\": {\"text\": \"Model performance of time step trained\"}, \"width\": 600, \"xaxis\": {\"anchor\": \"y\", \"domain\": [0.0, 0.45], \"title\": {\"text\": \"Time Step\"}}, \"xaxis2\": {\"anchor\": \"y2\", \"domain\": [0.55, 1.0], \"title\": {\"text\": \"Time Step\"}}, \"yaxis\": {\"anchor\": \"x\", \"domain\": [0.0, 1.0], \"title\": {\"text\": \"RMSE Predicting\"}}, \"yaxis2\": {\"anchor\": \"x2\", \"domain\": [0.0, 1.0], \"matches\": \"y\", \"showticklabels\": false}},\n",
              "                        {\"scrollZoom\": false, \"displayModeBar\": true, \"showTips\": false, \"responsive\": true}\n",
              "                    ).then(function(){\n",
              "                            \n",
              "var gd = document.getElementById('225ab4c0-ae38-4406-ada7-fa89b80212aa');\n",
              "var x = new MutationObserver(function (mutations, observer) {{\n",
              "        var display = window.getComputedStyle(gd).display;\n",
              "        if (!display || display === 'none') {{\n",
              "            console.log([gd, 'removed!']);\n",
              "            Plotly.purge(gd);\n",
              "            observer.disconnect();\n",
              "        }}\n",
              "}});\n",
              "\n",
              "// Listen for the removal of the full notebook cells\n",
              "var notebookContainer = gd.closest('#notebook-container');\n",
              "if (notebookContainer) {{\n",
              "    x.observe(notebookContainer, {childList: true});\n",
              "}}\n",
              "\n",
              "// Listen for the clearing of the current output cell\n",
              "var outputEl = gd.closest('.output');\n",
              "if (outputEl) {{\n",
              "    x.observe(outputEl, {childList: true});\n",
              "}}\n",
              "\n",
              "                        })\n",
              "                };\n",
              "                \n",
              "            </script>\n",
              "        </div>\n",
              "</body>\n",
              "</html>"
            ]
          },
          "metadata": {
            "tags": []
          }
        }
      ]
    },
    {
      "cell_type": "markdown",
      "metadata": {
        "id": "pGuffKML2Ery"
      },
      "source": [
        "# DEPLOY MODEL\r\n",
        "- Tôi hiện tại vẫn chưa có nhiều ý tưởng việc này, nhưng trong tương lại có đủ thời gian, tôi nghĩ có thể làm tốt được phần này để cho giúp model của tôi sau khi train có thể phát triển hơn ở nhiều bài toán tương tự, cũng như ở nhiều bộ dữ liệu khác."
      ]
    },
    {
      "cell_type": "markdown",
      "metadata": {
        "id": "33dBtxQoFCDq"
      },
      "source": [
        "#CONCLUSION\r\n"
      ]
    },
    {
      "cell_type": "markdown",
      "metadata": {
        "id": "REnTApEE2Z1p"
      },
      "source": [
        "- Tôi giải quyết và thực hiện thành công của bài toán mình đã đặt ra là đã dự đoán được nhu cầu đi Taxi màu vàng của khách hàng của từng khu vực trong thành phố đạt hiệu suất rất cao.\r\n",
        "\r\n",
        "-  Ý tưởng ứng dụng bài toán này là: Chúng ta có thể cho bộ dữ liệu đầu vào của 2 hay nhiều hơn 2 khu vực, cho tất cả chúng training model, sau đó ta thu được kết quả hiệu suất dự đoán biến thiên của giá vé của mỗi khu vực với nhau trong cùng một khoảng thời gian cố định, cứ thể sau 10 phút/1 giờ người tài xế có thể đoán biết khu vực nào sẽ đông khách hay ít khách trong thời gian tiếp theo.\r\n",
        "- Vẫn còn chưa đủ thời gian nghiên cứu làm bước deploy, tương lai tôi sẽ làm và mở rộng ứng dụng của bài toán.\r\n"
      ]
    }
  ]
}